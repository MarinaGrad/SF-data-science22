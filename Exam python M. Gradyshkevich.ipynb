{
 "cells": [
  {
   "cell_type": "code",
   "execution_count": 3,
   "id": "6d8f92ea",
   "metadata": {
    "id": "6d8f92ea"
   },
   "outputs": [],
   "source": [
    "import numpy as np\n",
    "import pandas as pd"
   ]
  },
  {
   "cell_type": "markdown",
   "id": "f0453a1a",
   "metadata": {
    "id": "f0453a1a"
   },
   "source": [
    "### Задача 1 (3.5 балла)\n",
    "\n",
    "**Условие.** Напишите код, который:\n",
    "1. (*0.5 балла*) Принимает на вход слова с маленькой буквы, через запятую и пробел;\n",
    "2. (*2 балла*) Считает попарные расстояния (определенные как количество уникальных общих элементов деленное на количество уникальных элементов, находящихся в первой последовательности ИЛИ во второй последовательности) между ними (подсчет попарного расстояния должен быть оформлен в виде функции);\n",
    "3. (*1 балл*) Представляет результаты в виде словаря, в котором ключи - пары слов через `-`, а значения - собственно расстояние, математически округленное до второго знака после запятой."
   ]
  },
  {
   "cell_type": "code",
   "execution_count": null,
   "id": "df2cbad7",
   "metadata": {
    "id": "df2cbad7"
   },
   "outputs": [],
   "source": [
    "def word_distance_calculator():\n",
    "    text = input()\n",
    "    text_split = text.split(', ')\n",
    "    dict_distance = {}\n",
    "            \n",
    "    for i in range(len(text_split)):   \n",
    "        for j in range(i+1, len(text_split)):\n",
    "            unique_letter1 = set()\n",
    "            unique_letter2 = set()\n",
    "            for letter in text_split[i]:\n",
    "                if text_split[i].count(letter) > 1:\n",
    "                    continue\n",
    "                else:\n",
    "                    unique_letter1.add(letter)\n",
    "            for letter in text_split[j]:\n",
    "                if text_split[j].count(letter) > 1:\n",
    "                    continue\n",
    "                else:\n",
    "                    unique_letter2.add(letter)\n",
    "            print(unique_letter1, unique_letter2)\n",
    "            \n",
    "            distance_numerator = len(unique_letter1.intersection(unique_letter2))\n",
    "            distance_denominator = len(unique_letter1.symmetric_difference(unique_letter2)) +\\\n",
    "                len(unique_letter2.symmetric_difference(unique_letter1))        \n",
    "            distance = distance_numerator/distance_denominator\n",
    "            dict_distance[text_split[i] + '-' + text_split[j]] =  round(distance,2)\n",
    "            \n",
    "    return dict_distance\n",
    "        \n",
    "word_distance_calculator()"
   ]
  },
  {
   "cell_type": "markdown",
   "id": "1aade4f1",
   "metadata": {
    "id": "1aade4f1"
   },
   "source": [
    "### Задача 2 (3 балла)\n",
    "\n",
    "**Условие.** Как известно, полученные при построении ML-модели предсказания отличаются от фактических значений. Чтобы измерять такое отклонение, были придуманы несколько метрик. Наиболее популярные из них - MSE (mean squared error), RMSE (root mean squared error) и MAE (mean absolute error).\n",
    "\n",
    "Реализуйте функцию, которая будет принимать на вход `numpy.array` (формы (1, N) с предсказанными значениями, `numpy.array` реальными значениями и строку с обозначением нужной метрики (дефолтное значение - `'RMSE'`). Аббревиатура должна распознаваться как с большими буквами, так и с маленькими (`'RMSE'` и `'rmse'`). В случае, если строка не является аббревиатурой ни одной из трех обозначенных метрик, функция должна печатать \"Unknown metric selected\" и не возвращать ничего.\n",
    "\n",
    "Использование циклов, генераторов списков и функции `map()` запрещено - только инструменты `numpy`.\n",
    "\n",
    "<u>Критерии оценивания</u>: по одному баллу за каждую метрику.\n",
    "\n",
    "<u>Материалы</u>:\n",
    "\n",
    "![metrics](https://4.bp.blogspot.com/-wG7IbjTfE6k/XGUvqm7TCVI/AAAAAAAAAZU/vpH1kuKTIooKTcVlnm1EVRCXLVZM9cPNgCLcBGAs/s1600/formula-MAE-MSE-RMSE-RSquared.JPG)"
   ]
  },
  {
   "cell_type": "code",
   "execution_count": null,
   "id": "d6569c69",
   "metadata": {
    "id": "d6569c69"
   },
   "outputs": [],
   "source": [
    "# ваш код здесь"
   ]
  },
  {
   "cell_type": "markdown",
   "id": "f3b9d589",
   "metadata": {
    "id": "f3b9d589"
   },
   "source": [
    "### Задача 3 (3.5 балла)\n",
    "\n",
    "**Условие.** Вы имеете [данные](https://www.kaggle.com/datasets/spscientist/students-performance-in-exams) с Kaggle, которые содержат информацию о результатах студентов при написании разных тестов.\n",
    "\n",
    "**Описание колонок.**\n",
    "- `gender` (пол);\n",
    "- `race/ethnicity` (этническая принадлежность);\n",
    "- `parental level of education` (уровень образования родителей);\n",
    "- `lunch` (тип ланча - стандартный или урезанный/отсутствующий);\n",
    "- `test preparation course` (прошел ли студент подготовку к тесту);\n",
    "- `math score` (баллы за тест по математике);\n",
    "- `reading score` (баллы за чтение);\n",
    "- `writing score` (баллы за письмо).\n",
    "\n",
    "#### Задание 3.1 (0.25 баллов)\n",
    "Загрузите данные с помощью модуля `pandas`:"
   ]
  },
  {
   "cell_type": "code",
   "execution_count": 5,
   "id": "5beb4d15",
   "metadata": {
    "id": "5beb4d15"
   },
   "outputs": [],
   "source": [
    "test_results = pd.read_csv('StudentsPerformance.csv')"
   ]
  },
  {
   "cell_type": "markdown",
   "id": "214a9f66",
   "metadata": {
    "id": "214a9f66"
   },
   "source": [
    "#### Задание 3.2 (0.25 баллов)\n",
    "\n",
    "Проверьте, есть ли пропущенные значения, и если да, то удалите строки с таковыми:"
   ]
  },
  {
   "cell_type": "code",
   "execution_count": null,
   "id": "c975c460",
   "metadata": {
    "id": "c975c460"
   },
   "outputs": [],
   "source": [
    "test_results.info()\n",
    "test_results.dropna(inplace=True)"
   ]
  },
  {
   "cell_type": "markdown",
   "id": "6ce6596d",
   "metadata": {
    "id": "6ce6596d"
   },
   "source": [
    "#### Задание 3.3 (0.25 баллов)\n",
    "\n",
    "Измените названия всех переменных так, чтобы разделителем в них (вместо пробела или `'/'`) было нижнее подчеркивание:"
   ]
  },
  {
   "cell_type": "code",
   "execution_count": null,
   "id": "dd6fd47f",
   "metadata": {
    "id": "dd6fd47f"
   },
   "outputs": [],
   "source": [
    "test_results.head()"
   ]
  },
  {
   "cell_type": "code",
   "execution_count": 19,
   "id": "7c62faeb",
   "metadata": {
    "id": "7c62faeb"
   },
   "outputs": [],
   "source": [
    "test_results = test_results.rename({'race/ethnicity': 'race_ethnicity', \n",
    "                     'parental level of education': 'parental_level_of_education',\n",
    "                     'test preparation course': 'test_preparation_course',\n",
    "                     'math score': 'math_score', 'reading score': 'reading_score',\n",
    "                     'writing score': 'writing_score'}, axis=1)"
   ]
  },
  {
   "cell_type": "markdown",
   "id": "00ae2054",
   "metadata": {
    "id": "00ae2054"
   },
   "source": [
    "#### Задание 3.5 (1 балл)\n",
    "\n",
    "На основе данной колонки создайте новую переменную, которая будет называться `parents_higher_education` и принимать значение 0 при значениях исходной переменной (`'parental_level_of_education'`) `'high school'` и `'some high school'`, и 1 - в ином случае:"
   ]
  },
  {
   "cell_type": "code",
   "execution_count": 20,
   "id": "6783e2b4",
   "metadata": {
    "id": "6783e2b4"
   },
   "outputs": [],
   "source": [
    "test_results['parents_higher_education'] = test_results['parental_level_of_education'].apply(\n",
    "    lambda x: 0 if x == 'high school' or x == 'some high school' else 1)"
   ]
  },
  {
   "cell_type": "markdown",
   "id": "21609ab5",
   "metadata": {
    "id": "21609ab5"
   },
   "source": [
    "#### Задание 3.6 (1.5 баллов)\n",
    "\n",
    "Сгруппируйте результаты тестов по каждой категориальной переменной (с использованием метода `.groupby()`) и посчитайте среднее значение каждого теста по группам. Какие выводы можно сделать? "
   ]
  },
  {
   "cell_type": "code",
   "execution_count": null,
   "id": "6cb0540d",
   "metadata": {
    "id": "6cb0540d"
   },
   "outputs": [],
   "source": [
    "test_results.head()"
   ]
  },
  {
   "cell_type": "code",
   "execution_count": null,
   "id": "93fdbb5b",
   "metadata": {},
   "outputs": [],
   "source": [
    "grouped_results_gender = test_results.groupby(by='gender')[['math_score', 'reading_score',\t'writing_score']].mean().reset_index()\n",
    "grouped_results_gender"
   ]
  },
  {
   "cell_type": "code",
   "execution_count": null,
   "id": "52019953",
   "metadata": {},
   "outputs": [],
   "source": [
    "grouped_results_RE = test_results.groupby(by='race_ethnicity')[['math_score', 'reading_score',\t'writing_score']].mean().reset_index()\n",
    "grouped_results_RE"
   ]
  },
  {
   "cell_type": "code",
   "execution_count": null,
   "id": "1e81983a",
   "metadata": {},
   "outputs": [],
   "source": [
    "grouped_results_PLoE = test_results.groupby(by='parental_level_of_education')[['math_score', 'reading_score',\t'writing_score']].mean().reset_index()\n",
    "grouped_results_PLoE"
   ]
  },
  {
   "cell_type": "code",
   "execution_count": null,
   "id": "c86d4890",
   "metadata": {},
   "outputs": [],
   "source": [
    "grouped_results_lunch = test_results.groupby(by='lunch')[['math_score', 'reading_score',\t'writing_score']].mean().reset_index()\n",
    "grouped_results_lunch"
   ]
  },
  {
   "cell_type": "code",
   "execution_count": null,
   "id": "3158109b",
   "metadata": {},
   "outputs": [],
   "source": [
    "grouped_results_TPC = test_results.groupby(by='test_preparation_course')[['math_score', 'reading_score',\t'writing_score']].mean().reset_index()\n",
    "grouped_results_TPC"
   ]
  },
  {
   "cell_type": "code",
   "execution_count": null,
   "id": "503417eb",
   "metadata": {},
   "outputs": [],
   "source": [
    "grouped_results_PHE = test_results.groupby(by='parents_higher_education')[['math_score', 'reading_score',\t'writing_score']].mean().reset_index()\n",
    "grouped_results_PHE"
   ]
  }
 ],
 "metadata": {
  "colab": {
   "provenance": []
  },
  "kernelspec": {
   "display_name": "Python 3.9.10 64-bit",
   "language": "python",
   "name": "python3"
  },
  "language_info": {
   "codemirror_mode": {
    "name": "ipython",
    "version": 3
   },
   "file_extension": ".py",
   "mimetype": "text/x-python",
   "name": "python",
   "nbconvert_exporter": "python",
   "pygments_lexer": "ipython3",
   "version": "3.9.10"
  },
  "vscode": {
   "interpreter": {
    "hash": "8be91b611dbf82fc7c2195f7ad87c066fa09caee77a40ad7d16104ae6fa91d17"
   }
  }
 },
 "nbformat": 4,
 "nbformat_minor": 5
}
