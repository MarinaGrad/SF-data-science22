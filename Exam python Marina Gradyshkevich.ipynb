{
 "cells": [
  {
   "cell_type": "code",
   "execution_count": 2,
   "id": "6d8f92ea",
   "metadata": {
    "id": "6d8f92ea"
   },
   "outputs": [],
   "source": [
    "import numpy as np\n",
    "import pandas as pd"
   ]
  },
  {
   "cell_type": "markdown",
   "id": "f0453a1a",
   "metadata": {
    "id": "f0453a1a"
   },
   "source": [
    "### Задача 1 (3.5 балла)\n",
    "\n",
    "**Условие.** Напишите код, который:\n",
    "1. (*0.5 балла*) Принимает на вход слова с маленькой буквы, через запятую и пробел;\n",
    "2. (*2 балла*) Считает попарные расстояния (определенные как количество уникальных общих элементов деленное на количество уникальных элементов, находящихся в первой последовательности ИЛИ во второй последовательности) между ними (подсчет попарного расстояния должен быть оформлен в виде функции);\n",
    "3. (*1 балл*) Представляет результаты в виде словаря, в котором ключи - пары слов через `-`, а значения - собственно расстояние, математически округленное до второго знака после запятой."
   ]
  },
  {
   "cell_type": "code",
   "execution_count": null,
   "id": "df2cbad7",
   "metadata": {
    "id": "df2cbad7"
   },
   "outputs": [],
   "source": [
    "text = input()\n",
    "text_split = text.split(', ')\n",
    "\n",
    "def word_distance_calculator(text_split):\n",
    "    dict_distance = {}\n",
    "            \n",
    "    for i in range(len(text_split)):   \n",
    "        for j in range(i+1, len(text_split)):\n",
    "            unique_letter1 = set()\n",
    "            unique_letter2 = set()\n",
    "            for letter in text_split[i]:\n",
    "                if text_split[i].count(letter) > 1:\n",
    "                    continue\n",
    "                else:\n",
    "                    unique_letter1.add(letter)\n",
    "            for letter in text_split[j]:\n",
    "                if text_split[j].count(letter) > 1:\n",
    "                    continue\n",
    "                else:\n",
    "                    unique_letter2.add(letter)\n",
    "            print(unique_letter1, unique_letter2)\n",
    "            \n",
    "            distance_numerator = len(unique_letter1.intersection(unique_letter2))\n",
    "            distance_denominator = len(unique_letter1.symmetric_difference(unique_letter2)) +\\\n",
    "                len(unique_letter2.symmetric_difference(unique_letter1))        \n",
    "            distance = distance_numerator / distance_denominator\n",
    "            dict_distance[text_split[i] + '-' + text_split[j]] =  round(distance,2)\n",
    "            \n",
    "    return dict_distance\n",
    "        \n",
    "word_distance_calculator(text_split)"
   ]
  },
  {
   "cell_type": "markdown",
   "id": "1aade4f1",
   "metadata": {
    "id": "1aade4f1"
   },
   "source": [
    "### Задача 2 (3 балла)\n",
    "\n",
    "**Условие.** Как известно, полученные при построении ML-модели предсказания отличаются от фактических значений. Чтобы измерять такое отклонение, были придуманы несколько метрик. Наиболее популярные из них - MSE (mean squared error), RMSE (root mean squared error) и MAE (mean absolute error).\n",
    "\n",
    "Реализуйте функцию, которая будет принимать на вход `numpy.array` (формы (1, N) с предсказанными значениями, `numpy.array` реальными значениями и строку с обозначением нужной метрики (дефолтное значение - `'RMSE'`). Аббревиатура должна распознаваться как с большими буквами, так и с маленькими (`'RMSE'` и `'rmse'`). В случае, если строка не является аббревиатурой ни одной из трех обозначенных метрик, функция должна печатать \"Unknown metric selected\" и не возвращать ничего.\n",
    "\n",
    "Использование циклов, генераторов списков и функции `map()` запрещено - только инструменты `numpy`.\n",
    "\n",
    "<u>Критерии оценивания</u>: по одному баллу за каждую метрику.\n",
    "\n",
    "<u>Материалы</u>:\n",
    "\n",
    "![metrics](https://4.bp.blogspot.com/-wG7IbjTfE6k/XGUvqm7TCVI/AAAAAAAAAZU/vpH1kuKTIooKTcVlnm1EVRCXLVZM9cPNgCLcBGAs/s1600/formula-MAE-MSE-RMSE-RSquared.JPG)"
   ]
  },
  {
   "cell_type": "code",
   "execution_count": 21,
   "id": "d6569c69",
   "metadata": {
    "id": "d6569c69"
   },
   "outputs": [],
   "source": [
    "def mean_error(predicted_array, realdata_array, string='RMSE'):\n",
    "    n = len(realdata_array)\n",
    "    if string == 'RMSE' or string == 'rmse':\n",
    "        return ((((realdata_array - predicted_array)**2).sum())/n)**0.5\n",
    "    elif string == 'MSE' or string == 'mse':\n",
    "        return (((realdata_array - predicted_array)**2).sum())/n\n",
    "    elif string == 'MAE' or string == 'mae':\n",
    "        return (np.abs(realdata_array - predicted_array).sum())/n\n",
    "    else:\n",
    "        print('Unknown metric selected')   \n",
    "    "
   ]
  },
  {
   "cell_type": "markdown",
   "id": "f3b9d589",
   "metadata": {
    "id": "f3b9d589"
   },
   "source": [
    "### Задача 3 (3.5 балла)\n",
    "\n",
    "**Условие.** Вы имеете [данные](https://www.kaggle.com/datasets/spscientist/students-performance-in-exams) с Kaggle, которые содержат информацию о результатах студентов при написании разных тестов.\n",
    "\n",
    "**Описание колонок.**\n",
    "- `gender` (пол);\n",
    "- `race/ethnicity` (этническая принадлежность);\n",
    "- `parental level of education` (уровень образования родителей);\n",
    "- `lunch` (тип ланча - стандартный или урезанный/отсутствующий);\n",
    "- `test preparation course` (прошел ли студент подготовку к тесту);\n",
    "- `math score` (баллы за тест по математике);\n",
    "- `reading score` (баллы за чтение);\n",
    "- `writing score` (баллы за письмо).\n",
    "\n",
    "#### Задание 3.1 (0.25 баллов)\n",
    "Загрузите данные с помощью модуля `pandas`:"
   ]
  },
  {
   "cell_type": "code",
   "execution_count": 41,
   "id": "5beb4d15",
   "metadata": {
    "id": "5beb4d15"
   },
   "outputs": [],
   "source": [
    "test_results = pd.read_csv('StudentsPerformance.csv')"
   ]
  },
  {
   "cell_type": "markdown",
   "id": "214a9f66",
   "metadata": {
    "id": "214a9f66"
   },
   "source": [
    "#### Задание 3.2 (0.25 баллов)\n",
    "\n",
    "Проверьте, есть ли пропущенные значения, и если да, то удалите строки с таковыми:"
   ]
  },
  {
   "cell_type": "code",
   "execution_count": 42,
   "id": "c975c460",
   "metadata": {
    "id": "c975c460"
   },
   "outputs": [
    {
     "name": "stdout",
     "output_type": "stream",
     "text": [
      "<class 'pandas.core.frame.DataFrame'>\n",
      "RangeIndex: 1000 entries, 0 to 999\n",
      "Data columns (total 8 columns):\n",
      " #   Column                       Non-Null Count  Dtype \n",
      "---  ------                       --------------  ----- \n",
      " 0   gender                       1000 non-null   object\n",
      " 1   race/ethnicity               1000 non-null   object\n",
      " 2   parental level of education  1000 non-null   object\n",
      " 3   lunch                        1000 non-null   object\n",
      " 4   test preparation course      1000 non-null   object\n",
      " 5   math score                   1000 non-null   int64 \n",
      " 6   reading score                1000 non-null   int64 \n",
      " 7   writing score                1000 non-null   int64 \n",
      "dtypes: int64(3), object(5)\n",
      "memory usage: 62.6+ KB\n"
     ]
    }
   ],
   "source": [
    "test_results.info()\n",
    "test_results.dropna(inplace=True)"
   ]
  },
  {
   "cell_type": "markdown",
   "id": "6ce6596d",
   "metadata": {
    "id": "6ce6596d"
   },
   "source": [
    "#### Задание 3.3 (0.25 баллов)\n",
    "\n",
    "Измените названия всех переменных так, чтобы разделителем в них (вместо пробела или `'/'`) было нижнее подчеркивание:"
   ]
  },
  {
   "cell_type": "code",
   "execution_count": 43,
   "id": "dd6fd47f",
   "metadata": {
    "id": "dd6fd47f"
   },
   "outputs": [
    {
     "data": {
      "text/html": [
       "<div>\n",
       "<style scoped>\n",
       "    .dataframe tbody tr th:only-of-type {\n",
       "        vertical-align: middle;\n",
       "    }\n",
       "\n",
       "    .dataframe tbody tr th {\n",
       "        vertical-align: top;\n",
       "    }\n",
       "\n",
       "    .dataframe thead th {\n",
       "        text-align: right;\n",
       "    }\n",
       "</style>\n",
       "<table border=\"1\" class=\"dataframe\">\n",
       "  <thead>\n",
       "    <tr style=\"text-align: right;\">\n",
       "      <th></th>\n",
       "      <th>gender</th>\n",
       "      <th>race/ethnicity</th>\n",
       "      <th>parental level of education</th>\n",
       "      <th>lunch</th>\n",
       "      <th>test preparation course</th>\n",
       "      <th>math score</th>\n",
       "      <th>reading score</th>\n",
       "      <th>writing score</th>\n",
       "    </tr>\n",
       "  </thead>\n",
       "  <tbody>\n",
       "    <tr>\n",
       "      <th>0</th>\n",
       "      <td>female</td>\n",
       "      <td>group B</td>\n",
       "      <td>bachelor's degree</td>\n",
       "      <td>standard</td>\n",
       "      <td>none</td>\n",
       "      <td>72</td>\n",
       "      <td>72</td>\n",
       "      <td>74</td>\n",
       "    </tr>\n",
       "    <tr>\n",
       "      <th>1</th>\n",
       "      <td>female</td>\n",
       "      <td>group C</td>\n",
       "      <td>some college</td>\n",
       "      <td>standard</td>\n",
       "      <td>completed</td>\n",
       "      <td>69</td>\n",
       "      <td>90</td>\n",
       "      <td>88</td>\n",
       "    </tr>\n",
       "    <tr>\n",
       "      <th>2</th>\n",
       "      <td>female</td>\n",
       "      <td>group B</td>\n",
       "      <td>master's degree</td>\n",
       "      <td>standard</td>\n",
       "      <td>none</td>\n",
       "      <td>90</td>\n",
       "      <td>95</td>\n",
       "      <td>93</td>\n",
       "    </tr>\n",
       "    <tr>\n",
       "      <th>3</th>\n",
       "      <td>male</td>\n",
       "      <td>group A</td>\n",
       "      <td>associate's degree</td>\n",
       "      <td>free/reduced</td>\n",
       "      <td>none</td>\n",
       "      <td>47</td>\n",
       "      <td>57</td>\n",
       "      <td>44</td>\n",
       "    </tr>\n",
       "    <tr>\n",
       "      <th>4</th>\n",
       "      <td>male</td>\n",
       "      <td>group C</td>\n",
       "      <td>some college</td>\n",
       "      <td>standard</td>\n",
       "      <td>none</td>\n",
       "      <td>76</td>\n",
       "      <td>78</td>\n",
       "      <td>75</td>\n",
       "    </tr>\n",
       "  </tbody>\n",
       "</table>\n",
       "</div>"
      ],
      "text/plain": [
       "   gender race/ethnicity parental level of education         lunch  \\\n",
       "0  female        group B           bachelor's degree      standard   \n",
       "1  female        group C                some college      standard   \n",
       "2  female        group B             master's degree      standard   \n",
       "3    male        group A          associate's degree  free/reduced   \n",
       "4    male        group C                some college      standard   \n",
       "\n",
       "  test preparation course  math score  reading score  writing score  \n",
       "0                    none          72             72             74  \n",
       "1               completed          69             90             88  \n",
       "2                    none          90             95             93  \n",
       "3                    none          47             57             44  \n",
       "4                    none          76             78             75  "
      ]
     },
     "execution_count": 43,
     "metadata": {},
     "output_type": "execute_result"
    }
   ],
   "source": [
    "test_results.head()"
   ]
  },
  {
   "cell_type": "code",
   "execution_count": 44,
   "id": "7c62faeb",
   "metadata": {
    "id": "7c62faeb"
   },
   "outputs": [],
   "source": [
    "test_results = test_results.rename({'race/ethnicity': 'race_ethnicity', \n",
    "                     'parental level of education': 'parental_level_of_education',\n",
    "                     'test preparation course': 'test_preparation_course',\n",
    "                     'math score': 'math_score', 'reading score': 'reading_score',\n",
    "                     'writing score': 'writing_score'}, axis=1)"
   ]
  },
  {
   "cell_type": "markdown",
   "id": "00ae2054",
   "metadata": {
    "id": "00ae2054"
   },
   "source": [
    "#### Задание 3.5 (1 балл)\n",
    "\n",
    "На основе данной колонки создайте новую переменную, которая будет называться `parents_higher_education` и принимать значение 0 при значениях исходной переменной (`'parental_level_of_education'`) `'high school'` и `'some high school'`, и 1 - в ином случае:"
   ]
  },
  {
   "cell_type": "code",
   "execution_count": 45,
   "id": "6783e2b4",
   "metadata": {
    "id": "6783e2b4"
   },
   "outputs": [],
   "source": [
    "test_results['parents_higher_education'] = test_results['parental_level_of_education'].apply(\n",
    "    lambda x: 0 if x == 'high school' or x == 'some high school' else 1)"
   ]
  },
  {
   "cell_type": "markdown",
   "id": "21609ab5",
   "metadata": {
    "id": "21609ab5"
   },
   "source": [
    "#### Задание 3.6 (1.5 баллов)\n",
    "\n",
    "Сгруппируйте результаты тестов по каждой категориальной переменной (с использованием метода `.groupby()`) и посчитайте среднее значение каждого теста по группам. Какие выводы можно сделать? "
   ]
  },
  {
   "cell_type": "code",
   "execution_count": null,
   "id": "6cb0540d",
   "metadata": {
    "id": "6cb0540d"
   },
   "outputs": [],
   "source": [
    "test_results.head()"
   ]
  },
  {
   "cell_type": "code",
   "execution_count": 47,
   "id": "93fdbb5b",
   "metadata": {},
   "outputs": [
    {
     "data": {
      "text/html": [
       "<div>\n",
       "<style scoped>\n",
       "    .dataframe tbody tr th:only-of-type {\n",
       "        vertical-align: middle;\n",
       "    }\n",
       "\n",
       "    .dataframe tbody tr th {\n",
       "        vertical-align: top;\n",
       "    }\n",
       "\n",
       "    .dataframe thead th {\n",
       "        text-align: right;\n",
       "    }\n",
       "</style>\n",
       "<table border=\"1\" class=\"dataframe\">\n",
       "  <thead>\n",
       "    <tr style=\"text-align: right;\">\n",
       "      <th></th>\n",
       "      <th>gender</th>\n",
       "      <th>math_score</th>\n",
       "      <th>reading_score</th>\n",
       "      <th>writing_score</th>\n",
       "    </tr>\n",
       "  </thead>\n",
       "  <tbody>\n",
       "    <tr>\n",
       "      <th>0</th>\n",
       "      <td>female</td>\n",
       "      <td>63.633205</td>\n",
       "      <td>72.608108</td>\n",
       "      <td>72.467181</td>\n",
       "    </tr>\n",
       "    <tr>\n",
       "      <th>1</th>\n",
       "      <td>male</td>\n",
       "      <td>68.728216</td>\n",
       "      <td>65.473029</td>\n",
       "      <td>63.311203</td>\n",
       "    </tr>\n",
       "  </tbody>\n",
       "</table>\n",
       "</div>"
      ],
      "text/plain": [
       "   gender  math_score  reading_score  writing_score\n",
       "0  female   63.633205      72.608108      72.467181\n",
       "1    male   68.728216      65.473029      63.311203"
      ]
     },
     "execution_count": 47,
     "metadata": {},
     "output_type": "execute_result"
    }
   ],
   "source": [
    "grouped_results_gender = test_results.groupby(by='gender')[['math_score', 'reading_score',\t'writing_score']].mean().reset_index()\n",
    "grouped_results_gender"
   ]
  },
  {
   "cell_type": "markdown",
   "id": "510326b4",
   "metadata": {},
   "source": [
    "успеваемость по чтению и письму лучше у группы female, а математика лучше у male"
   ]
  },
  {
   "cell_type": "code",
   "execution_count": 48,
   "id": "52019953",
   "metadata": {},
   "outputs": [
    {
     "data": {
      "text/html": [
       "<div>\n",
       "<style scoped>\n",
       "    .dataframe tbody tr th:only-of-type {\n",
       "        vertical-align: middle;\n",
       "    }\n",
       "\n",
       "    .dataframe tbody tr th {\n",
       "        vertical-align: top;\n",
       "    }\n",
       "\n",
       "    .dataframe thead th {\n",
       "        text-align: right;\n",
       "    }\n",
       "</style>\n",
       "<table border=\"1\" class=\"dataframe\">\n",
       "  <thead>\n",
       "    <tr style=\"text-align: right;\">\n",
       "      <th></th>\n",
       "      <th>race_ethnicity</th>\n",
       "      <th>math_score</th>\n",
       "      <th>reading_score</th>\n",
       "      <th>writing_score</th>\n",
       "    </tr>\n",
       "  </thead>\n",
       "  <tbody>\n",
       "    <tr>\n",
       "      <th>0</th>\n",
       "      <td>group A</td>\n",
       "      <td>61.629213</td>\n",
       "      <td>64.674157</td>\n",
       "      <td>62.674157</td>\n",
       "    </tr>\n",
       "    <tr>\n",
       "      <th>1</th>\n",
       "      <td>group B</td>\n",
       "      <td>63.452632</td>\n",
       "      <td>67.352632</td>\n",
       "      <td>65.600000</td>\n",
       "    </tr>\n",
       "    <tr>\n",
       "      <th>2</th>\n",
       "      <td>group C</td>\n",
       "      <td>64.463950</td>\n",
       "      <td>69.103448</td>\n",
       "      <td>67.827586</td>\n",
       "    </tr>\n",
       "    <tr>\n",
       "      <th>3</th>\n",
       "      <td>group D</td>\n",
       "      <td>67.362595</td>\n",
       "      <td>70.030534</td>\n",
       "      <td>70.145038</td>\n",
       "    </tr>\n",
       "    <tr>\n",
       "      <th>4</th>\n",
       "      <td>group E</td>\n",
       "      <td>73.821429</td>\n",
       "      <td>73.028571</td>\n",
       "      <td>71.407143</td>\n",
       "    </tr>\n",
       "  </tbody>\n",
       "</table>\n",
       "</div>"
      ],
      "text/plain": [
       "  race_ethnicity  math_score  reading_score  writing_score\n",
       "0        group A   61.629213      64.674157      62.674157\n",
       "1        group B   63.452632      67.352632      65.600000\n",
       "2        group C   64.463950      69.103448      67.827586\n",
       "3        group D   67.362595      70.030534      70.145038\n",
       "4        group E   73.821429      73.028571      71.407143"
      ]
     },
     "execution_count": 48,
     "metadata": {},
     "output_type": "execute_result"
    }
   ],
   "source": [
    "grouped_results_RE = test_results.groupby(by='race_ethnicity')[['math_score', 'reading_score',\t'writing_score']].mean().reset_index()\n",
    "grouped_results_RE"
   ]
  },
  {
   "cell_type": "markdown",
   "id": "97a27111",
   "metadata": {},
   "source": [
    "чем больше буква (B>A), тем выше успеваемость по всем предметам"
   ]
  },
  {
   "cell_type": "code",
   "execution_count": 49,
   "id": "1e81983a",
   "metadata": {},
   "outputs": [
    {
     "data": {
      "text/html": [
       "<div>\n",
       "<style scoped>\n",
       "    .dataframe tbody tr th:only-of-type {\n",
       "        vertical-align: middle;\n",
       "    }\n",
       "\n",
       "    .dataframe tbody tr th {\n",
       "        vertical-align: top;\n",
       "    }\n",
       "\n",
       "    .dataframe thead th {\n",
       "        text-align: right;\n",
       "    }\n",
       "</style>\n",
       "<table border=\"1\" class=\"dataframe\">\n",
       "  <thead>\n",
       "    <tr style=\"text-align: right;\">\n",
       "      <th></th>\n",
       "      <th>parental_level_of_education</th>\n",
       "      <th>math_score</th>\n",
       "      <th>reading_score</th>\n",
       "      <th>writing_score</th>\n",
       "    </tr>\n",
       "  </thead>\n",
       "  <tbody>\n",
       "    <tr>\n",
       "      <th>0</th>\n",
       "      <td>associate's degree</td>\n",
       "      <td>67.882883</td>\n",
       "      <td>70.927928</td>\n",
       "      <td>69.896396</td>\n",
       "    </tr>\n",
       "    <tr>\n",
       "      <th>1</th>\n",
       "      <td>bachelor's degree</td>\n",
       "      <td>69.389831</td>\n",
       "      <td>73.000000</td>\n",
       "      <td>73.381356</td>\n",
       "    </tr>\n",
       "    <tr>\n",
       "      <th>2</th>\n",
       "      <td>high school</td>\n",
       "      <td>62.137755</td>\n",
       "      <td>64.704082</td>\n",
       "      <td>62.448980</td>\n",
       "    </tr>\n",
       "    <tr>\n",
       "      <th>3</th>\n",
       "      <td>master's degree</td>\n",
       "      <td>69.745763</td>\n",
       "      <td>75.372881</td>\n",
       "      <td>75.677966</td>\n",
       "    </tr>\n",
       "    <tr>\n",
       "      <th>4</th>\n",
       "      <td>some college</td>\n",
       "      <td>67.128319</td>\n",
       "      <td>69.460177</td>\n",
       "      <td>68.840708</td>\n",
       "    </tr>\n",
       "    <tr>\n",
       "      <th>5</th>\n",
       "      <td>some high school</td>\n",
       "      <td>63.497207</td>\n",
       "      <td>66.938547</td>\n",
       "      <td>64.888268</td>\n",
       "    </tr>\n",
       "  </tbody>\n",
       "</table>\n",
       "</div>"
      ],
      "text/plain": [
       "  parental_level_of_education  math_score  reading_score  writing_score\n",
       "0          associate's degree   67.882883      70.927928      69.896396\n",
       "1           bachelor's degree   69.389831      73.000000      73.381356\n",
       "2                 high school   62.137755      64.704082      62.448980\n",
       "3             master's degree   69.745763      75.372881      75.677966\n",
       "4                some college   67.128319      69.460177      68.840708\n",
       "5            some high school   63.497207      66.938547      64.888268"
      ]
     },
     "execution_count": 49,
     "metadata": {},
     "output_type": "execute_result"
    }
   ],
   "source": [
    "grouped_results_PLoE = test_results.groupby(by='parental_level_of_education')[['math_score', 'reading_score',\t'writing_score']].mean().reset_index()\n",
    "grouped_results_PLoE"
   ]
  },
  {
   "cell_type": "markdown",
   "id": "fd872a09",
   "metadata": {},
   "source": [
    "лучшие оценки у тех групп, у которых у родителей высшее образование (лучшие результаты у bachelor's и master's degree)"
   ]
  },
  {
   "cell_type": "code",
   "execution_count": 50,
   "id": "c86d4890",
   "metadata": {},
   "outputs": [
    {
     "data": {
      "text/html": [
       "<div>\n",
       "<style scoped>\n",
       "    .dataframe tbody tr th:only-of-type {\n",
       "        vertical-align: middle;\n",
       "    }\n",
       "\n",
       "    .dataframe tbody tr th {\n",
       "        vertical-align: top;\n",
       "    }\n",
       "\n",
       "    .dataframe thead th {\n",
       "        text-align: right;\n",
       "    }\n",
       "</style>\n",
       "<table border=\"1\" class=\"dataframe\">\n",
       "  <thead>\n",
       "    <tr style=\"text-align: right;\">\n",
       "      <th></th>\n",
       "      <th>lunch</th>\n",
       "      <th>math_score</th>\n",
       "      <th>reading_score</th>\n",
       "      <th>writing_score</th>\n",
       "    </tr>\n",
       "  </thead>\n",
       "  <tbody>\n",
       "    <tr>\n",
       "      <th>0</th>\n",
       "      <td>free/reduced</td>\n",
       "      <td>58.921127</td>\n",
       "      <td>64.653521</td>\n",
       "      <td>63.022535</td>\n",
       "    </tr>\n",
       "    <tr>\n",
       "      <th>1</th>\n",
       "      <td>standard</td>\n",
       "      <td>70.034109</td>\n",
       "      <td>71.654264</td>\n",
       "      <td>70.823256</td>\n",
       "    </tr>\n",
       "  </tbody>\n",
       "</table>\n",
       "</div>"
      ],
      "text/plain": [
       "          lunch  math_score  reading_score  writing_score\n",
       "0  free/reduced   58.921127      64.653521      63.022535\n",
       "1      standard   70.034109      71.654264      70.823256"
      ]
     },
     "execution_count": 50,
     "metadata": {},
     "output_type": "execute_result"
    }
   ],
   "source": [
    "grouped_results_lunch = test_results.groupby(by='lunch')[['math_score', 'reading_score',\t'writing_score']].mean().reset_index()\n",
    "grouped_results_lunch"
   ]
  },
  {
   "cell_type": "markdown",
   "id": "dd2f976d",
   "metadata": {},
   "source": [
    "группы с полноценным обедом лучше учатся по всем предметам"
   ]
  },
  {
   "cell_type": "code",
   "execution_count": 51,
   "id": "3158109b",
   "metadata": {},
   "outputs": [
    {
     "data": {
      "text/html": [
       "<div>\n",
       "<style scoped>\n",
       "    .dataframe tbody tr th:only-of-type {\n",
       "        vertical-align: middle;\n",
       "    }\n",
       "\n",
       "    .dataframe tbody tr th {\n",
       "        vertical-align: top;\n",
       "    }\n",
       "\n",
       "    .dataframe thead th {\n",
       "        text-align: right;\n",
       "    }\n",
       "</style>\n",
       "<table border=\"1\" class=\"dataframe\">\n",
       "  <thead>\n",
       "    <tr style=\"text-align: right;\">\n",
       "      <th></th>\n",
       "      <th>test_preparation_course</th>\n",
       "      <th>math_score</th>\n",
       "      <th>reading_score</th>\n",
       "      <th>writing_score</th>\n",
       "    </tr>\n",
       "  </thead>\n",
       "  <tbody>\n",
       "    <tr>\n",
       "      <th>0</th>\n",
       "      <td>completed</td>\n",
       "      <td>69.695531</td>\n",
       "      <td>73.893855</td>\n",
       "      <td>74.418994</td>\n",
       "    </tr>\n",
       "    <tr>\n",
       "      <th>1</th>\n",
       "      <td>none</td>\n",
       "      <td>64.077882</td>\n",
       "      <td>66.534268</td>\n",
       "      <td>64.504673</td>\n",
       "    </tr>\n",
       "  </tbody>\n",
       "</table>\n",
       "</div>"
      ],
      "text/plain": [
       "  test_preparation_course  math_score  reading_score  writing_score\n",
       "0               completed   69.695531      73.893855      74.418994\n",
       "1                    none   64.077882      66.534268      64.504673"
      ]
     },
     "execution_count": 51,
     "metadata": {},
     "output_type": "execute_result"
    }
   ],
   "source": [
    "grouped_results_TPC = test_results.groupby(by='test_preparation_course')[['math_score', 'reading_score',\t'writing_score']].mean().reset_index()\n",
    "grouped_results_TPC"
   ]
  },
  {
   "cell_type": "markdown",
   "id": "eb809d62",
   "metadata": {},
   "source": [
    "у групп, закончивших подготовительные курсы, результаты выше по всем предметам"
   ]
  },
  {
   "cell_type": "code",
   "execution_count": 52,
   "id": "503417eb",
   "metadata": {},
   "outputs": [
    {
     "data": {
      "text/html": [
       "<div>\n",
       "<style scoped>\n",
       "    .dataframe tbody tr th:only-of-type {\n",
       "        vertical-align: middle;\n",
       "    }\n",
       "\n",
       "    .dataframe tbody tr th {\n",
       "        vertical-align: top;\n",
       "    }\n",
       "\n",
       "    .dataframe thead th {\n",
       "        text-align: right;\n",
       "    }\n",
       "</style>\n",
       "<table border=\"1\" class=\"dataframe\">\n",
       "  <thead>\n",
       "    <tr style=\"text-align: right;\">\n",
       "      <th></th>\n",
       "      <th>parents_higher_education</th>\n",
       "      <th>math_score</th>\n",
       "      <th>reading_score</th>\n",
       "      <th>writing_score</th>\n",
       "    </tr>\n",
       "  </thead>\n",
       "  <tbody>\n",
       "    <tr>\n",
       "      <th>0</th>\n",
       "      <td>0</td>\n",
       "      <td>62.786667</td>\n",
       "      <td>65.770667</td>\n",
       "      <td>63.613333</td>\n",
       "    </tr>\n",
       "    <tr>\n",
       "      <th>1</th>\n",
       "      <td>1</td>\n",
       "      <td>68.070400</td>\n",
       "      <td>71.208000</td>\n",
       "      <td>70.718400</td>\n",
       "    </tr>\n",
       "  </tbody>\n",
       "</table>\n",
       "</div>"
      ],
      "text/plain": [
       "   parents_higher_education  math_score  reading_score  writing_score\n",
       "0                         0   62.786667      65.770667      63.613333\n",
       "1                         1   68.070400      71.208000      70.718400"
      ]
     },
     "execution_count": 52,
     "metadata": {},
     "output_type": "execute_result"
    }
   ],
   "source": [
    "grouped_results_PHE = test_results.groupby(by='parents_higher_education')[['math_score', 'reading_score',\t'writing_score']].mean().reset_index()\n",
    "grouped_results_PHE"
   ]
  },
  {
   "cell_type": "markdown",
   "id": "c4ae49b2",
   "metadata": {},
   "source": [
    "группы, где у родителей учашихся высшее образования, имеют более высокие баллы по всем предметам"
   ]
  }
 ],
 "metadata": {
  "colab": {
   "provenance": []
  },
  "kernelspec": {
   "display_name": "Python 3.9.10 64-bit",
   "language": "python",
   "name": "python3"
  },
  "language_info": {
   "codemirror_mode": {
    "name": "ipython",
    "version": 3
   },
   "file_extension": ".py",
   "mimetype": "text/x-python",
   "name": "python",
   "nbconvert_exporter": "python",
   "pygments_lexer": "ipython3",
   "version": "3.9.10"
  },
  "vscode": {
   "interpreter": {
    "hash": "8be91b611dbf82fc7c2195f7ad87c066fa09caee77a40ad7d16104ae6fa91d17"
   }
  }
 },
 "nbformat": 4,
 "nbformat_minor": 5
}
