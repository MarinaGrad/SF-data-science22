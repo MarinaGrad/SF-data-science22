{
 "cells": [
  {
   "cell_type": "code",
   "execution_count": 11,
   "metadata": {},
   "outputs": [],
   "source": [
    "import pandas as pd\n",
    "from pandasql import sqldf"
   ]
  },
  {
   "cell_type": "code",
   "execution_count": 14,
   "metadata": {},
   "outputs": [],
   "source": [
    "pysqldf = lambda q: sqldf(q, globals())"
   ]
  },
  {
   "cell_type": "code",
   "execution_count": null,
   "metadata": {},
   "outputs": [],
   "source": [
    "!pip install openpyxl"
   ]
  },
  {
   "cell_type": "code",
   "execution_count": null,
   "metadata": {},
   "outputs": [],
   "source": [
    "!pip install pandasql"
   ]
  },
  {
   "cell_type": "code",
   "execution_count": 20,
   "metadata": {},
   "outputs": [],
   "source": [
    "bank_data = pd.read_excel(\"C:\\\\Users\\\\Марина\\\\1. МФТИ\\\\Аналитика\\\\bank_account_data.xlsx\")"
   ]
  },
  {
   "cell_type": "code",
   "execution_count": 37,
   "metadata": {},
   "outputs": [
    {
     "name": "stdout",
     "output_type": "stream",
     "text": [
      "   COUNT(Cust_Id)  AVG(Cust_Id)  MIN(Cust_Id)  MAX(Cust_Id)\n",
      "0             200         100.5             1           200\n",
      "   COUNT(Purchase)  AVG(Purchase)  MIN(Purchase)  MAX(Purchase)\n",
      "0              200          0.195              0              1\n",
      "   COUNT(Cheq_Bal)  AVG(Cheq_Bal)  MIN(Cheq_Bal)  MAX(Cheq_Bal)\n",
      "0              200      2145.0935         644.31        4437.44\n",
      "   COUNT(Sav_Bal)  AVG(Sav_Bal)  MIN(Sav_Bal)  MAX(Sav_Bal)\n",
      "0             200   22084.42895       6558.91      39132.63\n",
      "   COUNT(Debt_Bal)  AVG(Debt_Bal)  MIN(Debt_Bal)  MAX(Debt_Bal)\n",
      "0              200      8638.3696            0.0        20559.7\n",
      "   COUNT(Joint_Acct)  AVG(Joint_Acct)  MIN(Joint_Acct)  MAX(Joint_Acct)\n",
      "0                200            0.295                0                1\n",
      "   COUNT(Age)  AVG(Age)  MIN(Age)  MAX(Age)\n",
      "0         200    38.535        18        60\n"
     ]
    }
   ],
   "source": [
    "#Опишите имеющиеся колонки в данных - сделайте аналог describe в pandas для колонок.\n",
    "\n",
    "ID = pysqldf(\"\"\"SELECT    \n",
    "        COUNT(Cust_Id),\n",
    "        AVG(Cust_Id),\n",
    "        MIN(Cust_Id),\n",
    "        MAX(Cust_Id)     \n",
    "        FROM bank_data\"\"\")\n",
    "\n",
    "Purchase = pysqldf(\"\"\"SELECT    \n",
    "        COUNT(Purchase),\n",
    "        AVG(Purchase),\n",
    "        MIN(Purchase),\n",
    "        MAX(Purchase)     \n",
    "        FROM bank_data\"\"\")\n",
    "\n",
    "Cheq_Bal = pysqldf(\"\"\"SELECT    \n",
    "        COUNT(Cheq_Bal),\n",
    "        AVG(Cheq_Bal),\n",
    "        MIN(Cheq_Bal),\n",
    "        MAX(Cheq_Bal)     \n",
    "        FROM bank_data\"\"\")\n",
    "\n",
    "Sav_Bal = pysqldf(\"\"\"SELECT    \n",
    "        COUNT(Sav_Bal),\n",
    "        AVG(Sav_Bal),\n",
    "        MIN(Sav_Bal),\n",
    "        MAX(Sav_Bal)     \n",
    "        FROM bank_data\"\"\")\n",
    "\n",
    "Debt_Bal = pysqldf(\"\"\"SELECT    \n",
    "        COUNT(Debt_Bal),\n",
    "        AVG(Debt_Bal),\n",
    "        MIN(Debt_Bal),\n",
    "        MAX(Debt_Bal)     \n",
    "        FROM bank_data\"\"\")\n",
    "\n",
    "Joint_Acct = pysqldf(\"\"\"SELECT    \n",
    "        COUNT(Joint_Acct),\n",
    "        AVG(Joint_Acct),\n",
    "        MIN(Joint_Acct),\n",
    "        MAX(Joint_Acct)     \n",
    "        FROM bank_data\"\"\")\n",
    "\n",
    "Age = pysqldf(\"\"\"SELECT    \n",
    "        COUNT(Age),\n",
    "        AVG(Age),\n",
    "        MIN(Age),\n",
    "        MAX(Age)     \n",
    "        FROM bank_data\"\"\")\n",
    "\n",
    "print(ID, Purchase, Cheq_Bal, Sav_Bal, Debt_Bal, Joint_Acct, Age, sep=\"\\n\")\n",
    "\n",
    "#describe = pd.concat([Cust_ID, Purchase, Cheq_Bal, Sav_Bal, Debt_Bal, Joint_Acct, Age])\n",
    "#describe['index'] = ['Cust_ID', 'Purchase', 'Cheq_Bal', 'Sav_Bal', 'Debt_Bal', 'Joint_Acct', 'Age']\n",
    "#describe.set_index('index')"
   ]
  },
  {
   "cell_type": "code",
   "execution_count": null,
   "metadata": {},
   "outputs": [],
   "source": [
    "#Посчитайте совокупный объем средств у клиентов в банке - сумма по всем балансам.\n",
    "pysqldf(\"\"\"SELECT \n",
    "        Cust_ID,\n",
    "        Cheq_Bal+Sav_Bal+Debt_Bal AS TOTAL_bal\n",
    "        FROM bank_data\"\"\")\n"
   ]
  },
  {
   "cell_type": "code",
   "execution_count": null,
   "metadata": {},
   "outputs": [],
   "source": [
    "#Выведите только тех клиентов, которые приобрели ипотеку (колонка mortgage).\n",
    "pysqldf(\"\"\"SELECT * \n",
    "        FROM bank_data\n",
    "        WHERE Purchase = 1        \n",
    "        \"\"\")"
   ]
  },
  {
   "cell_type": "code",
   "execution_count": null,
   "metadata": {},
   "outputs": [],
   "source": [
    "#Какой совокупный объем средств в среднем у клиентов, которые приобрели ипотеку и\n",
    "# у клиентов, которые её не приобретали?\n",
    "\n",
    "query = \"\"\"SELECT \n",
    "            SUM(CASE WHEN Purchase=1 THEN Cheq_Bal+Sav_Bal+Debt_Bal END) / COUNT(CASE WHEN Purchase=1 THEN 1 END) as Purchase,\n",
    "            SUM(CASE WHEN Purchase=0 THEN Cheq_Bal+Sav_Bal+Debt_Bal END) / COUNT(CASE WHEN Purchase=0 THEN 1 END) as Non_Purchase\n",
    "            FROM bank_data\n",
    "        \"\"\"\n",
    "\n",
    "pysqldf(query)\n"
   ]
  },
  {
   "cell_type": "code",
   "execution_count": 47,
   "metadata": {},
   "outputs": [
    {
     "data": {
      "text/html": [
       "<div>\n",
       "<style scoped>\n",
       "    .dataframe tbody tr th:only-of-type {\n",
       "        vertical-align: middle;\n",
       "    }\n",
       "\n",
       "    .dataframe tbody tr th {\n",
       "        vertical-align: top;\n",
       "    }\n",
       "\n",
       "    .dataframe thead th {\n",
       "        text-align: right;\n",
       "    }\n",
       "</style>\n",
       "<table border=\"1\" class=\"dataframe\">\n",
       "  <thead>\n",
       "    <tr style=\"text-align: right;\">\n",
       "      <th></th>\n",
       "      <th>Cheq_Bal_diff</th>\n",
       "      <th>Sav_Bal_diff</th>\n",
       "      <th>Debt_Bal_diff</th>\n",
       "    </tr>\n",
       "  </thead>\n",
       "  <tbody>\n",
       "    <tr>\n",
       "      <th>0</th>\n",
       "      <td>761.344275</td>\n",
       "      <td>9370.354545</td>\n",
       "      <td>-6172.688466</td>\n",
       "    </tr>\n",
       "  </tbody>\n",
       "</table>\n",
       "</div>"
      ],
      "text/plain": [
       "   Cheq_Bal_diff  Sav_Bal_diff  Debt_Bal_diff\n",
       "0     761.344275   9370.354545   -6172.688466"
      ]
     },
     "execution_count": 47,
     "metadata": {},
     "output_type": "execute_result"
    }
   ],
   "source": [
    "#Есть ли разница в среднем по каждому из типов баланса у клиентов, которые приобрели ипотеку \n",
    "# и у клиентов, которые её не приобретали?\n",
    "\n",
    "query = \"\"\"SELECT \n",
    "            SUM(CASE WHEN Purchase=1 THEN Cheq_Bal END) / COUNT(CASE WHEN Purchase=1 THEN 1 END) -\n",
    "            SUM(CASE WHEN Purchase=0 THEN Cheq_Bal END) / COUNT(CASE WHEN Purchase=0 THEN 1 END) as Cheq_Bal_diff,\n",
    "            \n",
    "            SUM(CASE WHEN Purchase=1 THEN Sav_Bal END) / COUNT(CASE WHEN Purchase=1 THEN 1 END) -\n",
    "            SUM(CASE WHEN Purchase=0 THEN Sav_Bal END) / COUNT(CASE WHEN Purchase=0 THEN 1 END) as Sav_Bal_diff,\n",
    "            \n",
    "            SUM(CASE WHEN Purchase=1 THEN Debt_Bal END) / COUNT(CASE WHEN Purchase=1 THEN 1 END) -\n",
    "            SUM(CASE WHEN Purchase=0 THEN Debt_Bal END) / COUNT(CASE WHEN Purchase=0 THEN 1 END) as Debt_Bal_diff\n",
    "            \n",
    "            FROM bank_data\n",
    "        \"\"\"\n",
    "\n",
    "pysqldf(query)"
   ]
  },
  {
   "cell_type": "code",
   "execution_count": null,
   "metadata": {},
   "outputs": [],
   "source": [
    "# Выберите самого возрастного получателя ипотеки.\n",
    "pysqldf(\"\"\"SELECT Cust_Id, \n",
    "        MAX(Age)\n",
    "        FROM bank_data    \n",
    "        \"\"\")\n"
   ]
  },
  {
   "cell_type": "code",
   "execution_count": null,
   "metadata": {},
   "outputs": [],
   "source": [
    "#Выберите клиента, который раньше всех получил ипотеку.\n",
    "pysqldf(\"\"\"SELECT Cust_Id, \n",
    "        MIN(Date)\n",
    "        FROM bank_data    \n",
    "        \"\"\")\n"
   ]
  },
  {
   "cell_type": "code",
   "execution_count": 71,
   "metadata": {},
   "outputs": [
    {
     "data": {
      "text/plain": [
       "<sqlite3.Cursor at 0x20cdb947180>"
      ]
     },
     "execution_count": 71,
     "metadata": {},
     "output_type": "execute_result"
    }
   ],
   "source": [
    "# Создайте любую базу данных в sqlite3, состоящую из 5 колонок, \n",
    "# одна из колонок обязательно должна быть типа REAL. (Названия колонок любые, какие захотите)\n",
    "# Добавьте 3 полностью заполненные строки в вашу БД.\n",
    "\n",
    "import sqlite3\n",
    "con = sqlite3.connect(\"tutorial1_DB.db\")\n",
    "cur = con.cursor()\n",
    "cur.execute(\"CREATE TABLE movie(ID, title, year, score real, director)\")"
   ]
  },
  {
   "cell_type": "code",
   "execution_count": 73,
   "metadata": {},
   "outputs": [
    {
     "data": {
      "text/plain": [
       "[(1, 'Monty Python and the Holy Grail', 1975, 8.2, 'Terry Gilliam'),\n",
       " (2, 'And Now for Something Completely Different', 1971, 7.5, 'Terry Gilliam'),\n",
       " (3, '12 Monkeys', 1995, 8.0, 'Terry Gilliam')]"
      ]
     },
     "execution_count": 73,
     "metadata": {},
     "output_type": "execute_result"
    }
   ],
   "source": [
    "cur.execute(\"\"\"\n",
    "    INSERT INTO movie VALUES\n",
    "        (1, 'Monty Python and the Holy Grail', 1975, 8.2, 'Terry Gilliam'),\n",
    "        (2, 'And Now for Something Completely Different', 1971, 7.5, 'Terry Gilliam'),\n",
    "        (3, '12 Monkeys', 1995, 8.0, 'Terry Gilliam')\n",
    "\"\"\")\n",
    "\n",
    "movie_data = cur.execute(\"\"\"SELECT * \n",
    "        FROM movie\n",
    "        \"\"\")\n",
    "movie_data.fetchall()"
   ]
  },
  {
   "cell_type": "code",
   "execution_count": null,
   "metadata": {},
   "outputs": [],
   "source": [
    "con.execute(\"\"\"\n",
    "            DELETE FROM movie\n",
    "            WHERE \n",
    "            score <> (select MAX(score) from movie)\n",
    "            AND \n",
    "            score <> (select MIN(score) from movie)\n",
    "            \"\"\")"
   ]
  },
  {
   "cell_type": "code",
   "execution_count": 70,
   "metadata": {},
   "outputs": [],
   "source": [
    "cur.execute(\"\"\"DROP TABLE movie;\"\"\")\n",
    "con.close()"
   ]
  }
 ],
 "metadata": {
  "kernelspec": {
   "display_name": "Python 3.9.10 64-bit",
   "language": "python",
   "name": "python3"
  },
  "language_info": {
   "codemirror_mode": {
    "name": "ipython",
    "version": 3
   },
   "file_extension": ".py",
   "mimetype": "text/x-python",
   "name": "python",
   "nbconvert_exporter": "python",
   "pygments_lexer": "ipython3",
   "version": "3.9.10"
  },
  "orig_nbformat": 4,
  "vscode": {
   "interpreter": {
    "hash": "8be91b611dbf82fc7c2195f7ad87c066fa09caee77a40ad7d16104ae6fa91d17"
   }
  }
 },
 "nbformat": 4,
 "nbformat_minor": 2
}
