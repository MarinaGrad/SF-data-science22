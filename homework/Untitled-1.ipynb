{
 "cells": [
  {
   "cell_type": "code",
   "execution_count": 47,
   "metadata": {},
   "outputs": [
    {
     "name": "stdout",
     "output_type": "stream",
     "text": [
      "MainLogger: Function root started\n",
      "MainLogger: Function root finished\n",
      "5.0\n"
     ]
    }
   ],
   "source": [
    "def logger(name):\n",
    "    def decorated_function(func):\n",
    "        def wrapper(*args, **kwargs):\n",
    "            print(f'{name}: Function {func.__name__} started')\n",
    "            return_value = func(*args, **kwargs)\n",
    "            print(f'{name}: Function {func.__name__} finished')\n",
    "            return return_value\n",
    "        return wrapper\n",
    "    return decorated_function\n",
    "\n",
    "@logger('MainLogger')\n",
    "def root(val, n=2):\n",
    "    res = val ** (1/n)\n",
    "    return res\n",
    " \n",
    "print(root(25))"
   ]
  },
  {
   "cell_type": "code",
   "execution_count": 48,
   "metadata": {},
   "outputs": [
    {
     "ename": "KeyboardInterrupt",
     "evalue": "Interrupted by user",
     "output_type": "error",
     "traceback": [
      "\u001b[1;31m---------------------------------------------------------------------------\u001b[0m",
      "\u001b[1;31mKeyboardInterrupt\u001b[0m                         Traceback (most recent call last)",
      "Cell \u001b[1;32mIn [48], line 1\u001b[0m\n\u001b[1;32m----> 1\u001b[0m a \u001b[39m=\u001b[39m \u001b[39minput\u001b[39;49m()\n\u001b[0;32m      3\u001b[0m b \u001b[39m=\u001b[39m \u001b[39minput\u001b[39m()\n\u001b[0;32m      5\u001b[0m c \u001b[39m=\u001b[39m \u001b[39minput\u001b[39m()\n",
      "File \u001b[1;32m~\\AppData\\Roaming\\Python\\Python39\\site-packages\\ipykernel\\kernelbase.py:1177\u001b[0m, in \u001b[0;36mKernel.raw_input\u001b[1;34m(self, prompt)\u001b[0m\n\u001b[0;32m   1173\u001b[0m \u001b[39mif\u001b[39;00m \u001b[39mnot\u001b[39;00m \u001b[39mself\u001b[39m\u001b[39m.\u001b[39m_allow_stdin:\n\u001b[0;32m   1174\u001b[0m     \u001b[39mraise\u001b[39;00m StdinNotImplementedError(\n\u001b[0;32m   1175\u001b[0m         \u001b[39m\"\u001b[39m\u001b[39mraw_input was called, but this frontend does not support input requests.\u001b[39m\u001b[39m\"\u001b[39m\n\u001b[0;32m   1176\u001b[0m     )\n\u001b[1;32m-> 1177\u001b[0m \u001b[39mreturn\u001b[39;00m \u001b[39mself\u001b[39;49m\u001b[39m.\u001b[39;49m_input_request(\n\u001b[0;32m   1178\u001b[0m     \u001b[39mstr\u001b[39;49m(prompt),\n\u001b[0;32m   1179\u001b[0m     \u001b[39mself\u001b[39;49m\u001b[39m.\u001b[39;49m_parent_ident[\u001b[39m\"\u001b[39;49m\u001b[39mshell\u001b[39;49m\u001b[39m\"\u001b[39;49m],\n\u001b[0;32m   1180\u001b[0m     \u001b[39mself\u001b[39;49m\u001b[39m.\u001b[39;49mget_parent(\u001b[39m\"\u001b[39;49m\u001b[39mshell\u001b[39;49m\u001b[39m\"\u001b[39;49m),\n\u001b[0;32m   1181\u001b[0m     password\u001b[39m=\u001b[39;49m\u001b[39mFalse\u001b[39;49;00m,\n\u001b[0;32m   1182\u001b[0m )\n",
      "File \u001b[1;32m~\\AppData\\Roaming\\Python\\Python39\\site-packages\\ipykernel\\kernelbase.py:1219\u001b[0m, in \u001b[0;36mKernel._input_request\u001b[1;34m(self, prompt, ident, parent, password)\u001b[0m\n\u001b[0;32m   1216\u001b[0m             \u001b[39mbreak\u001b[39;00m\n\u001b[0;32m   1217\u001b[0m \u001b[39mexcept\u001b[39;00m \u001b[39mKeyboardInterrupt\u001b[39;00m:\n\u001b[0;32m   1218\u001b[0m     \u001b[39m# re-raise KeyboardInterrupt, to truncate traceback\u001b[39;00m\n\u001b[1;32m-> 1219\u001b[0m     \u001b[39mraise\u001b[39;00m \u001b[39mKeyboardInterrupt\u001b[39;00m(\u001b[39m\"\u001b[39m\u001b[39mInterrupted by user\u001b[39m\u001b[39m\"\u001b[39m) \u001b[39mfrom\u001b[39;00m \u001b[39mNone\u001b[39m\n\u001b[0;32m   1220\u001b[0m \u001b[39mexcept\u001b[39;00m \u001b[39mException\u001b[39;00m:\n\u001b[0;32m   1221\u001b[0m     \u001b[39mself\u001b[39m\u001b[39m.\u001b[39mlog\u001b[39m.\u001b[39mwarning(\u001b[39m\"\u001b[39m\u001b[39mInvalid Message:\u001b[39m\u001b[39m\"\u001b[39m, exc_info\u001b[39m=\u001b[39m\u001b[39mTrue\u001b[39;00m)\n",
      "\u001b[1;31mKeyboardInterrupt\u001b[0m: Interrupted by user"
     ]
    }
   ],
   "source": [
    "a = input()\n",
    "\n",
    "b = input()\n",
    "\n",
    "c = input()\n",
    "\n",
    "sum = a + b + c\n",
    "\n",
    "print (sum)"
   ]
  },
  {
   "cell_type": "code",
   "execution_count": null,
   "metadata": {},
   "outputs": [
    {
     "name": "stdout",
     "output_type": "stream",
     "text": [
      "январь\n",
      "зима\n"
     ]
    }
   ],
   "source": [
    "list_of_months = {\n",
    "    1: 'январь', 2: 'февраль', 3: 'март',\n",
    "    4: 'апрель', 5: 'май', 6: 'июнь', 7: 'июль',\n",
    "    8: 'август', 9: 'сентябрь', 10: 'октябрь',\n",
    "    11: 'ноябрь', 12: 'декабрь'\n",
    "    }\n",
    "\n",
    "a = int(input())\n",
    "\n",
    "if a == 1 or a == 2 or a == 12:\n",
    "    print(list_of_months.get(a))\n",
    "    print ('зима')\n",
    "elif a == 3 or a == 4 or a == 5:\n",
    "    print ('весна')\n",
    "elif a == 6 or a == 7 or a == 8:\n",
    "    print ('лето')\n",
    "elif a == 9 or a == 10 or a == 11:\n",
    "    print ('осень')\n",
    "else:\n",
    "    print('ошибка')"
   ]
  },
  {
   "cell_type": "code",
   "execution_count": null,
   "metadata": {},
   "outputs": [
    {
     "name": "stdout",
     "output_type": "stream",
     "text": [
      "12\n"
     ]
    }
   ],
   "source": [
    "start_amount = float(input())\n",
    "final_amount = float(input())\n",
    "percent = float(input())\n",
    "\n",
    "month = 0\n",
    "\n",
    "while start_amount < final_amount:\n",
    "    start_amount += start_amount * (percent/100)\n",
    "    month += 1\n",
    "    \n",
    "print(month)\n"
   ]
  },
  {
   "cell_type": "code",
   "execution_count": null,
   "metadata": {},
   "outputs": [
    {
     "name": "stdout",
     "output_type": "stream",
     "text": [
      "2870\n"
     ]
    }
   ],
   "source": [
    "N = int(input())\n",
    "final = 0\n",
    "\n",
    "for i in range(1,N+1):\n",
    "    final += i**2\n",
    "    \n",
    "print(final)\n",
    "    "
   ]
  },
  {
   "cell_type": "code",
   "execution_count": null,
   "metadata": {},
   "outputs": [
    {
     "ename": "TypeError",
     "evalue": "'str' object is not callable",
     "output_type": "error",
     "traceback": [
      "\u001b[1;31m---------------------------------------------------------------------------\u001b[0m",
      "\u001b[1;31mTypeError\u001b[0m                                 Traceback (most recent call last)",
      "Cell \u001b[1;32mIn [30], line 2\u001b[0m\n\u001b[0;32m      1\u001b[0m a \u001b[39m=\u001b[39m \u001b[39mint\u001b[39m(\u001b[39minput\u001b[39m())\n\u001b[1;32m----> 2\u001b[0m a \u001b[39m=\u001b[39m \u001b[39mstr\u001b[39;49m(a)\n\u001b[0;32m      3\u001b[0m a \u001b[39m=\u001b[39m a[::\u001b[39m-\u001b[39m\u001b[39m1\u001b[39m]\n\u001b[0;32m      4\u001b[0m \u001b[39mprint\u001b[39m(a)\n",
      "\u001b[1;31mTypeError\u001b[0m: 'str' object is not callable"
     ]
    }
   ],
   "source": [
    "a = int(input())\n",
    "a = str(a)\n",
    "a = a[::-1]\n",
    "print(a)"
   ]
  },
  {
   "cell_type": "code",
   "execution_count": null,
   "metadata": {},
   "outputs": [
    {
     "data": {
      "text/plain": [
       "261.5"
      ]
     },
     "execution_count": 3,
     "metadata": {},
     "output_type": "execute_result"
    }
   ],
   "source": [
    "def mean(numbers):\n",
    "    return float(sum(numbers)) / max(len(numbers), 1)\n",
    "\n",
    "simplelist = [19, 242, 14, 152, 142, 1000]\n",
    "\n",
    "mean(simplelist)"
   ]
  },
  {
   "cell_type": "code",
   "execution_count": null,
   "metadata": {},
   "outputs": [
    {
     "ename": "TypeError",
     "evalue": "'>' not supported between instances of 'str' and 'int'",
     "output_type": "error",
     "traceback": [
      "\u001b[1;31m---------------------------------------------------------------------------\u001b[0m",
      "\u001b[1;31mTypeError\u001b[0m                                 Traceback (most recent call last)",
      "Cell \u001b[1;32mIn [6], line 8\u001b[0m\n\u001b[0;32m      6\u001b[0m max_a \u001b[38;5;241m=\u001b[39m \u001b[38;5;241m-\u001b[39m\u001b[38;5;241m1\u001b[39m\n\u001b[0;32m      7\u001b[0m \u001b[38;5;28;01mfor\u001b[39;00m key \u001b[38;5;129;01min\u001b[39;00m a:\n\u001b[1;32m----> 8\u001b[0m     \u001b[38;5;28;01mif\u001b[39;00m \u001b[43mkey\u001b[49m\u001b[43m \u001b[49m\u001b[38;5;241;43m>\u001b[39;49m\u001b[43m \u001b[49m\u001b[43mmax_a\u001b[49m:\n\u001b[0;32m      9\u001b[0m         max_a \u001b[38;5;241m=\u001b[39m key\n\u001b[0;32m     10\u001b[0m \u001b[38;5;28mprint\u001b[39m(max_a)\n",
      "\u001b[1;31mTypeError\u001b[0m: '>' not supported between instances of 'str' and 'int'"
     ]
    }
   ],
   "source": [
    "a = {\n",
    "    'Ivanov': 16,\n",
    "    'Cid': 10,\n",
    "    'Koz': 7\n",
    "}\n",
    "max_a = -1\n",
    "for key in a:\n",
    "    if key > max_a:\n",
    "        max_a = key\n",
    "print(max_a)\n"
   ]
  },
  {
   "cell_type": "code",
   "execution_count": 60,
   "metadata": {},
   "outputs": [
    {
     "data": {
      "text/plain": [
       "34"
      ]
     },
     "execution_count": 60,
     "metadata": {},
     "output_type": "execute_result"
    }
   ],
   "source": [
    "def fibonacci(index):\n",
    "    if index == 1:\n",
    "        return 0\n",
    "    if index == 2:\n",
    "        return 1\n",
    "    if index >= 3:\n",
    "        return fibonacci(index-1) + fibonacci(index-2)\n",
    "\n",
    "index = int(input())\n",
    "\n",
    "fibonacci(index)"
   ]
  },
  {
   "cell_type": "code",
   "execution_count": 75,
   "metadata": {},
   "outputs": [
    {
     "ename": "TypeError",
     "evalue": "'str' object is not callable",
     "output_type": "error",
     "traceback": [
      "\u001b[1;31m---------------------------------------------------------------------------\u001b[0m",
      "\u001b[1;31mTypeError\u001b[0m                                 Traceback (most recent call last)",
      "Cell \u001b[1;32mIn [75], line 20\u001b[0m\n\u001b[0;32m     16\u001b[0m         \u001b[39mreturn\u001b[39;00m \u001b[39mstr\u001b[39m(\u001b[39mint\u001b[39m(c))\n\u001b[0;32m     18\u001b[0m a \u001b[39m=\u001b[39m \u001b[39minput\u001b[39m()\n\u001b[1;32m---> 20\u001b[0m last_discharge(a)\n",
      "Cell \u001b[1;32mIn [75], line 16\u001b[0m, in \u001b[0;36mlast_discharge\u001b[1;34m(a)\u001b[0m\n\u001b[0;32m     14\u001b[0m     \u001b[39mreturn\u001b[39;00m \u001b[39mstr\u001b[39m(c)\n\u001b[0;32m     15\u001b[0m \u001b[39melse\u001b[39;00m:\n\u001b[1;32m---> 16\u001b[0m     \u001b[39mreturn\u001b[39;00m \u001b[39mstr\u001b[39;49m(\u001b[39mint\u001b[39;49m(c))\n",
      "\u001b[1;31mTypeError\u001b[0m: 'str' object is not callable"
     ]
    }
   ],
   "source": [
    "def last_discharge(a): \n",
    "    a_new = float(a)\n",
    "        \n",
    "    if \".\" in a:\n",
    "        count = len(a) - a.index(\".\") - 1\n",
    "    else:\n",
    "        count = 0\n",
    "\n",
    "    a_new = a_new*(10**count)\n",
    "    if a_new == int(a_new):\n",
    "        b = a_new-1\n",
    "        c = b/(10**count)\n",
    "        \n",
    "    if count != 0:\n",
    "        return str(c)\n",
    "    else:\n",
    "        return str(int(c))\n",
    "\n",
    "a = input()\n",
    "\n",
    "last_discharge(a)\n",
    "\n"
   ]
  },
  {
   "cell_type": "code",
   "execution_count": 32,
   "metadata": {},
   "outputs": [
    {
     "name": "stdout",
     "output_type": "stream",
     "text": [
      "3 Hello\n",
      "3 hello\n",
      "2 qwerty\n",
      "2 world\n",
      "1 aabb\n"
     ]
    }
   ],
   "source": [
    "from collections import Counter\n",
    "def read_file(file):\n",
    "    f = open(\"test.txt\", \"r\")\n",
    "    text = f.read() # “hello world aabb qwerty hello qwerty world hello”\n",
    "    text_new = text.split()\n",
    "    counter = Counter(text_new)\n",
    "    new_counter = sorted(counter.items(), key = lambda x: (-x[1], x[0]))\n",
    "    \n",
    "    for i in new_counter:\n",
    "        print(i[1], i[0])\n",
    "    \n",
    "    f.close()\n",
    "\n",
    "\n",
    "read_file(\"test.txt\")"
   ]
  },
  {
   "cell_type": "code",
   "execution_count": 11,
   "metadata": {},
   "outputs": [
    {
     "name": "stdout",
     "output_type": "stream",
     "text": [
      "{'Date': '01.09.2022', 'm': 42, 'Bool': True}\n"
     ]
    }
   ],
   "source": [
    "def print_kwargs(**kwargs):\n",
    "    print(kwargs)\n",
    "print_kwargs(Date=\"01.09.2022\", m=42, Bool=True)"
   ]
  },
  {
   "cell_type": "code",
   "execution_count": 42,
   "metadata": {},
   "outputs": [
    {
     "data": {
      "text/plain": [
       "0.2672612419124244"
      ]
     },
     "execution_count": 42,
     "metadata": {},
     "output_type": "execute_result"
    }
   ],
   "source": [
    "class Point3D:\n",
    "    def __init__(self,x,y,z):\n",
    "        self.x = x\n",
    "        self.y = y\n",
    "        self.z = z\n",
    "    def distance_to(self,other):\n",
    "        return ((self.x-other.x)**2 + (self.y-other.y)**2 + (self.z-other.z)**2)**0.5\n",
    "\n",
    "class Segment3D:\n",
    "    def __init__(self, x, y):\n",
    "        self.x = x\n",
    "        self.y = y\n",
    "    def length(self): \n",
    "        return self.x.distance_to(self.y)\n",
    "    \n",
    "    def middle(self):\n",
    "        xm = (self.x.x + self.y.x)/2\n",
    "        ym = (self.x.y + self.y.y)/2\n",
    "        zm = (self.x.z + self.y.z)/2\n",
    "        B = Point3D(xm,ym,zm)\n",
    "        return B\n",
    "\n",
    "    def cos_to(self, other):\n",
    "        X1 = self.x.x - self.y.x\n",
    "        X2 = other.x.x - other.y.x\n",
    "        Y1 = self.x.y - self.y.y\n",
    "        Y2 = other.x.y - other.y.y\n",
    "        Z1 = self.x.z - self.y.z\n",
    "        Z2 = other.x.z - other.y.z\n",
    "        numerator = X1*X2 + Y1*Y2 + Z1* Z2\t\n",
    "        denominator = (X1**2 + Y1**2 + Z1**2)**0.5*(X2**2 + Y2**2 + Z2**2)**0.5\n",
    "        return numerator/denominator\n",
    "\n",
    "s1 = Segment3D(Point3D(0, 0, 0), Point3D(1, 2, 3))\n",
    "s2 = Segment3D(Point3D(0, 0, 0), Point3D(1, 0, 0))\n",
    "s1.cos_to(s2)\n",
    "\n"
   ]
  }
 ],
 "metadata": {
  "kernelspec": {
   "display_name": "Python 3.9.10 64-bit (system)",
   "language": "python",
   "name": "python3"
  },
  "language_info": {
   "codemirror_mode": {
    "name": "ipython",
    "version": 3
   },
   "file_extension": ".py",
   "mimetype": "text/x-python",
   "name": "python",
   "nbconvert_exporter": "python",
   "pygments_lexer": "ipython3",
   "version": "3.9.10"
  },
  "orig_nbformat": 4,
  "vscode": {
   "interpreter": {
    "hash": "8be91b611dbf82fc7c2195f7ad87c066fa09caee77a40ad7d16104ae6fa91d17"
   }
  }
 },
 "nbformat": 4,
 "nbformat_minor": 2
}
