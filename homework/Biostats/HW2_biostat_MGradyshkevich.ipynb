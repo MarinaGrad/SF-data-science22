{
 "cells": [
  {
   "cell_type": "code",
   "execution_count": 45,
   "metadata": {},
   "outputs": [],
   "source": [
    "import numpy as np\n",
    "import matplotlib.pyplot as plt\n",
    "import pandas as pd\n",
    "import scipy.stats as st\n",
    "import random\n",
    "import seaborn as sns\n",
    "import math\n",
    "import scikit_posthocs as sp\n",
    "from math import factorial as fact\n",
    "from cmh import CMH\n",
    "from scipy.stats import t\n",
    "from scipy import stats\n",
    "from scipy.stats import f_oneway"
   ]
  },
  {
   "cell_type": "markdown",
   "metadata": {},
   "source": [
    "Задание 1"
   ]
  },
  {
   "cell_type": "code",
   "execution_count": 51,
   "metadata": {},
   "outputs": [
    {
     "data": {
      "text/html": [
       "<div>\n",
       "<style scoped>\n",
       "    .dataframe tbody tr th:only-of-type {\n",
       "        vertical-align: middle;\n",
       "    }\n",
       "\n",
       "    .dataframe tbody tr th {\n",
       "        vertical-align: top;\n",
       "    }\n",
       "\n",
       "    .dataframe thead th {\n",
       "        text-align: right;\n",
       "    }\n",
       "</style>\n",
       "<table border=\"1\" class=\"dataframe\">\n",
       "  <thead>\n",
       "    <tr style=\"text-align: right;\">\n",
       "      <th></th>\n",
       "      <th>Time_point_1</th>\n",
       "      <th>Time_point_2</th>\n",
       "    </tr>\n",
       "  </thead>\n",
       "  <tbody>\n",
       "    <tr>\n",
       "      <th>0</th>\n",
       "      <td>-0.7995</td>\n",
       "      <td>1.0018</td>\n",
       "    </tr>\n",
       "    <tr>\n",
       "      <th>1</th>\n",
       "      <td>1.0099</td>\n",
       "      <td>-4.1086</td>\n",
       "    </tr>\n",
       "    <tr>\n",
       "      <th>2</th>\n",
       "      <td>3.2986</td>\n",
       "      <td>1.6017</td>\n",
       "    </tr>\n",
       "    <tr>\n",
       "      <th>3</th>\n",
       "      <td>-4.5997</td>\n",
       "      <td>-5.0043</td>\n",
       "    </tr>\n",
       "    <tr>\n",
       "      <th>4</th>\n",
       "      <td>3.4326</td>\n",
       "      <td>-4.2815</td>\n",
       "    </tr>\n",
       "  </tbody>\n",
       "</table>\n",
       "</div>"
      ],
      "text/plain": [
       "   Time_point_1  Time_point_2\n",
       "0       -0.7995        1.0018\n",
       "1        1.0099       -4.1086\n",
       "2        3.2986        1.6017\n",
       "3       -4.5997       -5.0043\n",
       "4        3.4326       -4.2815"
      ]
     },
     "execution_count": 51,
     "metadata": {},
     "output_type": "execute_result"
    }
   ],
   "source": [
    "task_1 = pd.read_csv('Task_1_module2.csv')\n",
    "task_1.head(5)\n"
   ]
  },
  {
   "cell_type": "code",
   "execution_count": 50,
   "metadata": {},
   "outputs": [
    {
     "data": {
      "text/plain": [
       "250"
      ]
     },
     "execution_count": 50,
     "metadata": {},
     "output_type": "execute_result"
    }
   ],
   "source": [
    "len(task_1)"
   ]
  },
  {
   "cell_type": "code",
   "execution_count": 53,
   "metadata": {},
   "outputs": [
    {
     "name": "stdout",
     "output_type": "stream",
     "text": [
      "W-statistic: 0.997\n",
      "p-value: 0.911\n",
      "Выборочное распределение подчиняется нормальному закону\n"
     ]
    }
   ],
   "source": [
    "W_statistic, w_p_val = stats.shapiro(task_1['Time_point_1'])\n",
    "\n",
    "print('W-statistic:', round(W_statistic, 3))\n",
    "print('p-value:', round(w_p_val, 3))\n",
    "if round(w_p_val, 3)>=0.05:\n",
    "    print(\"Выборочное распределение подчиняется нормальному закону\")\n",
    "else:\n",
    "    print(\"Выборочное распределение не подчиняется нормальному закону\")"
   ]
  },
  {
   "cell_type": "code",
   "execution_count": 54,
   "metadata": {},
   "outputs": [
    {
     "name": "stdout",
     "output_type": "stream",
     "text": [
      "W-statistic: 0.993\n",
      "p-value: 0.335\n",
      "Выборочное распределение подчиняется нормальному закону\n"
     ]
    }
   ],
   "source": [
    "W_statistic, w_p_val = stats.shapiro(task_1['Time_point_2'])\n",
    "\n",
    "print('W-statistic:', round(W_statistic, 3))\n",
    "print('p-value:', round(w_p_val, 3))\n",
    "if round(w_p_val, 3)>=0.05:\n",
    "    print(\"Выборочное распределение подчиняется нормальному закону\")\n",
    "else:\n",
    "    print(\"Выборочное распределение не подчиняется нормальному закону\")"
   ]
  },
  {
   "cell_type": "code",
   "execution_count": 39,
   "metadata": {},
   "outputs": [
    {
     "name": "stdout",
     "output_type": "stream",
     "text": [
      "t-statistic: -2.328\n",
      "p-value: 0.021\n",
      "Различие статистически значимо\n"
     ]
    }
   ],
   "source": [
    "t_statistic, p_val = stats.ttest_rel(task_1['Time_point_1'], task_1['Time_point_2'])\n",
    "\n",
    "print('t-statistic:', round(t_statistic, 3))\n",
    "print('p-value:', round(p_val, 3))\n",
    "if round(p_val, 3)<0.05:\n",
    "    print(\"Различие статистически значимо\")"
   ]
  },
  {
   "cell_type": "markdown",
   "metadata": {},
   "source": [
    "Задание 2 "
   ]
  },
  {
   "cell_type": "code",
   "execution_count": 41,
   "metadata": {},
   "outputs": [
    {
     "data": {
      "text/html": [
       "<div>\n",
       "<style scoped>\n",
       "    .dataframe tbody tr th:only-of-type {\n",
       "        vertical-align: middle;\n",
       "    }\n",
       "\n",
       "    .dataframe tbody tr th {\n",
       "        vertical-align: top;\n",
       "    }\n",
       "\n",
       "    .dataframe thead th {\n",
       "        text-align: right;\n",
       "    }\n",
       "</style>\n",
       "<table border=\"1\" class=\"dataframe\">\n",
       "  <thead>\n",
       "    <tr style=\"text-align: right;\">\n",
       "      <th></th>\n",
       "      <th>Time_point_1</th>\n",
       "      <th>Time_point_2</th>\n",
       "    </tr>\n",
       "  </thead>\n",
       "  <tbody>\n",
       "    <tr>\n",
       "      <th>0</th>\n",
       "      <td>481.84</td>\n",
       "      <td>855.01</td>\n",
       "    </tr>\n",
       "    <tr>\n",
       "      <th>1</th>\n",
       "      <td>445.08</td>\n",
       "      <td>30.88</td>\n",
       "    </tr>\n",
       "    <tr>\n",
       "      <th>2</th>\n",
       "      <td>193.37</td>\n",
       "      <td>98.34</td>\n",
       "    </tr>\n",
       "    <tr>\n",
       "      <th>3</th>\n",
       "      <td>26.86</td>\n",
       "      <td>292.64</td>\n",
       "    </tr>\n",
       "    <tr>\n",
       "      <th>4</th>\n",
       "      <td>92.88</td>\n",
       "      <td>95.56</td>\n",
       "    </tr>\n",
       "  </tbody>\n",
       "</table>\n",
       "</div>"
      ],
      "text/plain": [
       "   Time_point_1  Time_point_2\n",
       "0        481.84        855.01\n",
       "1        445.08         30.88\n",
       "2        193.37         98.34\n",
       "3         26.86        292.64\n",
       "4         92.88         95.56"
      ]
     },
     "execution_count": 41,
     "metadata": {},
     "output_type": "execute_result"
    }
   ],
   "source": [
    "task_2 = pd.read_csv('Task_2_module2.csv')\n",
    "task_2.head(5)"
   ]
  },
  {
   "cell_type": "code",
   "execution_count": 55,
   "metadata": {},
   "outputs": [
    {
     "data": {
      "text/plain": [
       "250"
      ]
     },
     "execution_count": 55,
     "metadata": {},
     "output_type": "execute_result"
    }
   ],
   "source": [
    "len(task_2)"
   ]
  },
  {
   "cell_type": "code",
   "execution_count": 56,
   "metadata": {},
   "outputs": [
    {
     "name": "stdout",
     "output_type": "stream",
     "text": [
      "W-statistic: 0.828\n",
      "p-value: 0.0\n",
      "Выборочное распределение не подчиняется нормальному закону\n"
     ]
    }
   ],
   "source": [
    "W_statistic, w_p_val = stats.shapiro(task_2['Time_point_1'])\n",
    "\n",
    "print('W-statistic:', round(W_statistic, 3))\n",
    "print('p-value:', round(w_p_val, 3))\n",
    "if round(w_p_val, 3)>=0.05:\n",
    "    print(\"Выборочное распределение подчиняется нормальному закону\")\n",
    "else:\n",
    "    print(\"Выборочное распределение не подчиняется нормальному закону\")"
   ]
  },
  {
   "cell_type": "code",
   "execution_count": 57,
   "metadata": {},
   "outputs": [
    {
     "name": "stdout",
     "output_type": "stream",
     "text": [
      "W-statistic: 0.837\n",
      "p-value: 0.0\n",
      "Выборочное распределение не подчиняется нормальному закону\n"
     ]
    }
   ],
   "source": [
    "W_statistic, w_p_val = stats.shapiro(task_2['Time_point_2'])\n",
    "\n",
    "print('W-statistic:', round(W_statistic, 3))\n",
    "print('p-value:', round(w_p_val, 3))\n",
    "if round(w_p_val, 3)>=0.05:\n",
    "    print(\"Выборочное распределение подчиняется нормальному закону\")\n",
    "else:\n",
    "    print(\"Выборочное распределение не подчиняется нормальному закону\")"
   ]
  },
  {
   "cell_type": "markdown",
   "metadata": {},
   "source": [
    " Т-критерий Вилкоксона — статистический критерий, используемый для проверки различий двух групп с непрерывными или порядковыми данными. Аналог t-критерия Стьюдента для зависимых выборок."
   ]
  },
  {
   "cell_type": "code",
   "execution_count": null,
   "metadata": {},
   "outputs": [],
   "source": [
    "scipy.stats.wilcoxon(x, y=None, zero_method='wilcox', correction=False, \n",
    " alternative='two-sided', method='auto', *, axis=0, nan_policy='propagate', keepdims=False)[source]"
   ]
  },
  {
   "cell_type": "code",
   "execution_count": 42,
   "metadata": {},
   "outputs": [
    {
     "name": "stdout",
     "output_type": "stream",
     "text": [
      "t-statistic: 14751.0\n",
      "p-value: 0.413\n",
      "Различие статистически незначимо\n"
     ]
    }
   ],
   "source": [
    "t_statistic, p_val = stats.wilcoxon(task_2['Time_point_1'], task_2['Time_point_2'])\n",
    "\n",
    "print('t-statistic:', round(t_statistic, 3))\n",
    "print('p-value:', round(p_val, 3))\n",
    "if round(p_val, 3)<0.05:\n",
    "    print(\"Различие статистически значимо\")\n",
    "else:\n",
    "    print(\"Различие статистически незначимо\")    \n"
   ]
  },
  {
   "cell_type": "markdown",
   "metadata": {},
   "source": [
    "Задание 3"
   ]
  },
  {
   "cell_type": "code",
   "execution_count": 43,
   "metadata": {},
   "outputs": [
    {
     "data": {
      "text/html": [
       "<div>\n",
       "<style scoped>\n",
       "    .dataframe tbody tr th:only-of-type {\n",
       "        vertical-align: middle;\n",
       "    }\n",
       "\n",
       "    .dataframe tbody tr th {\n",
       "        vertical-align: top;\n",
       "    }\n",
       "\n",
       "    .dataframe thead th {\n",
       "        text-align: right;\n",
       "    }\n",
       "</style>\n",
       "<table border=\"1\" class=\"dataframe\">\n",
       "  <thead>\n",
       "    <tr style=\"text-align: right;\">\n",
       "      <th></th>\n",
       "      <th>Group_1</th>\n",
       "      <th>Group_2</th>\n",
       "      <th>Group_3</th>\n",
       "      <th>Group_4</th>\n",
       "    </tr>\n",
       "  </thead>\n",
       "  <tbody>\n",
       "    <tr>\n",
       "      <th>0</th>\n",
       "      <td>-1.4944</td>\n",
       "      <td>7.0439</td>\n",
       "      <td>-7.4954</td>\n",
       "      <td>8.7465</td>\n",
       "    </tr>\n",
       "    <tr>\n",
       "      <th>1</th>\n",
       "      <td>0.3574</td>\n",
       "      <td>5.6963</td>\n",
       "      <td>-11.7362</td>\n",
       "      <td>10.1842</td>\n",
       "    </tr>\n",
       "    <tr>\n",
       "      <th>2</th>\n",
       "      <td>3.7011</td>\n",
       "      <td>6.7439</td>\n",
       "      <td>-14.1450</td>\n",
       "      <td>11.3717</td>\n",
       "    </tr>\n",
       "    <tr>\n",
       "      <th>3</th>\n",
       "      <td>1.0644</td>\n",
       "      <td>2.9705</td>\n",
       "      <td>-8.5661</td>\n",
       "      <td>11.0441</td>\n",
       "    </tr>\n",
       "    <tr>\n",
       "      <th>4</th>\n",
       "      <td>-6.4899</td>\n",
       "      <td>7.4093</td>\n",
       "      <td>-8.4214</td>\n",
       "      <td>12.8535</td>\n",
       "    </tr>\n",
       "  </tbody>\n",
       "</table>\n",
       "</div>"
      ],
      "text/plain": [
       "   Group_1  Group_2  Group_3  Group_4\n",
       "0  -1.4944   7.0439  -7.4954   8.7465\n",
       "1   0.3574   5.6963 -11.7362  10.1842\n",
       "2   3.7011   6.7439 -14.1450  11.3717\n",
       "3   1.0644   2.9705  -8.5661  11.0441\n",
       "4  -6.4899   7.4093  -8.4214  12.8535"
      ]
     },
     "execution_count": 43,
     "metadata": {},
     "output_type": "execute_result"
    }
   ],
   "source": [
    "task_3 = pd.read_csv('Task_3_module2.csv')\n",
    "task_3.head(5)"
   ]
  },
  {
   "cell_type": "code",
   "execution_count": 58,
   "metadata": {},
   "outputs": [
    {
     "name": "stdout",
     "output_type": "stream",
     "text": [
      "W-statistic: 0.996\n",
      "p-value: 0.741\n",
      "Выборочное распределение подчиняется нормальному закону\n"
     ]
    }
   ],
   "source": [
    "W_statistic, w_p_val = stats.shapiro(task_3['Group_1'])\n",
    "\n",
    "print('W-statistic:', round(W_statistic, 3))\n",
    "print('p-value:', round(w_p_val, 3))\n",
    "if round(w_p_val, 3)>=0.05:\n",
    "    print(\"Выборочное распределение подчиняется нормальному закону\")\n",
    "else:\n",
    "    print(\"Выборочное распределение не подчиняется нормальному закону\")"
   ]
  },
  {
   "cell_type": "code",
   "execution_count": 59,
   "metadata": {},
   "outputs": [
    {
     "name": "stdout",
     "output_type": "stream",
     "text": [
      "W-statistic: 0.99\n",
      "p-value: 0.076\n",
      "Выборочное распределение подчиняется нормальному закону\n"
     ]
    }
   ],
   "source": [
    "W_statistic, w_p_val = stats.shapiro(task_3['Group_2'])\n",
    "\n",
    "print('W-statistic:', round(W_statistic, 3))\n",
    "print('p-value:', round(w_p_val, 3))\n",
    "if round(w_p_val, 3)>=0.05:\n",
    "    print(\"Выборочное распределение подчиняется нормальному закону\")\n",
    "else:\n",
    "    print(\"Выборочное распределение не подчиняется нормальному закону\")"
   ]
  },
  {
   "cell_type": "code",
   "execution_count": 60,
   "metadata": {},
   "outputs": [
    {
     "name": "stdout",
     "output_type": "stream",
     "text": [
      "W-statistic: 0.995\n",
      "p-value: 0.528\n",
      "Выборочное распределение подчиняется нормальному закону\n"
     ]
    }
   ],
   "source": [
    "W_statistic, w_p_val = stats.shapiro(task_3['Group_3'])\n",
    "\n",
    "print('W-statistic:', round(W_statistic, 3))\n",
    "print('p-value:', round(w_p_val, 3))\n",
    "if round(w_p_val, 3)>=0.05:\n",
    "    print(\"Выборочное распределение подчиняется нормальному закону\")\n",
    "else:\n",
    "    print(\"Выборочное распределение не подчиняется нормальному закону\")"
   ]
  },
  {
   "cell_type": "code",
   "execution_count": 61,
   "metadata": {},
   "outputs": [
    {
     "name": "stdout",
     "output_type": "stream",
     "text": [
      "W-statistic: 0.996\n",
      "p-value: 0.839\n",
      "Выборочное распределение подчиняется нормальному закону\n"
     ]
    }
   ],
   "source": [
    "W_statistic, w_p_val = stats.shapiro(task_3['Group_4'])\n",
    "\n",
    "print('W-statistic:', round(W_statistic, 3))\n",
    "print('p-value:', round(w_p_val, 3))\n",
    "if round(w_p_val, 3)>=0.05:\n",
    "    print(\"Выборочное распределение подчиняется нормальному закону\")\n",
    "else:\n",
    "    print(\"Выборочное распределение не подчиняется нормальному закону\")"
   ]
  },
  {
   "cell_type": "code",
   "execution_count": 44,
   "metadata": {},
   "outputs": [
    {
     "name": "stdout",
     "output_type": "stream",
     "text": [
      "statistic: 2019.112\n",
      "p-value: 0.0\n",
      "Различие статистически значимо\n"
     ]
    }
   ],
   "source": [
    "f_value, p_value = f_oneway(task_3['Group_1'], task_3['Group_2'], task_3['Group_3'], task_3['Group_4'])\n",
    "\n",
    "print('statistic:', round(f_value, 3))\n",
    "print('p-value:', round(p_value, 3))\n",
    "if p_value<0.05:\n",
    "    print (\"Различие статистически значимо\")\n",
    "else:\n",
    "    print(\"Различие статистически не значимо\")"
   ]
  },
  {
   "cell_type": "markdown",
   "metadata": {},
   "source": [
    "Задание 4 "
   ]
  },
  {
   "cell_type": "code",
   "execution_count": 64,
   "metadata": {},
   "outputs": [
    {
     "data": {
      "text/html": [
       "<div>\n",
       "<style scoped>\n",
       "    .dataframe tbody tr th:only-of-type {\n",
       "        vertical-align: middle;\n",
       "    }\n",
       "\n",
       "    .dataframe tbody tr th {\n",
       "        vertical-align: top;\n",
       "    }\n",
       "\n",
       "    .dataframe thead th {\n",
       "        text-align: right;\n",
       "    }\n",
       "</style>\n",
       "<table border=\"1\" class=\"dataframe\">\n",
       "  <thead>\n",
       "    <tr style=\"text-align: right;\">\n",
       "      <th></th>\n",
       "      <th>Group</th>\n",
       "      <th>Value</th>\n",
       "    </tr>\n",
       "  </thead>\n",
       "  <tbody>\n",
       "    <tr>\n",
       "      <th>0</th>\n",
       "      <td>Group_1</td>\n",
       "      <td>-1.4944</td>\n",
       "    </tr>\n",
       "    <tr>\n",
       "      <th>1</th>\n",
       "      <td>Group_1</td>\n",
       "      <td>0.3574</td>\n",
       "    </tr>\n",
       "    <tr>\n",
       "      <th>2</th>\n",
       "      <td>Group_1</td>\n",
       "      <td>3.7011</td>\n",
       "    </tr>\n",
       "    <tr>\n",
       "      <th>3</th>\n",
       "      <td>Group_1</td>\n",
       "      <td>1.0644</td>\n",
       "    </tr>\n",
       "    <tr>\n",
       "      <th>4</th>\n",
       "      <td>Group_1</td>\n",
       "      <td>-6.4899</td>\n",
       "    </tr>\n",
       "  </tbody>\n",
       "</table>\n",
       "</div>"
      ],
      "text/plain": [
       "     Group   Value\n",
       "0  Group_1 -1.4944\n",
       "1  Group_1  0.3574\n",
       "2  Group_1  3.7011\n",
       "3  Group_1  1.0644\n",
       "4  Group_1 -6.4899"
      ]
     },
     "execution_count": 64,
     "metadata": {},
     "output_type": "execute_result"
    }
   ],
   "source": [
    "data_long = task_3.melt(var_name='Group', value_name='Value')\n",
    "data_long.head(5)"
   ]
  },
  {
   "cell_type": "code",
   "execution_count": 66,
   "metadata": {},
   "outputs": [
    {
     "data": {
      "text/html": [
       "<div>\n",
       "<style scoped>\n",
       "    .dataframe tbody tr th:only-of-type {\n",
       "        vertical-align: middle;\n",
       "    }\n",
       "\n",
       "    .dataframe tbody tr th {\n",
       "        vertical-align: top;\n",
       "    }\n",
       "\n",
       "    .dataframe thead th {\n",
       "        text-align: right;\n",
       "    }\n",
       "</style>\n",
       "<table border=\"1\" class=\"dataframe\">\n",
       "  <thead>\n",
       "    <tr style=\"text-align: right;\">\n",
       "      <th></th>\n",
       "      <th>Group_1</th>\n",
       "      <th>Group_2</th>\n",
       "      <th>Group_3</th>\n",
       "      <th>Group_4</th>\n",
       "    </tr>\n",
       "  </thead>\n",
       "  <tbody>\n",
       "    <tr>\n",
       "      <th>Group_1</th>\n",
       "      <td>1.000000e+00</td>\n",
       "      <td>1.763846e-63</td>\n",
       "      <td>1.037998e-146</td>\n",
       "      <td>1.340119e-146</td>\n",
       "    </tr>\n",
       "    <tr>\n",
       "      <th>Group_2</th>\n",
       "      <td>1.763846e-63</td>\n",
       "      <td>1.000000e+00</td>\n",
       "      <td>1.142708e-218</td>\n",
       "      <td>2.165798e-56</td>\n",
       "    </tr>\n",
       "    <tr>\n",
       "      <th>Group_3</th>\n",
       "      <td>1.037998e-146</td>\n",
       "      <td>1.142708e-218</td>\n",
       "      <td>1.000000e+00</td>\n",
       "      <td>8.126670e-270</td>\n",
       "    </tr>\n",
       "    <tr>\n",
       "      <th>Group_4</th>\n",
       "      <td>1.340119e-146</td>\n",
       "      <td>2.165798e-56</td>\n",
       "      <td>8.126670e-270</td>\n",
       "      <td>1.000000e+00</td>\n",
       "    </tr>\n",
       "  </tbody>\n",
       "</table>\n",
       "</div>"
      ],
      "text/plain": [
       "               Group_1        Group_2        Group_3        Group_4\n",
       "Group_1   1.000000e+00   1.763846e-63  1.037998e-146  1.340119e-146\n",
       "Group_2   1.763846e-63   1.000000e+00  1.142708e-218   2.165798e-56\n",
       "Group_3  1.037998e-146  1.142708e-218   1.000000e+00  8.126670e-270\n",
       "Group_4  1.340119e-146   2.165798e-56  8.126670e-270   1.000000e+00"
      ]
     },
     "execution_count": 66,
     "metadata": {},
     "output_type": "execute_result"
    }
   ],
   "source": [
    "import scikit_posthocs as sp\n",
    "sp.posthoc_ttest(data_long, val_col='Value', group_col='Group', p_adjust=\"holm\")"
   ]
  },
  {
   "cell_type": "code",
   "execution_count": 67,
   "metadata": {},
   "outputs": [
    {
     "data": {
      "text/html": [
       "<div>\n",
       "<style scoped>\n",
       "    .dataframe tbody tr th:only-of-type {\n",
       "        vertical-align: middle;\n",
       "    }\n",
       "\n",
       "    .dataframe tbody tr th {\n",
       "        vertical-align: top;\n",
       "    }\n",
       "\n",
       "    .dataframe thead th {\n",
       "        text-align: right;\n",
       "    }\n",
       "</style>\n",
       "<table border=\"1\" class=\"dataframe\">\n",
       "  <thead>\n",
       "    <tr style=\"text-align: right;\">\n",
       "      <th></th>\n",
       "      <th>Group_1</th>\n",
       "      <th>Group_2</th>\n",
       "      <th>Group_3</th>\n",
       "      <th>Group_4</th>\n",
       "    </tr>\n",
       "  </thead>\n",
       "  <tbody>\n",
       "    <tr>\n",
       "      <th>Group_1</th>\n",
       "      <td>1.0</td>\n",
       "      <td>0.0</td>\n",
       "      <td>0.0</td>\n",
       "      <td>0.0</td>\n",
       "    </tr>\n",
       "    <tr>\n",
       "      <th>Group_2</th>\n",
       "      <td>0.0</td>\n",
       "      <td>1.0</td>\n",
       "      <td>0.0</td>\n",
       "      <td>0.0</td>\n",
       "    </tr>\n",
       "    <tr>\n",
       "      <th>Group_3</th>\n",
       "      <td>0.0</td>\n",
       "      <td>0.0</td>\n",
       "      <td>1.0</td>\n",
       "      <td>0.0</td>\n",
       "    </tr>\n",
       "    <tr>\n",
       "      <th>Group_4</th>\n",
       "      <td>0.0</td>\n",
       "      <td>0.0</td>\n",
       "      <td>0.0</td>\n",
       "      <td>1.0</td>\n",
       "    </tr>\n",
       "  </tbody>\n",
       "</table>\n",
       "</div>"
      ],
      "text/plain": [
       "         Group_1  Group_2  Group_3  Group_4\n",
       "Group_1      1.0      0.0      0.0      0.0\n",
       "Group_2      0.0      1.0      0.0      0.0\n",
       "Group_3      0.0      0.0      1.0      0.0\n",
       "Group_4      0.0      0.0      0.0      1.0"
      ]
     },
     "execution_count": 67,
     "metadata": {},
     "output_type": "execute_result"
    }
   ],
   "source": [
    "sp.posthoc_ttest(data_long, val_col='Value', group_col='Group', p_adjust=\"holm\").round(3)"
   ]
  },
  {
   "cell_type": "markdown",
   "metadata": {},
   "source": [
    " Вывод: все группы между собой отличаются, то есть нет ни одной пары, которая была бы взята из одного распределения"
   ]
  },
  {
   "cell_type": "markdown",
   "metadata": {},
   "source": [
    "Задание 5"
   ]
  },
  {
   "cell_type": "code",
   "execution_count": 23,
   "metadata": {},
   "outputs": [
    {
     "data": {
      "text/html": [
       "<div>\n",
       "<style scoped>\n",
       "    .dataframe tbody tr th:only-of-type {\n",
       "        vertical-align: middle;\n",
       "    }\n",
       "\n",
       "    .dataframe tbody tr th {\n",
       "        vertical-align: top;\n",
       "    }\n",
       "\n",
       "    .dataframe thead th {\n",
       "        text-align: right;\n",
       "    }\n",
       "</style>\n",
       "<table border=\"1\" class=\"dataframe\">\n",
       "  <thead>\n",
       "    <tr style=\"text-align: right;\">\n",
       "      <th></th>\n",
       "      <th>Color</th>\n",
       "      <th>City</th>\n",
       "    </tr>\n",
       "  </thead>\n",
       "  <tbody>\n",
       "    <tr>\n",
       "      <th>0</th>\n",
       "      <td>Синий</td>\n",
       "      <td>Токио</td>\n",
       "    </tr>\n",
       "    <tr>\n",
       "      <th>1</th>\n",
       "      <td>Жёлтый</td>\n",
       "      <td>Лондон</td>\n",
       "    </tr>\n",
       "    <tr>\n",
       "      <th>2</th>\n",
       "      <td>Жёлтый</td>\n",
       "      <td>Токио</td>\n",
       "    </tr>\n",
       "    <tr>\n",
       "      <th>3</th>\n",
       "      <td>Чёрный</td>\n",
       "      <td>Москва</td>\n",
       "    </tr>\n",
       "    <tr>\n",
       "      <th>4</th>\n",
       "      <td>Зелёный</td>\n",
       "      <td>Москва</td>\n",
       "    </tr>\n",
       "  </tbody>\n",
       "</table>\n",
       "</div>"
      ],
      "text/plain": [
       "     Color    City\n",
       "0    Синий   Токио\n",
       "1   Жёлтый  Лондон\n",
       "2   Жёлтый   Токио\n",
       "3   Чёрный  Москва\n",
       "4  Зелёный  Москва"
      ]
     },
     "execution_count": 23,
     "metadata": {},
     "output_type": "execute_result"
    }
   ],
   "source": [
    "task_5 = pd.read_csv('Task_5_module2.csv')\n",
    "task_5.head(5)"
   ]
  },
  {
   "cell_type": "code",
   "execution_count": 68,
   "metadata": {},
   "outputs": [
    {
     "data": {
      "text/plain": [
       "25000"
      ]
     },
     "execution_count": 68,
     "metadata": {},
     "output_type": "execute_result"
    }
   ],
   "source": [
    "len(task_5)"
   ]
  },
  {
   "cell_type": "code",
   "execution_count": 36,
   "metadata": {},
   "outputs": [
    {
     "data": {
      "text/html": [
       "<div>\n",
       "<style scoped>\n",
       "    .dataframe tbody tr th:only-of-type {\n",
       "        vertical-align: middle;\n",
       "    }\n",
       "\n",
       "    .dataframe tbody tr th {\n",
       "        vertical-align: top;\n",
       "    }\n",
       "\n",
       "    .dataframe thead th {\n",
       "        text-align: right;\n",
       "    }\n",
       "</style>\n",
       "<table border=\"1\" class=\"dataframe\">\n",
       "  <thead>\n",
       "    <tr style=\"text-align: right;\">\n",
       "      <th>Color</th>\n",
       "      <th>Белый</th>\n",
       "      <th>Жёлтый</th>\n",
       "      <th>Зелёный</th>\n",
       "      <th>Красный</th>\n",
       "      <th>Синий</th>\n",
       "      <th>Сиреневый</th>\n",
       "      <th>Чёрный</th>\n",
       "    </tr>\n",
       "    <tr>\n",
       "      <th>City</th>\n",
       "      <th></th>\n",
       "      <th></th>\n",
       "      <th></th>\n",
       "      <th></th>\n",
       "      <th></th>\n",
       "      <th></th>\n",
       "      <th></th>\n",
       "    </tr>\n",
       "  </thead>\n",
       "  <tbody>\n",
       "    <tr>\n",
       "      <th>Лондон</th>\n",
       "      <td>1183</td>\n",
       "      <td>1241</td>\n",
       "      <td>1114</td>\n",
       "      <td>1188</td>\n",
       "      <td>1182</td>\n",
       "      <td>1151</td>\n",
       "      <td>1156</td>\n",
       "    </tr>\n",
       "    <tr>\n",
       "      <th>Москва</th>\n",
       "      <td>1178</td>\n",
       "      <td>1180</td>\n",
       "      <td>1251</td>\n",
       "      <td>1233</td>\n",
       "      <td>1182</td>\n",
       "      <td>1200</td>\n",
       "      <td>1193</td>\n",
       "    </tr>\n",
       "    <tr>\n",
       "      <th>Токио</th>\n",
       "      <td>1224</td>\n",
       "      <td>1162</td>\n",
       "      <td>1223</td>\n",
       "      <td>1224</td>\n",
       "      <td>1185</td>\n",
       "      <td>1163</td>\n",
       "      <td>1187</td>\n",
       "    </tr>\n",
       "  </tbody>\n",
       "</table>\n",
       "</div>"
      ],
      "text/plain": [
       "Color   Белый  Жёлтый  Зелёный  Красный  Синий  Сиреневый  Чёрный\n",
       "City                                                             \n",
       "Лондон   1183    1241     1114     1188   1182       1151    1156\n",
       "Москва   1178    1180     1251     1233   1182       1200    1193\n",
       "Токио    1224    1162     1223     1224   1185       1163    1187"
      ]
     },
     "execution_count": 36,
     "metadata": {},
     "output_type": "execute_result"
    }
   ],
   "source": [
    "crosstab_1 = pd.crosstab(task_5['City'], task_5['Color'])\n",
    "crosstab_1"
   ]
  },
  {
   "cell_type": "markdown",
   "metadata": {},
   "source": [
    "Задание 6"
   ]
  },
  {
   "cell_type": "code",
   "execution_count": 74,
   "metadata": {},
   "outputs": [],
   "source": [
    "chi2_task6, p_value_task6, dof_task6, expected_freq_task6 = st.chi2_contingency(crosstab_1)"
   ]
  },
  {
   "cell_type": "code",
   "execution_count": 73,
   "metadata": {},
   "outputs": [
    {
     "name": "stdout",
     "output_type": "stream",
     "text": [
      "Статистика равна: 12.818\n",
      "P-value равен: 0.382\n",
      "Число степеней свободы: 12\n",
      "Ожидаемые частоты: [[1178.031 1177.374 1179.017 1197.747 1166.201 1154.7   1161.93 ]\n",
      " [1206.998 1206.324 1208.008 1227.199 1194.877 1183.094 1190.5  ]\n",
      " [1199.971 1199.302 1200.975 1220.054 1187.921 1176.206 1183.57 ]]\n"
     ]
    }
   ],
   "source": [
    "print('Статистика равна:', round(chi2_task6,3))\n",
    "print('P-value равен:', round(p_value_task6,3))\n",
    "print('Число степеней свободы:', round(dof_task6,3))\n",
    "print('Ожидаемые частоты:', np.round(expected_freq_task6,3))"
   ]
  },
  {
   "cell_type": "markdown",
   "metadata": {},
   "source": [
    "P-value = 0.382, не можем отвергнуть нулевую гипотезу об отсутствии зависимости между городом и цветом машины"
   ]
  },
  {
   "cell_type": "code",
   "execution_count": 77,
   "metadata": {},
   "outputs": [
    {
     "name": "stdout",
     "output_type": "stream",
     "text": [
      "Критическое значение равно: 21.026\n"
     ]
    }
   ],
   "source": [
    "print('Критическое значение равно:', round(st.chi2.ppf(0.95, df=dof_task6),3))"
   ]
  },
  {
   "cell_type": "markdown",
   "metadata": {},
   "source": [
    "Статистика = 12.818, критическое значение равно 21.026. Статистика входит в область основной гипотезы. Не можем отвергнуть нулевую гипотезу об отсутствии зависимости между городом и цветом машины"
   ]
  }
 ],
 "metadata": {
  "kernelspec": {
   "display_name": "Python 3.9.10 64-bit",
   "language": "python",
   "name": "python3"
  },
  "language_info": {
   "codemirror_mode": {
    "name": "ipython",
    "version": 3
   },
   "file_extension": ".py",
   "mimetype": "text/x-python",
   "name": "python",
   "nbconvert_exporter": "python",
   "pygments_lexer": "ipython3",
   "version": "3.9.10"
  },
  "orig_nbformat": 4,
  "vscode": {
   "interpreter": {
    "hash": "8be91b611dbf82fc7c2195f7ad87c066fa09caee77a40ad7d16104ae6fa91d17"
   }
  }
 },
 "nbformat": 4,
 "nbformat_minor": 2
}
