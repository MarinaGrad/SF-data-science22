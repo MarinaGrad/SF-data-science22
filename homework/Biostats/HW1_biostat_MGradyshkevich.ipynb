{
 "cells": [
  {
   "cell_type": "code",
   "execution_count": 14,
   "metadata": {},
   "outputs": [],
   "source": [
    "import numpy as np\n",
    "import matplotlib.pyplot as plt\n",
    "import pandas as pd\n",
    "import scipy.stats as st\n",
    "import random\n",
    "import seaborn as sns\n",
    "import math\n",
    "import statistics"
   ]
  },
  {
   "cell_type": "markdown",
   "metadata": {},
   "source": [
    "Задание 1:"
   ]
  },
  {
   "cell_type": "code",
   "execution_count": null,
   "metadata": {},
   "outputs": [],
   "source": [
    "task_1 = pd.read_csv('Task_1.csv')\n",
    "print(len(task_1))\n",
    "\n",
    "task_1.head(3)"
   ]
  },
  {
   "cell_type": "code",
   "execution_count": 127,
   "metadata": {},
   "outputs": [
    {
     "name": "stdout",
     "output_type": "stream",
     "text": [
      "Среднее равно:  177.34\n",
      "Стандартное отклонение равно: 115.23\n",
      "Дисперсия равна:  13285.81\n",
      "Мода равна:  81.38\n"
     ]
    }
   ],
   "source": [
    "m = np.round(np.mean(task_1['Values']), 2)\n",
    "s = np.round(np.std(task_1['Values']), 2)\n",
    "var = np.round(statistics.variance((task_1['Values'])), 2)\n",
    "mode = statistics.mode(task_1['Values'])\n",
    "print('Среднее равно: ', m)\n",
    "print('Стандартное отклонение равно:', s)\n",
    "print('Дисперсия равна: ', var)\n",
    "print('Мода равна: ', round(mode, 2))"
   ]
  },
  {
   "cell_type": "code",
   "execution_count": 126,
   "metadata": {},
   "outputs": [
    {
     "name": "stdout",
     "output_type": "stream",
     "text": [
      "2 процентиль равен: 38.94\n"
     ]
    }
   ],
   "source": [
    "perc_2 = np.percentile(task_1['Values'], 2)\n",
    "print(\"2 процентиль равен:\", round(perc_2, 2))"
   ]
  },
  {
   "cell_type": "code",
   "execution_count": 125,
   "metadata": {},
   "outputs": [
    {
     "name": "stdout",
     "output_type": "stream",
     "text": [
      "1-й квартиль равен: 99.23\n",
      "2-й квартиль равен: 151.07\n",
      "3-й квартиль равен: 220.37\n",
      "4-й квартиль равен: 928.66\n"
     ]
    }
   ],
   "source": [
    "quant_1 = np.quantile(task_1['Values'], 0.25)\n",
    "quant_2 = np.quantile(task_1['Values'], 0.5)\n",
    "quant_3 = np.quantile(task_1['Values'], 0.75)\n",
    "quant_4 = np.quantile(task_1['Values'], 1)\n",
    "print(\"1-й квартиль равен:\", round(quant_1, 2))\n",
    "print(\"2-й квартиль равен:\", round(quant_2, 2))\n",
    "print(\"3-й квартиль равен:\", round(quant_3, 2))\n",
    "print(\"4-й квартиль равен:\", round(quant_4, 2))"
   ]
  },
  {
   "cell_type": "code",
   "execution_count": 124,
   "metadata": {},
   "outputs": [
    {
     "name": "stdout",
     "output_type": "stream",
     "text": [
      "Интерквартильный размах равен: 121.14\n"
     ]
    }
   ],
   "source": [
    "iqr = quant_3 - quant_1\n",
    "print(\"Интерквартильный размах равен:\", round(iqr, 2))"
   ]
  },
  {
   "cell_type": "markdown",
   "metadata": {},
   "source": [
    "Задание 2.1:"
   ]
  },
  {
   "cell_type": "code",
   "execution_count": null,
   "metadata": {},
   "outputs": [],
   "source": [
    "task_2_1 = pd.read_csv('Task_2_1.csv')\n",
    "print(len(task_2_1))\n",
    "\n",
    "task_2_1.head(3)"
   ]
  },
  {
   "cell_type": "code",
   "execution_count": 122,
   "metadata": {},
   "outputs": [
    {
     "name": "stdout",
     "output_type": "stream",
     "text": [
      "Среднее равно:  877.68\n",
      "Стандартное отклонение равно: 656.45\n",
      "Дисперсия равна:  436753.42\n"
     ]
    }
   ],
   "source": [
    "m2 = np.round(np.mean(task_2_1['Values']), 2)\n",
    "s2 = np.round(np.std(task_2_1['Values']), 2)\n",
    "var2 = np.round(statistics.variance((task_2_1['Values'])), 2)\n",
    "\n",
    "print('Среднее равно: ', m2)\n",
    "print('Стандартное отклонение равно:', s2)\n",
    "print('Дисперсия равна: ', var2)"
   ]
  },
  {
   "cell_type": "code",
   "execution_count": 121,
   "metadata": {},
   "outputs": [
    {
     "name": "stdout",
     "output_type": "stream",
     "text": [
      "1-й квартиль равен: 296.66\n",
      "3-й квартиль равен: 1244.9\n"
     ]
    }
   ],
   "source": [
    "quant_1_task2 = np.quantile(task_2_1['Values'], 0.25)\n",
    "quant_3_task2 = np.quantile(task_2_1['Values'], 0.75)\n",
    "print(\"1-й квартиль равен:\", round(quant_1_task2, 2))\n",
    "print(\"3-й квартиль равен:\", round(quant_3_task2, 2))\n"
   ]
  },
  {
   "cell_type": "markdown",
   "metadata": {},
   "source": [
    "Задание 2.2: "
   ]
  },
  {
   "cell_type": "code",
   "execution_count": null,
   "metadata": {},
   "outputs": [],
   "source": [
    "task_2_2 = pd.read_csv('Task_2_2.csv')\n",
    "print(len(task_2_2))\n",
    "\n",
    "task_2_2.head(3)"
   ]
  },
  {
   "cell_type": "code",
   "execution_count": 120,
   "metadata": {},
   "outputs": [
    {
     "data": {
      "text/plain": [
       "Purple Audi      30\n",
       "Red Mercedes     27\n",
       "Blue BMW         23\n",
       "Jellow Toyota    22\n",
       "Name: Value, dtype: int64"
      ]
     },
     "execution_count": 120,
     "metadata": {},
     "output_type": "execute_result"
    }
   ],
   "source": [
    "# абсолютные частоты\n",
    "task_2_2['Value'].value_counts()"
   ]
  },
  {
   "cell_type": "code",
   "execution_count": 119,
   "metadata": {},
   "outputs": [
    {
     "data": {
      "text/plain": [
       "Purple Audi      0.29\n",
       "Red Mercedes     0.26\n",
       "Blue BMW         0.23\n",
       "Jellow Toyota    0.22\n",
       "Name: Value, dtype: float64"
      ]
     },
     "execution_count": 119,
     "metadata": {},
     "output_type": "execute_result"
    }
   ],
   "source": [
    "# относительные частоты\n",
    "task_2_2['Value'].value_counts(normalize=True).round(2)"
   ]
  },
  {
   "cell_type": "code",
   "execution_count": 65,
   "metadata": {},
   "outputs": [
    {
     "data": {
      "text/plain": [
       "'Jellow Toyota'"
      ]
     },
     "execution_count": 65,
     "metadata": {},
     "output_type": "execute_result"
    }
   ],
   "source": [
    "task_2_2['Value'].value_counts().index[-1]"
   ]
  },
  {
   "cell_type": "markdown",
   "metadata": {},
   "source": [
    "Задание 3:"
   ]
  },
  {
   "cell_type": "code",
   "execution_count": null,
   "metadata": {},
   "outputs": [],
   "source": [
    "task_2_1 = pd.read_csv('Task_2_1.csv')\n",
    "print(len(task_2_1))\n",
    "\n",
    "task_2_1.head(3)"
   ]
  },
  {
   "cell_type": "code",
   "execution_count": 103,
   "metadata": {},
   "outputs": [],
   "source": [
    "results = []\n",
    "for i in range(10_000):\n",
    "    sample1 = np.random.choice(task_2_1['Values'], 75, replace=True)\n",
    "    results.append(sample1.mean())"
   ]
  },
  {
   "cell_type": "code",
   "execution_count": null,
   "metadata": {},
   "outputs": [],
   "source": [
    "sns.distplot(results)"
   ]
  },
  {
   "cell_type": "code",
   "execution_count": 108,
   "metadata": {},
   "outputs": [
    {
     "name": "stdout",
     "output_type": "stream",
     "text": [
      "90% доверительный интервал среднего (t-распределение): (753.9047285804638, 1001.346585606203)\n"
     ]
    },
    {
     "name": "stderr",
     "output_type": "stream",
     "text": [
      "C:\\Users\\Марина\\AppData\\Local\\Temp\\ipykernel_15480\\2889623002.py:2: DeprecationWarning: Use of keyword argument `alpha` for method `interval` is deprecated. Use first positional argument or keyword argument `confidence` instead.\n",
      "  CI_t = st.t.interval(alpha=0.9, df=len(results)-1, loc=np.mean(results), scale=np.std(results))\n"
     ]
    }
   ],
   "source": [
    "#t-распределение\n",
    "CI_t = st.t.interval(alpha=0.9, df=len(results)-1, loc=np.mean(results), scale=np.std(results))\n",
    "print(\"90% доверительный интервал среднего (t-распределение):\", CI_t)"
   ]
  },
  {
   "cell_type": "markdown",
   "metadata": {},
   "source": [
    "Задание 4:"
   ]
  },
  {
   "cell_type": "markdown",
   "metadata": {},
   "source": [
    "Истинное среднее нашей совокупности (783.21) попадает в доверительный интервал выборки (753.9 - 1001.3)\n",
    "Сгенерировать выборку для проведения доп. тестов не можем, т.к неизвестны  распределения, средние, дисперсии нашей совокупности и т.д."
   ]
  },
  {
   "cell_type": "markdown",
   "metadata": {},
   "source": [
    "Задание 5:"
   ]
  },
  {
   "cell_type": "code",
   "execution_count": 112,
   "metadata": {},
   "outputs": [],
   "source": [
    "from scipy import integrate"
   ]
  },
  {
   "cell_type": "code",
   "execution_count": 113,
   "metadata": {},
   "outputs": [],
   "source": [
    "def func(x):   \n",
    "    return (\n",
    "        1/(\n",
    "            7.5*np.sqrt(2*np.pi)\n",
    "            ))*np.exp(-(x-32)**2/(2*7.5**2)\n",
    "                      )*(x-32)**2/(2*7.5**2)"
   ]
  },
  {
   "cell_type": "code",
   "execution_count": 115,
   "metadata": {},
   "outputs": [
    {
     "data": {
      "text/plain": [
       "0.25405684274449747"
      ]
     },
     "execution_count": 115,
     "metadata": {},
     "output_type": "execute_result"
    }
   ],
   "source": [
    "integrate.quad(func,-40,35)[0]"
   ]
  }
 ],
 "metadata": {
  "kernelspec": {
   "display_name": "Python 3.9.10 64-bit",
   "language": "python",
   "name": "python3"
  },
  "language_info": {
   "codemirror_mode": {
    "name": "ipython",
    "version": 3
   },
   "file_extension": ".py",
   "mimetype": "text/x-python",
   "name": "python",
   "nbconvert_exporter": "python",
   "pygments_lexer": "ipython3",
   "version": "3.9.10"
  },
  "orig_nbformat": 4,
  "vscode": {
   "interpreter": {
    "hash": "8be91b611dbf82fc7c2195f7ad87c066fa09caee77a40ad7d16104ae6fa91d17"
   }
  }
 },
 "nbformat": 4,
 "nbformat_minor": 2
}
