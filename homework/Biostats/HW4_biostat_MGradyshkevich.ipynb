{
 "cells": [
  {
   "cell_type": "code",
   "execution_count": 47,
   "metadata": {},
   "outputs": [],
   "source": [
    "from scipy import stats\n",
    "from scipy.stats import norm\n",
    "import math\n",
    "import numpy as np\n",
    "import pandas as pd\n",
    "import matplotlib.pyplot as plt\n",
    "import statsmodels.stats.power as smp\n",
    "from pathlib import Path"
   ]
  },
  {
   "cell_type": "markdown",
   "metadata": {},
   "source": [
    "Задача 1"
   ]
  },
  {
   "cell_type": "code",
   "execution_count": 69,
   "metadata": {},
   "outputs": [],
   "source": [
    "alpha_ = 0.05 \n",
    "beta_ = 0.2\n",
    "power_ = 1-beta_\n",
    "dropout_rate = 0.1\n",
    "ratio = 1\n",
    "TheNew_p = 0.65\n",
    "TheGold_p = 0.53\n"
   ]
  },
  {
   "cell_type": "code",
   "execution_count": 70,
   "metadata": {},
   "outputs": [],
   "source": [
    "z_alpha = abs(norm.ppf((alpha_/2)))\n",
    "z_beta = abs(norm.ppf(1-beta_))"
   ]
  },
  {
   "cell_type": "code",
   "execution_count": 71,
   "metadata": {},
   "outputs": [],
   "source": [
    "Q1 = 1-TheNew_p\n",
    "Q2 = 1-TheGold_p\n",
    "p_mean = (TheGold_p+TheNew_p)/2\n",
    "Q_mean = 1 - p_mean"
   ]
  },
  {
   "cell_type": "code",
   "execution_count": 72,
   "metadata": {},
   "outputs": [
    {
     "data": {
      "text/plain": [
       "263"
      ]
     },
     "execution_count": 72,
     "metadata": {},
     "output_type": "execute_result"
    }
   ],
   "source": [
    "n_task1 = math.ceil((((z_alpha*(2*p_mean*Q_mean)**0.5)+z_beta*((TheNew_p*Q1+TheGold_p*Q2)**0.5))**2)/((TheNew_p-TheGold_p)**2))\n",
    "n_task1"
   ]
  },
  {
   "cell_type": "code",
   "execution_count": 73,
   "metadata": {},
   "outputs": [
    {
     "data": {
      "text/plain": [
       "280"
      ]
     },
     "execution_count": 73,
     "metadata": {},
     "output_type": "execute_result"
    }
   ],
   "source": [
    "n2_task1 = math.ceil(n_task1/4*((1+(1+4/(n_task1*abs(TheNew_p-TheGold_p)))**0.5)**2))\n",
    "n2_task1"
   ]
  },
  {
   "cell_type": "code",
   "execution_count": 89,
   "metadata": {},
   "outputs": [
    {
     "data": {
      "text/plain": [
       "560"
      ]
     },
     "execution_count": 89,
     "metadata": {},
     "output_type": "execute_result"
    }
   ],
   "source": [
    "n_for2_groups = n2_task1*2\n",
    "n_for2_groups"
   ]
  },
  {
   "cell_type": "code",
   "execution_count": 117,
   "metadata": {},
   "outputs": [
    {
     "data": {
      "text/plain": [
       "623"
      ]
     },
     "execution_count": 117,
     "metadata": {},
     "output_type": "execute_result"
    }
   ],
   "source": [
    "n2_dropout = math.ceil(n_for2_groups/(1-dropout_rate))\n",
    "n2_dropout"
   ]
  },
  {
   "cell_type": "code",
   "execution_count": 118,
   "metadata": {},
   "outputs": [
    {
     "name": "stdout",
     "output_type": "stream",
     "text": [
      "Размер выборки, чтобы показать статистически значимое различие при мощности 80%: 624\n"
     ]
    }
   ],
   "source": [
    "print(\"Размер выборки, чтобы показать статистически значимое различие при мощности 80%:\", n2_dropout+1)"
   ]
  },
  {
   "cell_type": "markdown",
   "metadata": {},
   "source": [
    "Задача 2"
   ]
  },
  {
   "cell_type": "code",
   "execution_count": 76,
   "metadata": {},
   "outputs": [],
   "source": [
    "alpha_ = 0.05 \n",
    "beta_ = 0.2\n",
    "power_ = 1-beta_\n",
    "dropout_rate = 0.1\n",
    "margin = 0.1\n",
    "HR = 1.3\n",
    "p1 = 0.5\n",
    "p2 = 0.5"
   ]
  },
  {
   "cell_type": "code",
   "execution_count": 77,
   "metadata": {},
   "outputs": [],
   "source": [
    "z_alpha = abs(norm.ppf((alpha_/2)))\n",
    "z_beta = abs(norm.ppf(1-beta_))"
   ]
  },
  {
   "cell_type": "code",
   "execution_count": 78,
   "metadata": {},
   "outputs": [
    {
     "data": {
      "text/plain": [
       "1191"
      ]
     },
     "execution_count": 78,
     "metadata": {},
     "output_type": "execute_result"
    }
   ],
   "source": [
    "n_task2 = math.ceil(((z_alpha+z_beta)**2)/(((math.log(HR)-margin)**2)*p1*p2))\n",
    "n_task2"
   ]
  },
  {
   "cell_type": "code",
   "execution_count": 92,
   "metadata": {},
   "outputs": [
    {
     "data": {
      "text/plain": [
       "2382"
      ]
     },
     "execution_count": 92,
     "metadata": {},
     "output_type": "execute_result"
    }
   ],
   "source": [
    "n_task2_for2groups = n_task2*2\n",
    "n_task2_for2groups"
   ]
  },
  {
   "cell_type": "code",
   "execution_count": 93,
   "metadata": {},
   "outputs": [
    {
     "data": {
      "text/plain": [
       "2647"
      ]
     },
     "execution_count": 93,
     "metadata": {},
     "output_type": "execute_result"
    }
   ],
   "source": [
    "n_dropout = math.ceil(n_task2_for2groups/(1-dropout_rate))\n",
    "n_dropout"
   ]
  },
  {
   "cell_type": "code",
   "execution_count": 119,
   "metadata": {},
   "outputs": [
    {
     "name": "stdout",
     "output_type": "stream",
     "text": [
      "Размер выборки, чтобы показать статистически значимое различие при мощности 80%: 2648\n"
     ]
    }
   ],
   "source": [
    "print(\"Размер выборки, чтобы показать статистически значимое различие при мощности 80%:\", n_dropout+1)"
   ]
  },
  {
   "cell_type": "markdown",
   "metadata": {},
   "source": [
    "Задача 3"
   ]
  },
  {
   "cell_type": "code",
   "execution_count": 121,
   "metadata": {},
   "outputs": [],
   "source": [
    "dropout_rate3 = 0.1"
   ]
  },
  {
   "cell_type": "code",
   "execution_count": 122,
   "metadata": {},
   "outputs": [
    {
     "data": {
      "text/plain": [
       "560"
      ]
     },
     "execution_count": 122,
     "metadata": {},
     "output_type": "execute_result"
    }
   ],
   "source": [
    "n_for2_groups"
   ]
  },
  {
   "cell_type": "code",
   "execution_count": 123,
   "metadata": {},
   "outputs": [
    {
     "data": {
      "text/plain": [
       "2382"
      ]
     },
     "execution_count": 123,
     "metadata": {},
     "output_type": "execute_result"
    }
   ],
   "source": [
    "n_task2_for2groups"
   ]
  },
  {
   "cell_type": "markdown",
   "metadata": {},
   "source": [
    "Cценарий I: успех исследования - хотя бы одна точка успешна"
   ]
  },
  {
   "cell_type": "code",
   "execution_count": 124,
   "metadata": {},
   "outputs": [
    {
     "name": "stdout",
     "output_type": "stream",
     "text": [
      "Необходимое количество субъектов для исследования: 2648\n"
     ]
    }
   ],
   "source": [
    "qty1 = max(n_for2_groups, n_task2_for2groups)\n",
    "\n",
    "QTY1 = math.ceil(qty1/(1-dropout_rate3))\n",
    "\n",
    "print('Необходимое количество субъектов для исследования:', QTY1+1)"
   ]
  },
  {
   "cell_type": "markdown",
   "metadata": {},
   "source": [
    "сценарий II: успех исследования - обе точки успешны"
   ]
  },
  {
   "cell_type": "code",
   "execution_count": 110,
   "metadata": {},
   "outputs": [],
   "source": [
    "alpha_ = 0.05 \n",
    "beta3_ = 0.1\n",
    "power_ = 1-beta3_\n",
    "dropout_rate3 = 0.1\n",
    "TheNew_p = 0.65\n",
    "TheGold_p = 0.53\n"
   ]
  },
  {
   "cell_type": "code",
   "execution_count": 111,
   "metadata": {},
   "outputs": [],
   "source": [
    "Q1 = 1-TheNew_p\n",
    "Q2 = 1-TheGold_p\n",
    "p_mean = (TheGold_p+TheNew_p)/2\n",
    "Q_mean = 1 - p_mean"
   ]
  },
  {
   "cell_type": "code",
   "execution_count": 112,
   "metadata": {},
   "outputs": [],
   "source": [
    "z_alpha_3 = abs(norm.ppf(alpha_/2))\n",
    "z_beta3 = abs(norm.ppf(beta3_))"
   ]
  },
  {
   "cell_type": "markdown",
   "metadata": {},
   "source": [
    "Для 1 точки:"
   ]
  },
  {
   "cell_type": "code",
   "execution_count": 113,
   "metadata": {},
   "outputs": [
    {
     "data": {
      "text/plain": [
       "368"
      ]
     },
     "execution_count": 113,
     "metadata": {},
     "output_type": "execute_result"
    }
   ],
   "source": [
    "n31 = math.ceil((((z_alpha_3*(2*p_mean*Q_mean)**0.5)+z_beta3*((TheNew_p*Q1+TheGold_p*Q2)**0.5))**2)/((TheNew_p-TheGold_p)**2))\n",
    "n31_2 = math.ceil(n31/4*((1+(1+4/(n31*abs(TheNew_p-TheGold_p)))**0.5)**2))\n",
    "n31_2"
   ]
  },
  {
   "cell_type": "code",
   "execution_count": 114,
   "metadata": {},
   "outputs": [
    {
     "data": {
      "text/plain": [
       "736"
      ]
     },
     "execution_count": 114,
     "metadata": {},
     "output_type": "execute_result"
    }
   ],
   "source": [
    "n_task31_for2groups = n31_2*2\n",
    "n_task31_for2groups"
   ]
  },
  {
   "cell_type": "markdown",
   "metadata": {},
   "source": [
    "Для 2 точки:"
   ]
  },
  {
   "cell_type": "code",
   "execution_count": 127,
   "metadata": {},
   "outputs": [],
   "source": [
    "alpha4 = 0.05 \n",
    "beta4 = 0.1\n",
    "power_ = 1-beta4\n",
    "dropout_rate4 = 0.1\n",
    "margin4 = 0.1\n",
    "HR4 = 1.3\n",
    "p41 = 0.5\n",
    "p42 = 0.5"
   ]
  },
  {
   "cell_type": "code",
   "execution_count": 128,
   "metadata": {},
   "outputs": [],
   "source": [
    "z_alpha4 = abs(norm.ppf((alpha4/2)))\n",
    "z_beta4 = abs(norm.ppf(1-beta4))"
   ]
  },
  {
   "cell_type": "code",
   "execution_count": 131,
   "metadata": {},
   "outputs": [
    {
     "data": {
      "text/plain": [
       "1595"
      ]
     },
     "execution_count": 131,
     "metadata": {},
     "output_type": "execute_result"
    }
   ],
   "source": [
    "n_task32 = math.ceil(((z_alpha4+z_beta4)**2)/(((math.log(HR4)-margin4)**2)*p41*p42))\n",
    "n_task32"
   ]
  },
  {
   "cell_type": "code",
   "execution_count": 132,
   "metadata": {},
   "outputs": [
    {
     "data": {
      "text/plain": [
       "3190"
      ]
     },
     "execution_count": 132,
     "metadata": {},
     "output_type": "execute_result"
    }
   ],
   "source": [
    "n_task32_for2groups = n_task32*2\n",
    "n_task32_for2groups"
   ]
  },
  {
   "cell_type": "code",
   "execution_count": 134,
   "metadata": {},
   "outputs": [
    {
     "name": "stdout",
     "output_type": "stream",
     "text": [
      "Необходимое количество субъектов для исследования: 3546\n"
     ]
    }
   ],
   "source": [
    "qty2 = max(n_task31_for2groups, n_task32_for2groups)\n",
    "\n",
    "QTY2 = math.ceil(qty2/(1-dropout_rate3))\n",
    "\n",
    "print('Необходимое количество субъектов для исследования:', QTY2+1)"
   ]
  }
 ],
 "metadata": {
  "kernelspec": {
   "display_name": "Python 3.9.10 64-bit",
   "language": "python",
   "name": "python3"
  },
  "language_info": {
   "codemirror_mode": {
    "name": "ipython",
    "version": 3
   },
   "file_extension": ".py",
   "mimetype": "text/x-python",
   "name": "python",
   "nbconvert_exporter": "python",
   "pygments_lexer": "ipython3",
   "version": "3.9.10"
  },
  "orig_nbformat": 4,
  "vscode": {
   "interpreter": {
    "hash": "8be91b611dbf82fc7c2195f7ad87c066fa09caee77a40ad7d16104ae6fa91d17"
   }
  }
 },
 "nbformat": 4,
 "nbformat_minor": 2
}
