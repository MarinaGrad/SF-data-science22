{
 "cells": [
  {
   "cell_type": "code",
   "execution_count": 92,
   "metadata": {},
   "outputs": [],
   "source": [
    "from scipy import stats\n",
    "from scipy.stats import norm\n",
    "import math\n",
    "import numpy as np\n",
    "import pandas as pd\n",
    "import matplotlib.pyplot as plt\n",
    "import statsmodels.stats.power as smp\n",
    "from pathlib import Path\n",
    "import seaborn as sns"
   ]
  },
  {
   "cell_type": "markdown",
   "metadata": {},
   "source": [
    "Задача 1"
   ]
  },
  {
   "cell_type": "code",
   "execution_count": null,
   "metadata": {},
   "outputs": [],
   "source": []
  },
  {
   "cell_type": "markdown",
   "metadata": {},
   "source": [
    "Задача 2"
   ]
  },
  {
   "cell_type": "code",
   "execution_count": 8,
   "metadata": {},
   "outputs": [],
   "source": [
    "alpha = 0.05 \n",
    "beta = 0.2\n",
    "power_ = 1-beta\n",
    "dropout_rate = 0.05\n",
    "std = 1200400\n",
    "mean_price1 = 10080000\n",
    "mean_price2 = 10065000\n",
    "mean_price3 = 10090000\n",
    "lambda_K = 9.64"
   ]
  },
  {
   "cell_type": "code",
   "execution_count": 3,
   "metadata": {},
   "outputs": [],
   "source": [
    "z_alpha = abs(norm.ppf((alpha/2)))\n",
    "z_beta = abs(norm.ppf(1-beta))"
   ]
  },
  {
   "cell_type": "code",
   "execution_count": 13,
   "metadata": {},
   "outputs": [
    {
     "data": {
      "text/plain": [
       "1440960160000"
      ]
     },
     "execution_count": 13,
     "metadata": {},
     "output_type": "execute_result"
    }
   ],
   "source": [
    "d = std**2\n",
    "d"
   ]
  },
  {
   "cell_type": "code",
   "execution_count": 14,
   "metadata": {},
   "outputs": [
    {
     "data": {
      "text/plain": [
       "10078333.333333334"
      ]
     },
     "execution_count": 14,
     "metadata": {},
     "output_type": "execute_result"
    }
   ],
   "source": [
    "average_meanprice = (mean_price1+mean_price2+mean_price3)/3\n",
    "average_meanprice"
   ]
  },
  {
   "cell_type": "code",
   "execution_count": 15,
   "metadata": {},
   "outputs": [
    {
     "data": {
      "text/plain": [
       "0.0002197608757390396"
      ]
     },
     "execution_count": 15,
     "metadata": {},
     "output_type": "execute_result"
    }
   ],
   "source": [
    "delta = (1/d)*((mean_price1-average_meanprice)**2 + (mean_price2-average_meanprice)**2+(mean_price3-average_meanprice)**2)\n",
    "delta"
   ]
  },
  {
   "cell_type": "code",
   "execution_count": 17,
   "metadata": {},
   "outputs": [
    {
     "data": {
      "text/plain": [
       "43865.86087073685"
      ]
     },
     "execution_count": 17,
     "metadata": {},
     "output_type": "execute_result"
    }
   ],
   "source": [
    "sample_size = lambda_K/delta\n",
    "sample_size"
   ]
  },
  {
   "cell_type": "code",
   "execution_count": 19,
   "metadata": {},
   "outputs": [
    {
     "data": {
      "text/plain": [
       "46175"
      ]
     },
     "execution_count": 19,
     "metadata": {},
     "output_type": "execute_result"
    }
   ],
   "source": [
    "sample_size_w_droupout = math.ceil(sample_size/(1-dropout_rate))\n",
    "sample_size_w_droupout"
   ]
  },
  {
   "cell_type": "markdown",
   "metadata": {},
   "source": [
    "Задача 3  - проценты округлите до сотых, всё остальное до целых."
   ]
  },
  {
   "cell_type": "code",
   "execution_count": 21,
   "metadata": {},
   "outputs": [
    {
     "data": {
      "text/html": [
       "<div>\n",
       "<style scoped>\n",
       "    .dataframe tbody tr th:only-of-type {\n",
       "        vertical-align: middle;\n",
       "    }\n",
       "\n",
       "    .dataframe tbody tr th {\n",
       "        vertical-align: top;\n",
       "    }\n",
       "\n",
       "    .dataframe thead th {\n",
       "        text-align: right;\n",
       "    }\n",
       "</style>\n",
       "<table border=\"1\" class=\"dataframe\">\n",
       "  <thead>\n",
       "    <tr style=\"text-align: right;\">\n",
       "      <th></th>\n",
       "      <th>Диллер</th>\n",
       "      <th>Цена продажи</th>\n",
       "      <th>Коробка передач</th>\n",
       "      <th>Специальный пакет</th>\n",
       "    </tr>\n",
       "  </thead>\n",
       "  <tbody>\n",
       "    <tr>\n",
       "      <th>0</th>\n",
       "      <td>Диллер 1</td>\n",
       "      <td>9.776203e+06</td>\n",
       "      <td>Гидротрансформатор</td>\n",
       "      <td>Безопасность</td>\n",
       "    </tr>\n",
       "    <tr>\n",
       "      <th>1</th>\n",
       "      <td>Диллер 1</td>\n",
       "      <td>9.780943e+06</td>\n",
       "      <td>Гидротрансформатор</td>\n",
       "      <td>Для плохих дорог</td>\n",
       "    </tr>\n",
       "    <tr>\n",
       "      <th>2</th>\n",
       "      <td>Диллер 1</td>\n",
       "      <td>9.750940e+06</td>\n",
       "      <td>Гидротрансформатор</td>\n",
       "      <td>Зимний</td>\n",
       "    </tr>\n",
       "    <tr>\n",
       "      <th>3</th>\n",
       "      <td>Диллер 1</td>\n",
       "      <td>9.794827e+06</td>\n",
       "      <td>Робот</td>\n",
       "      <td>Зимний</td>\n",
       "    </tr>\n",
       "    <tr>\n",
       "      <th>4</th>\n",
       "      <td>Диллер 1</td>\n",
       "      <td>9.774810e+06</td>\n",
       "      <td>Гидротрансформатор</td>\n",
       "      <td>Зимний</td>\n",
       "    </tr>\n",
       "  </tbody>\n",
       "</table>\n",
       "</div>"
      ],
      "text/plain": [
       "     Диллер  Цена продажи     Коробка передач Специальный пакет\n",
       "0  Диллер 1  9.776203e+06  Гидротрансформатор      Безопасность\n",
       "1  Диллер 1  9.780943e+06  Гидротрансформатор  Для плохих дорог\n",
       "2  Диллер 1  9.750940e+06  Гидротрансформатор            Зимний\n",
       "3  Диллер 1  9.794827e+06               Робот            Зимний\n",
       "4  Диллер 1  9.774810e+06  Гидротрансформатор            Зимний"
      ]
     },
     "execution_count": 21,
     "metadata": {},
     "output_type": "execute_result"
    }
   ],
   "source": [
    "task_5 = pd.read_csv('Dop.Task_3.csv')\n",
    "task_5.head(5)"
   ]
  },
  {
   "cell_type": "code",
   "execution_count": 22,
   "metadata": {},
   "outputs": [
    {
     "data": {
      "text/plain": [
       "Диллер 2    46190\n",
       "Диллер 1    46171\n",
       "Диллер 3    46164\n",
       "Name: Диллер, dtype: int64"
      ]
     },
     "execution_count": 22,
     "metadata": {},
     "output_type": "execute_result"
    }
   ],
   "source": [
    "number_of_deals = task_5['Диллер'].value_counts()\n",
    "number_of_deals"
   ]
  },
  {
   "cell_type": "code",
   "execution_count": 25,
   "metadata": {},
   "outputs": [
    {
     "name": "stderr",
     "output_type": "stream",
     "text": [
      "C:\\Users\\Марина\\AppData\\Local\\Temp\\ipykernel_5568\\3395324959.py:1: FutureWarning: The default value of numeric_only in DataFrameGroupBy.mean is deprecated. In a future version, numeric_only will default to False. Either specify numeric_only or select only columns which should be valid for the function.\n",
      "  dealer_av_price =  task_5.groupby(by='Диллер').mean()\n"
     ]
    },
    {
     "data": {
      "text/html": [
       "<div>\n",
       "<style scoped>\n",
       "    .dataframe tbody tr th:only-of-type {\n",
       "        vertical-align: middle;\n",
       "    }\n",
       "\n",
       "    .dataframe tbody tr th {\n",
       "        vertical-align: top;\n",
       "    }\n",
       "\n",
       "    .dataframe thead th {\n",
       "        text-align: right;\n",
       "    }\n",
       "</style>\n",
       "<table border=\"1\" class=\"dataframe\">\n",
       "  <thead>\n",
       "    <tr style=\"text-align: right;\">\n",
       "      <th></th>\n",
       "      <th>Цена продажи</th>\n",
       "    </tr>\n",
       "    <tr>\n",
       "      <th>Диллер</th>\n",
       "      <th></th>\n",
       "    </tr>\n",
       "  </thead>\n",
       "  <tbody>\n",
       "    <tr>\n",
       "      <th>Диллер 1</th>\n",
       "      <td>9.777551e+06</td>\n",
       "    </tr>\n",
       "    <tr>\n",
       "      <th>Диллер 2</th>\n",
       "      <td>1.006507e+07</td>\n",
       "    </tr>\n",
       "    <tr>\n",
       "      <th>Диллер 3</th>\n",
       "      <td>1.039269e+07</td>\n",
       "    </tr>\n",
       "  </tbody>\n",
       "</table>\n",
       "</div>"
      ],
      "text/plain": [
       "          Цена продажи\n",
       "Диллер                \n",
       "Диллер 1  9.777551e+06\n",
       "Диллер 2  1.006507e+07\n",
       "Диллер 3  1.039269e+07"
      ]
     },
     "execution_count": 25,
     "metadata": {},
     "output_type": "execute_result"
    }
   ],
   "source": [
    "dealer_av_price =  task_5.groupby(by='Диллер').mean()\n",
    "dealer_av_price"
   ]
  },
  {
   "cell_type": "code",
   "execution_count": 51,
   "metadata": {},
   "outputs": [
    {
     "name": "stderr",
     "output_type": "stream",
     "text": [
      "C:\\Users\\Марина\\AppData\\Local\\Temp\\ipykernel_5568\\3210336036.py:1: FutureWarning: The default value of numeric_only in DataFrameGroupBy.std is deprecated. In a future version, numeric_only will default to False. Either specify numeric_only or select only columns which should be valid for the function.\n",
      "  std_dealer = task_5.groupby(by='Диллер').std().round(0)\n"
     ]
    },
    {
     "data": {
      "text/html": [
       "<div>\n",
       "<style scoped>\n",
       "    .dataframe tbody tr th:only-of-type {\n",
       "        vertical-align: middle;\n",
       "    }\n",
       "\n",
       "    .dataframe tbody tr th {\n",
       "        vertical-align: top;\n",
       "    }\n",
       "\n",
       "    .dataframe thead th {\n",
       "        text-align: right;\n",
       "    }\n",
       "</style>\n",
       "<table border=\"1\" class=\"dataframe\">\n",
       "  <thead>\n",
       "    <tr style=\"text-align: right;\">\n",
       "      <th></th>\n",
       "      <th>Цена продажи</th>\n",
       "    </tr>\n",
       "    <tr>\n",
       "      <th>Диллер</th>\n",
       "      <th></th>\n",
       "    </tr>\n",
       "  </thead>\n",
       "  <tbody>\n",
       "    <tr>\n",
       "      <th>Диллер 1</th>\n",
       "      <td>11982.0</td>\n",
       "    </tr>\n",
       "    <tr>\n",
       "      <th>Диллер 2</th>\n",
       "      <td>6199.0</td>\n",
       "    </tr>\n",
       "    <tr>\n",
       "      <th>Диллер 3</th>\n",
       "      <td>1720.0</td>\n",
       "    </tr>\n",
       "  </tbody>\n",
       "</table>\n",
       "</div>"
      ],
      "text/plain": [
       "          Цена продажи\n",
       "Диллер                \n",
       "Диллер 1       11982.0\n",
       "Диллер 2        6199.0\n",
       "Диллер 3        1720.0"
      ]
     },
     "execution_count": 51,
     "metadata": {},
     "output_type": "execute_result"
    }
   ],
   "source": [
    "std_dealer = task_5.groupby(by='Диллер').std().round(0)\n",
    "std_dealer"
   ]
  },
  {
   "cell_type": "code",
   "execution_count": 27,
   "metadata": {},
   "outputs": [
    {
     "name": "stderr",
     "output_type": "stream",
     "text": [
      "C:\\Users\\Марина\\AppData\\Local\\Temp\\ipykernel_5568\\388845629.py:1: FutureWarning: The default value of numeric_only in DataFrameGroupBy.median is deprecated. In a future version, numeric_only will default to False. Either specify numeric_only or select only columns which should be valid for the function.\n",
      "  median_dealer = task_5.groupby(by='Диллер').median()\n"
     ]
    },
    {
     "data": {
      "text/html": [
       "<div>\n",
       "<style scoped>\n",
       "    .dataframe tbody tr th:only-of-type {\n",
       "        vertical-align: middle;\n",
       "    }\n",
       "\n",
       "    .dataframe tbody tr th {\n",
       "        vertical-align: top;\n",
       "    }\n",
       "\n",
       "    .dataframe thead th {\n",
       "        text-align: right;\n",
       "    }\n",
       "</style>\n",
       "<table border=\"1\" class=\"dataframe\">\n",
       "  <thead>\n",
       "    <tr style=\"text-align: right;\">\n",
       "      <th></th>\n",
       "      <th>Цена продажи</th>\n",
       "    </tr>\n",
       "    <tr>\n",
       "      <th>Диллер</th>\n",
       "      <th></th>\n",
       "    </tr>\n",
       "  </thead>\n",
       "  <tbody>\n",
       "    <tr>\n",
       "      <th>Диллер 1</th>\n",
       "      <td>9.777618e+06</td>\n",
       "    </tr>\n",
       "    <tr>\n",
       "      <th>Диллер 2</th>\n",
       "      <td>1.006501e+07</td>\n",
       "    </tr>\n",
       "    <tr>\n",
       "      <th>Диллер 3</th>\n",
       "      <td>1.039269e+07</td>\n",
       "    </tr>\n",
       "  </tbody>\n",
       "</table>\n",
       "</div>"
      ],
      "text/plain": [
       "          Цена продажи\n",
       "Диллер                \n",
       "Диллер 1  9.777618e+06\n",
       "Диллер 2  1.006501e+07\n",
       "Диллер 3  1.039269e+07"
      ]
     },
     "execution_count": 27,
     "metadata": {},
     "output_type": "execute_result"
    }
   ],
   "source": [
    "median_dealer = task_5.groupby(by='Диллер').median()\n",
    "median_dealer"
   ]
  },
  {
   "cell_type": "code",
   "execution_count": 29,
   "metadata": {},
   "outputs": [
    {
     "data": {
      "text/plain": [
       "Диллер\n",
       "Диллер 1    9.729560e+06\n",
       "Диллер 2    9.770356e+06\n",
       "Диллер 3    1.038541e+07\n",
       "Name: Цена продажи, dtype: float64"
      ]
     },
     "execution_count": 29,
     "metadata": {},
     "output_type": "execute_result"
    }
   ],
   "source": [
    "minprice_dealer = task_5.groupby(by='Диллер').min()['Цена продажи']\n",
    "minprice_dealer"
   ]
  },
  {
   "cell_type": "code",
   "execution_count": 30,
   "metadata": {},
   "outputs": [
    {
     "data": {
      "text/plain": [
       "Диллер\n",
       "Диллер 1    9.829872e+06\n",
       "Диллер 2    1.039687e+07\n",
       "Диллер 3    1.039996e+07\n",
       "Name: Цена продажи, dtype: float64"
      ]
     },
     "execution_count": 30,
     "metadata": {},
     "output_type": "execute_result"
    }
   ],
   "source": [
    "maxprice_dealer = task_5.groupby(by='Диллер').max()['Цена продажи']\n",
    "maxprice_dealer"
   ]
  },
  {
   "cell_type": "code",
   "execution_count": 32,
   "metadata": {},
   "outputs": [
    {
     "name": "stderr",
     "output_type": "stream",
     "text": [
      "C:\\Users\\Марина\\AppData\\Local\\Temp\\ipykernel_5568\\4121198372.py:1: FutureWarning: The default value of numeric_only in DataFrameGroupBy.quantile is deprecated. In a future version, numeric_only will default to False. Either specify numeric_only or select only columns which should be valid for the function.\n",
      "  quant75_dealer = task_5.groupby(by='Диллер').quantile(0.75)['Цена продажи']\n"
     ]
    },
    {
     "data": {
      "text/plain": [
       "Диллер\n",
       "Диллер 1    9.785670e+06\n",
       "Диллер 2    1.006664e+07\n",
       "Диллер 3    1.039385e+07\n",
       "Name: Цена продажи, dtype: float64"
      ]
     },
     "execution_count": 32,
     "metadata": {},
     "output_type": "execute_result"
    }
   ],
   "source": [
    "quant75_dealer = task_5.groupby(by='Диллер').quantile(0.75)['Цена продажи']\n",
    "quant75_dealer"
   ]
  },
  {
   "cell_type": "code",
   "execution_count": 33,
   "metadata": {},
   "outputs": [
    {
     "name": "stderr",
     "output_type": "stream",
     "text": [
      "C:\\Users\\Марина\\AppData\\Local\\Temp\\ipykernel_5568\\4017526620.py:1: FutureWarning: The default value of numeric_only in DataFrameGroupBy.quantile is deprecated. In a future version, numeric_only will default to False. Either specify numeric_only or select only columns which should be valid for the function.\n",
      "  quant25_dealer = task_5.groupby(by='Диллер').quantile(0.25)['Цена продажи']\n"
     ]
    },
    {
     "data": {
      "text/plain": [
       "Диллер\n",
       "Диллер 1    9.769468e+06\n",
       "Диллер 2    1.006342e+07\n",
       "Диллер 3    1.039154e+07\n",
       "Name: Цена продажи, dtype: float64"
      ]
     },
     "execution_count": 33,
     "metadata": {},
     "output_type": "execute_result"
    }
   ],
   "source": [
    "quant25_dealer = task_5.groupby(by='Диллер').quantile(0.25)['Цена продажи']\n",
    "quant25_dealer"
   ]
  },
  {
   "cell_type": "code",
   "execution_count": 53,
   "metadata": {},
   "outputs": [
    {
     "data": {
      "text/plain": [
       "Диллер\n",
       "Диллер 1    16202.0\n",
       "Диллер 2     3220.0\n",
       "Диллер 3     2316.0\n",
       "Name: Цена продажи, dtype: float64"
      ]
     },
     "execution_count": 53,
     "metadata": {},
     "output_type": "execute_result"
    }
   ],
   "source": [
    "interq_dealer = (quant75_dealer-quant25_dealer).round(0)\n",
    "interq_dealer"
   ]
  },
  {
   "cell_type": "markdown",
   "metadata": {},
   "source": [
    "Абсолютное и относительное количество купленных машин с каждым типом коробки передач у каждого дилера;\n"
   ]
  },
  {
   "cell_type": "code",
   "execution_count": 54,
   "metadata": {},
   "outputs": [
    {
     "data": {
      "text/html": [
       "<div>\n",
       "<style scoped>\n",
       "    .dataframe tbody tr th:only-of-type {\n",
       "        vertical-align: middle;\n",
       "    }\n",
       "\n",
       "    .dataframe tbody tr th {\n",
       "        vertical-align: top;\n",
       "    }\n",
       "\n",
       "    .dataframe thead th {\n",
       "        text-align: right;\n",
       "    }\n",
       "</style>\n",
       "<table border=\"1\" class=\"dataframe\">\n",
       "  <thead>\n",
       "    <tr style=\"text-align: right;\">\n",
       "      <th></th>\n",
       "      <th>Диллер</th>\n",
       "      <th>Цена продажи</th>\n",
       "      <th>Коробка передач</th>\n",
       "      <th>Специальный пакет</th>\n",
       "    </tr>\n",
       "  </thead>\n",
       "  <tbody>\n",
       "    <tr>\n",
       "      <th>0</th>\n",
       "      <td>Диллер 1</td>\n",
       "      <td>9.776203e+06</td>\n",
       "      <td>Гидротрансформатор</td>\n",
       "      <td>Безопасность</td>\n",
       "    </tr>\n",
       "    <tr>\n",
       "      <th>1</th>\n",
       "      <td>Диллер 1</td>\n",
       "      <td>9.780943e+06</td>\n",
       "      <td>Гидротрансформатор</td>\n",
       "      <td>Для плохих дорог</td>\n",
       "    </tr>\n",
       "    <tr>\n",
       "      <th>2</th>\n",
       "      <td>Диллер 1</td>\n",
       "      <td>9.750940e+06</td>\n",
       "      <td>Гидротрансформатор</td>\n",
       "      <td>Зимний</td>\n",
       "    </tr>\n",
       "    <tr>\n",
       "      <th>3</th>\n",
       "      <td>Диллер 1</td>\n",
       "      <td>9.794827e+06</td>\n",
       "      <td>Робот</td>\n",
       "      <td>Зимний</td>\n",
       "    </tr>\n",
       "    <tr>\n",
       "      <th>4</th>\n",
       "      <td>Диллер 1</td>\n",
       "      <td>9.774810e+06</td>\n",
       "      <td>Гидротрансформатор</td>\n",
       "      <td>Зимний</td>\n",
       "    </tr>\n",
       "    <tr>\n",
       "      <th>...</th>\n",
       "      <td>...</td>\n",
       "      <td>...</td>\n",
       "      <td>...</td>\n",
       "      <td>...</td>\n",
       "    </tr>\n",
       "    <tr>\n",
       "      <th>46166</th>\n",
       "      <td>Диллер 1</td>\n",
       "      <td>9.781199e+06</td>\n",
       "      <td>Механика</td>\n",
       "      <td>Зимний</td>\n",
       "    </tr>\n",
       "    <tr>\n",
       "      <th>46167</th>\n",
       "      <td>Диллер 1</td>\n",
       "      <td>9.782096e+06</td>\n",
       "      <td>Робот</td>\n",
       "      <td>Зимний</td>\n",
       "    </tr>\n",
       "    <tr>\n",
       "      <th>46168</th>\n",
       "      <td>Диллер 1</td>\n",
       "      <td>9.773048e+06</td>\n",
       "      <td>Робот</td>\n",
       "      <td>Зимний</td>\n",
       "    </tr>\n",
       "    <tr>\n",
       "      <th>46169</th>\n",
       "      <td>Диллер 1</td>\n",
       "      <td>9.789612e+06</td>\n",
       "      <td>Гидротрансформатор</td>\n",
       "      <td>Безопасность</td>\n",
       "    </tr>\n",
       "    <tr>\n",
       "      <th>46170</th>\n",
       "      <td>Диллер 1</td>\n",
       "      <td>9.792755e+06</td>\n",
       "      <td>Гидротрансформатор</td>\n",
       "      <td>Для плохих дорог</td>\n",
       "    </tr>\n",
       "  </tbody>\n",
       "</table>\n",
       "<p>46171 rows × 4 columns</p>\n",
       "</div>"
      ],
      "text/plain": [
       "         Диллер  Цена продажи     Коробка передач Специальный пакет\n",
       "0      Диллер 1  9.776203e+06  Гидротрансформатор      Безопасность\n",
       "1      Диллер 1  9.780943e+06  Гидротрансформатор  Для плохих дорог\n",
       "2      Диллер 1  9.750940e+06  Гидротрансформатор            Зимний\n",
       "3      Диллер 1  9.794827e+06               Робот            Зимний\n",
       "4      Диллер 1  9.774810e+06  Гидротрансформатор            Зимний\n",
       "...         ...           ...                 ...               ...\n",
       "46166  Диллер 1  9.781199e+06            Механика            Зимний\n",
       "46167  Диллер 1  9.782096e+06               Робот            Зимний\n",
       "46168  Диллер 1  9.773048e+06               Робот            Зимний\n",
       "46169  Диллер 1  9.789612e+06  Гидротрансформатор      Безопасность\n",
       "46170  Диллер 1  9.792755e+06  Гидротрансформатор  Для плохих дорог\n",
       "\n",
       "[46171 rows x 4 columns]"
      ]
     },
     "execution_count": 54,
     "metadata": {},
     "output_type": "execute_result"
    }
   ],
   "source": [
    "dealer1 = task_5[task_5['Диллер']=='Диллер 1']\n",
    "dealer1"
   ]
  },
  {
   "cell_type": "code",
   "execution_count": 55,
   "metadata": {},
   "outputs": [
    {
     "data": {
      "text/html": [
       "<div>\n",
       "<style scoped>\n",
       "    .dataframe tbody tr th:only-of-type {\n",
       "        vertical-align: middle;\n",
       "    }\n",
       "\n",
       "    .dataframe tbody tr th {\n",
       "        vertical-align: top;\n",
       "    }\n",
       "\n",
       "    .dataframe thead th {\n",
       "        text-align: right;\n",
       "    }\n",
       "</style>\n",
       "<table border=\"1\" class=\"dataframe\">\n",
       "  <thead>\n",
       "    <tr style=\"text-align: right;\">\n",
       "      <th></th>\n",
       "      <th>Диллер</th>\n",
       "      <th>Цена продажи</th>\n",
       "      <th>Коробка передач</th>\n",
       "      <th>Специальный пакет</th>\n",
       "    </tr>\n",
       "  </thead>\n",
       "  <tbody>\n",
       "    <tr>\n",
       "      <th>46171</th>\n",
       "      <td>Диллер 2</td>\n",
       "      <td>9.778213e+06</td>\n",
       "      <td>Механика</td>\n",
       "      <td>Безопасность</td>\n",
       "    </tr>\n",
       "    <tr>\n",
       "      <th>46172</th>\n",
       "      <td>Диллер 2</td>\n",
       "      <td>9.792250e+06</td>\n",
       "      <td>Механика</td>\n",
       "      <td>Зимний</td>\n",
       "    </tr>\n",
       "    <tr>\n",
       "      <th>46173</th>\n",
       "      <td>Диллер 2</td>\n",
       "      <td>9.770356e+06</td>\n",
       "      <td>Гидротрансформатор</td>\n",
       "      <td>Зимний</td>\n",
       "    </tr>\n",
       "    <tr>\n",
       "      <th>46174</th>\n",
       "      <td>Диллер 2</td>\n",
       "      <td>9.774460e+06</td>\n",
       "      <td>Гидротрансформатор</td>\n",
       "      <td>Для плохих дорог</td>\n",
       "    </tr>\n",
       "    <tr>\n",
       "      <th>46175</th>\n",
       "      <td>Диллер 2</td>\n",
       "      <td>1.006451e+07</td>\n",
       "      <td>Гидротрансформатор</td>\n",
       "      <td>Безопасность</td>\n",
       "    </tr>\n",
       "    <tr>\n",
       "      <th>...</th>\n",
       "      <td>...</td>\n",
       "      <td>...</td>\n",
       "      <td>...</td>\n",
       "      <td>...</td>\n",
       "    </tr>\n",
       "    <tr>\n",
       "      <th>92356</th>\n",
       "      <td>Диллер 2</td>\n",
       "      <td>1.039493e+07</td>\n",
       "      <td>Гидротрансформатор</td>\n",
       "      <td>Безопасность</td>\n",
       "    </tr>\n",
       "    <tr>\n",
       "      <th>92357</th>\n",
       "      <td>Диллер 2</td>\n",
       "      <td>1.039236e+07</td>\n",
       "      <td>Гидротрансформатор</td>\n",
       "      <td>Для плохих дорог</td>\n",
       "    </tr>\n",
       "    <tr>\n",
       "      <th>92358</th>\n",
       "      <td>Диллер 2</td>\n",
       "      <td>1.039460e+07</td>\n",
       "      <td>Механика</td>\n",
       "      <td>Зимний</td>\n",
       "    </tr>\n",
       "    <tr>\n",
       "      <th>92359</th>\n",
       "      <td>Диллер 2</td>\n",
       "      <td>1.039290e+07</td>\n",
       "      <td>Гидротрансформатор</td>\n",
       "      <td>Зимний</td>\n",
       "    </tr>\n",
       "    <tr>\n",
       "      <th>92360</th>\n",
       "      <td>Диллер 2</td>\n",
       "      <td>1.039239e+07</td>\n",
       "      <td>Гидротрансформатор</td>\n",
       "      <td>Безопасность</td>\n",
       "    </tr>\n",
       "  </tbody>\n",
       "</table>\n",
       "<p>46190 rows × 4 columns</p>\n",
       "</div>"
      ],
      "text/plain": [
       "         Диллер  Цена продажи     Коробка передач Специальный пакет\n",
       "46171  Диллер 2  9.778213e+06            Механика      Безопасность\n",
       "46172  Диллер 2  9.792250e+06            Механика            Зимний\n",
       "46173  Диллер 2  9.770356e+06  Гидротрансформатор            Зимний\n",
       "46174  Диллер 2  9.774460e+06  Гидротрансформатор  Для плохих дорог\n",
       "46175  Диллер 2  1.006451e+07  Гидротрансформатор      Безопасность\n",
       "...         ...           ...                 ...               ...\n",
       "92356  Диллер 2  1.039493e+07  Гидротрансформатор      Безопасность\n",
       "92357  Диллер 2  1.039236e+07  Гидротрансформатор  Для плохих дорог\n",
       "92358  Диллер 2  1.039460e+07            Механика            Зимний\n",
       "92359  Диллер 2  1.039290e+07  Гидротрансформатор            Зимний\n",
       "92360  Диллер 2  1.039239e+07  Гидротрансформатор      Безопасность\n",
       "\n",
       "[46190 rows x 4 columns]"
      ]
     },
     "execution_count": 55,
     "metadata": {},
     "output_type": "execute_result"
    }
   ],
   "source": [
    "dealer2 = task_5[task_5['Диллер']=='Диллер 2']\n",
    "dealer2"
   ]
  },
  {
   "cell_type": "code",
   "execution_count": 56,
   "metadata": {},
   "outputs": [
    {
     "data": {
      "text/html": [
       "<div>\n",
       "<style scoped>\n",
       "    .dataframe tbody tr th:only-of-type {\n",
       "        vertical-align: middle;\n",
       "    }\n",
       "\n",
       "    .dataframe tbody tr th {\n",
       "        vertical-align: top;\n",
       "    }\n",
       "\n",
       "    .dataframe thead th {\n",
       "        text-align: right;\n",
       "    }\n",
       "</style>\n",
       "<table border=\"1\" class=\"dataframe\">\n",
       "  <thead>\n",
       "    <tr style=\"text-align: right;\">\n",
       "      <th></th>\n",
       "      <th>Диллер</th>\n",
       "      <th>Цена продажи</th>\n",
       "      <th>Коробка передач</th>\n",
       "      <th>Специальный пакет</th>\n",
       "    </tr>\n",
       "  </thead>\n",
       "  <tbody>\n",
       "    <tr>\n",
       "      <th>92361</th>\n",
       "      <td>Диллер 3</td>\n",
       "      <td>1.039357e+07</td>\n",
       "      <td>Механика</td>\n",
       "      <td>Зимний</td>\n",
       "    </tr>\n",
       "    <tr>\n",
       "      <th>92362</th>\n",
       "      <td>Диллер 3</td>\n",
       "      <td>1.039427e+07</td>\n",
       "      <td>Механика</td>\n",
       "      <td>Зимний</td>\n",
       "    </tr>\n",
       "    <tr>\n",
       "      <th>92363</th>\n",
       "      <td>Диллер 3</td>\n",
       "      <td>1.039393e+07</td>\n",
       "      <td>Механика</td>\n",
       "      <td>Зимний</td>\n",
       "    </tr>\n",
       "    <tr>\n",
       "      <th>92364</th>\n",
       "      <td>Диллер 3</td>\n",
       "      <td>1.039147e+07</td>\n",
       "      <td>Гидротрансформатор</td>\n",
       "      <td>Зимний</td>\n",
       "    </tr>\n",
       "    <tr>\n",
       "      <th>92365</th>\n",
       "      <td>Диллер 3</td>\n",
       "      <td>1.039475e+07</td>\n",
       "      <td>Гидротрансформатор</td>\n",
       "      <td>Зимний</td>\n",
       "    </tr>\n",
       "    <tr>\n",
       "      <th>...</th>\n",
       "      <td>...</td>\n",
       "      <td>...</td>\n",
       "      <td>...</td>\n",
       "      <td>...</td>\n",
       "    </tr>\n",
       "    <tr>\n",
       "      <th>138520</th>\n",
       "      <td>Диллер 3</td>\n",
       "      <td>1.039121e+07</td>\n",
       "      <td>Робот</td>\n",
       "      <td>Зимний</td>\n",
       "    </tr>\n",
       "    <tr>\n",
       "      <th>138521</th>\n",
       "      <td>Диллер 3</td>\n",
       "      <td>1.039218e+07</td>\n",
       "      <td>Робот</td>\n",
       "      <td>Зимний</td>\n",
       "    </tr>\n",
       "    <tr>\n",
       "      <th>138522</th>\n",
       "      <td>Диллер 3</td>\n",
       "      <td>1.039234e+07</td>\n",
       "      <td>Робот</td>\n",
       "      <td>Безопасность</td>\n",
       "    </tr>\n",
       "    <tr>\n",
       "      <th>138523</th>\n",
       "      <td>Диллер 3</td>\n",
       "      <td>1.039127e+07</td>\n",
       "      <td>Гидротрансформатор</td>\n",
       "      <td>Для плохих дорог</td>\n",
       "    </tr>\n",
       "    <tr>\n",
       "      <th>138524</th>\n",
       "      <td>Диллер 3</td>\n",
       "      <td>1.038859e+07</td>\n",
       "      <td>Робот</td>\n",
       "      <td>Зимний</td>\n",
       "    </tr>\n",
       "  </tbody>\n",
       "</table>\n",
       "<p>46164 rows × 4 columns</p>\n",
       "</div>"
      ],
      "text/plain": [
       "          Диллер  Цена продажи     Коробка передач Специальный пакет\n",
       "92361   Диллер 3  1.039357e+07            Механика            Зимний\n",
       "92362   Диллер 3  1.039427e+07            Механика            Зимний\n",
       "92363   Диллер 3  1.039393e+07            Механика            Зимний\n",
       "92364   Диллер 3  1.039147e+07  Гидротрансформатор            Зимний\n",
       "92365   Диллер 3  1.039475e+07  Гидротрансформатор            Зимний\n",
       "...          ...           ...                 ...               ...\n",
       "138520  Диллер 3  1.039121e+07               Робот            Зимний\n",
       "138521  Диллер 3  1.039218e+07               Робот            Зимний\n",
       "138522  Диллер 3  1.039234e+07               Робот      Безопасность\n",
       "138523  Диллер 3  1.039127e+07  Гидротрансформатор  Для плохих дорог\n",
       "138524  Диллер 3  1.038859e+07               Робот            Зимний\n",
       "\n",
       "[46164 rows x 4 columns]"
      ]
     },
     "execution_count": 56,
     "metadata": {},
     "output_type": "execute_result"
    }
   ],
   "source": [
    "dealer3 = task_5[task_5['Диллер']=='Диллер 3']\n",
    "dealer3"
   ]
  },
  {
   "cell_type": "code",
   "execution_count": 40,
   "metadata": {},
   "outputs": [
    {
     "data": {
      "text/plain": [
       "Гидротрансформатор    18606\n",
       "Робот                 18417\n",
       "Механика               9148\n",
       "Name: Коробка передач, dtype: int64"
      ]
     },
     "execution_count": 40,
     "metadata": {},
     "output_type": "execute_result"
    }
   ],
   "source": [
    "gear1 = dealer1['Коробка передач'].value_counts()\n",
    "gear1"
   ]
  },
  {
   "cell_type": "code",
   "execution_count": 45,
   "metadata": {},
   "outputs": [
    {
     "data": {
      "text/plain": [
       "Гидротрансформатор    40.30\n",
       "Робот                 39.89\n",
       "Механика              19.81\n",
       "Name: Коробка передач, dtype: float64"
      ]
     },
     "execution_count": 45,
     "metadata": {},
     "output_type": "execute_result"
    }
   ],
   "source": [
    "gear1 = (dealer1['Коробка передач'].value_counts(normalize=True)*100).round(2)\n",
    "gear1"
   ]
  },
  {
   "cell_type": "code",
   "execution_count": 49,
   "metadata": {},
   "outputs": [
    {
     "data": {
      "text/plain": [
       "Гидротрансформатор    18554\n",
       "Робот                 18320\n",
       "Механика               9316\n",
       "Name: Коробка передач, dtype: int64"
      ]
     },
     "execution_count": 49,
     "metadata": {},
     "output_type": "execute_result"
    }
   ],
   "source": [
    "gear2 = dealer2['Коробка передач'].value_counts()\n",
    "gear2"
   ]
  },
  {
   "cell_type": "code",
   "execution_count": 48,
   "metadata": {},
   "outputs": [
    {
     "data": {
      "text/plain": [
       "Гидротрансформатор    40.17\n",
       "Робот                 39.66\n",
       "Механика              20.17\n",
       "Name: Коробка передач, dtype: float64"
      ]
     },
     "execution_count": 48,
     "metadata": {},
     "output_type": "execute_result"
    }
   ],
   "source": [
    "gear2 = (dealer2['Коробка передач'].value_counts(normalize=True)*100).round(2)\n",
    "gear2"
   ]
  },
  {
   "cell_type": "code",
   "execution_count": 47,
   "metadata": {},
   "outputs": [
    {
     "data": {
      "text/plain": [
       "Гидротрансформатор    18471\n",
       "Робот                 18349\n",
       "Механика               9344\n",
       "Name: Коробка передач, dtype: int64"
      ]
     },
     "execution_count": 47,
     "metadata": {},
     "output_type": "execute_result"
    }
   ],
   "source": [
    "gear3 = dealer3['Коробка передач'].value_counts()\n",
    "gear3"
   ]
  },
  {
   "cell_type": "code",
   "execution_count": 46,
   "metadata": {},
   "outputs": [
    {
     "data": {
      "text/plain": [
       "Гидротрансформатор    40.01\n",
       "Робот                 39.75\n",
       "Механика              20.24\n",
       "Name: Коробка передач, dtype: float64"
      ]
     },
     "execution_count": 46,
     "metadata": {},
     "output_type": "execute_result"
    }
   ],
   "source": [
    "gear3 = (dealer3['Коробка передач'].value_counts(normalize=True)*100).round(2)\n",
    "gear3"
   ]
  },
  {
   "cell_type": "markdown",
   "metadata": {},
   "source": [
    "\n",
    "Абсолютное и относительное количество купленных машин на механике с пакетом «Зимний» у каждого дилера."
   ]
  },
  {
   "cell_type": "code",
   "execution_count": null,
   "metadata": {},
   "outputs": [],
   "source": [
    "mech_dealer1 = task_5[(task_5['Коробка передач']=='Механика') & (task_5['Диллер']=='Диллер 1') & (task_5['Специальный пакет']=='Зимний')]\n",
    "mech_dealer1"
   ]
  },
  {
   "cell_type": "code",
   "execution_count": null,
   "metadata": {},
   "outputs": [],
   "source": [
    "mech_dealer2 = task_5[(task_5['Коробка передач']=='Механика') & (task_5['Диллер']=='Диллер 2') & (task_5['Специальный пакет']=='Зимний')]\n",
    "mech_dealer2"
   ]
  },
  {
   "cell_type": "code",
   "execution_count": null,
   "metadata": {},
   "outputs": [],
   "source": [
    "mech_dealer3 = task_5[(task_5['Коробка передач']=='Механика') & (task_5['Диллер']=='Диллер 3') & (task_5['Специальный пакет']=='Зимний')]\n",
    "mech_dealer3"
   ]
  },
  {
   "cell_type": "code",
   "execution_count": 63,
   "metadata": {},
   "outputs": [
    {
     "data": {
      "text/plain": [
       "5494"
      ]
     },
     "execution_count": 63,
     "metadata": {},
     "output_type": "execute_result"
    }
   ],
   "source": [
    "cars_dealer1 = mech_dealer1.shape[0]\n",
    "cars_dealer1"
   ]
  },
  {
   "cell_type": "code",
   "execution_count": 64,
   "metadata": {},
   "outputs": [
    {
     "data": {
      "text/plain": [
       "5529"
      ]
     },
     "execution_count": 64,
     "metadata": {},
     "output_type": "execute_result"
    }
   ],
   "source": [
    "cars_dealer2 = mech_dealer2.shape[0]\n",
    "cars_dealer2"
   ]
  },
  {
   "cell_type": "code",
   "execution_count": 65,
   "metadata": {},
   "outputs": [
    {
     "data": {
      "text/plain": [
       "5713"
      ]
     },
     "execution_count": 65,
     "metadata": {},
     "output_type": "execute_result"
    }
   ],
   "source": [
    "cars_dealer3 = mech_dealer3.shape[0]\n",
    "cars_dealer3"
   ]
  },
  {
   "cell_type": "code",
   "execution_count": 67,
   "metadata": {},
   "outputs": [
    {
     "data": {
      "text/plain": [
       "46171"
      ]
     },
     "execution_count": 67,
     "metadata": {},
     "output_type": "execute_result"
    }
   ],
   "source": [
    "number_of_deals = task_5['Диллер'].value_counts()\n",
    "number_of_deals['Диллер 1']"
   ]
  },
  {
   "cell_type": "code",
   "execution_count": 70,
   "metadata": {},
   "outputs": [
    {
     "data": {
      "text/plain": [
       "11.9"
      ]
     },
     "execution_count": 70,
     "metadata": {},
     "output_type": "execute_result"
    }
   ],
   "source": [
    "share_mechcars1 = (cars_dealer1/number_of_deals['Диллер 1']*100).round(2)\n",
    "share_mechcars1"
   ]
  },
  {
   "cell_type": "code",
   "execution_count": 71,
   "metadata": {},
   "outputs": [
    {
     "data": {
      "text/plain": [
       "11.97"
      ]
     },
     "execution_count": 71,
     "metadata": {},
     "output_type": "execute_result"
    }
   ],
   "source": [
    "share_mechcars2 = (cars_dealer2/number_of_deals['Диллер 2']*100).round(2)\n",
    "share_mechcars2"
   ]
  },
  {
   "cell_type": "code",
   "execution_count": 72,
   "metadata": {},
   "outputs": [
    {
     "data": {
      "text/plain": [
       "12.38"
      ]
     },
     "execution_count": 72,
     "metadata": {},
     "output_type": "execute_result"
    }
   ],
   "source": [
    "share_mechcars3 = (cars_dealer3/number_of_deals['Диллер 3']*100).round(2)\n",
    "share_mechcars3"
   ]
  },
  {
   "cell_type": "markdown",
   "metadata": {},
   "source": [
    "Задача 4"
   ]
  },
  {
   "cell_type": "code",
   "execution_count": null,
   "metadata": {},
   "outputs": [],
   "source": [
    "task_5 = pd.read_csv('Dop.Task_3.csv')\n",
    "task_5.head(5)"
   ]
  },
  {
   "cell_type": "code",
   "execution_count": 74,
   "metadata": {},
   "outputs": [
    {
     "data": {
      "text/plain": [
       "<AxesSubplot: >"
      ]
     },
     "execution_count": 74,
     "metadata": {},
     "output_type": "execute_result"
    },
    {
     "data": {
      "image/png": "[encoded data removed]",
      "text/plain": [
       "<Figure size 640x480 with 1 Axes>"
      ]
     },
     "metadata": {},
     "output_type": "display_data"
    }
   ],
   "source": [
    "task_5['Цена продажи'].plot.box()"
   ]
  },
  {
   "cell_type": "code",
   "execution_count": 84,
   "metadata": {},
   "outputs": [
    {
     "data": {
      "text/plain": [
       "Цена продажи    AxesSubplot(0.125,0.11;0.775x0.77)\n",
       "dtype: object"
      ]
     },
     "execution_count": 84,
     "metadata": {},
     "output_type": "execute_result"
    },
    {
     "data": {
      "image/png": "[encoded data removed]",
      "text/plain": [
       "<Figure size 1000x1000 with 1 Axes>"
      ]
     },
     "metadata": {},
     "output_type": "display_data"
    }
   ],
   "source": [
    "fig,ax = plt.subplots(figsize = (10,10))\n",
    "task_5.plot.box(by = 'Диллер', ax=ax)\n"
   ]
  },
  {
   "cell_type": "code",
   "execution_count": 85,
   "metadata": {},
   "outputs": [
    {
     "data": {
      "text/html": [
       "<div>\n",
       "<style scoped>\n",
       "    .dataframe tbody tr th:only-of-type {\n",
       "        vertical-align: middle;\n",
       "    }\n",
       "\n",
       "    .dataframe tbody tr th {\n",
       "        vertical-align: top;\n",
       "    }\n",
       "\n",
       "    .dataframe thead th {\n",
       "        text-align: right;\n",
       "    }\n",
       "</style>\n",
       "<table border=\"1\" class=\"dataframe\">\n",
       "  <thead>\n",
       "    <tr style=\"text-align: right;\">\n",
       "      <th></th>\n",
       "      <th>Диллер</th>\n",
       "      <th>Цена продажи</th>\n",
       "      <th>Коробка передач</th>\n",
       "      <th>Специальный пакет</th>\n",
       "    </tr>\n",
       "  </thead>\n",
       "  <tbody>\n",
       "    <tr>\n",
       "      <th>0</th>\n",
       "      <td>Диллер 1</td>\n",
       "      <td>9.776203e+06</td>\n",
       "      <td>Гидротрансформатор</td>\n",
       "      <td>Безопасность</td>\n",
       "    </tr>\n",
       "    <tr>\n",
       "      <th>1</th>\n",
       "      <td>Диллер 1</td>\n",
       "      <td>9.780943e+06</td>\n",
       "      <td>Гидротрансформатор</td>\n",
       "      <td>Для плохих дорог</td>\n",
       "    </tr>\n",
       "    <tr>\n",
       "      <th>2</th>\n",
       "      <td>Диллер 1</td>\n",
       "      <td>9.750940e+06</td>\n",
       "      <td>Гидротрансформатор</td>\n",
       "      <td>Зимний</td>\n",
       "    </tr>\n",
       "    <tr>\n",
       "      <th>3</th>\n",
       "      <td>Диллер 1</td>\n",
       "      <td>9.794827e+06</td>\n",
       "      <td>Робот</td>\n",
       "      <td>Зимний</td>\n",
       "    </tr>\n",
       "    <tr>\n",
       "      <th>4</th>\n",
       "      <td>Диллер 1</td>\n",
       "      <td>9.774810e+06</td>\n",
       "      <td>Гидротрансформатор</td>\n",
       "      <td>Зимний</td>\n",
       "    </tr>\n",
       "  </tbody>\n",
       "</table>\n",
       "</div>"
      ],
      "text/plain": [
       "     Диллер  Цена продажи     Коробка передач Специальный пакет\n",
       "0  Диллер 1  9.776203e+06  Гидротрансформатор      Безопасность\n",
       "1  Диллер 1  9.780943e+06  Гидротрансформатор  Для плохих дорог\n",
       "2  Диллер 1  9.750940e+06  Гидротрансформатор            Зимний\n",
       "3  Диллер 1  9.794827e+06               Робот            Зимний\n",
       "4  Диллер 1  9.774810e+06  Гидротрансформатор            Зимний"
      ]
     },
     "execution_count": 85,
     "metadata": {},
     "output_type": "execute_result"
    }
   ],
   "source": [
    "task_5 = pd.read_csv('Dop.Task_3.csv')\n",
    "task_5.head(5)"
   ]
  },
  {
   "cell_type": "code",
   "execution_count": 115,
   "metadata": {},
   "outputs": [
    {
     "data": {
      "text/html": [
       "<div>\n",
       "<style scoped>\n",
       "    .dataframe tbody tr th:only-of-type {\n",
       "        vertical-align: middle;\n",
       "    }\n",
       "\n",
       "    .dataframe tbody tr th {\n",
       "        vertical-align: top;\n",
       "    }\n",
       "\n",
       "    .dataframe thead th {\n",
       "        text-align: right;\n",
       "    }\n",
       "</style>\n",
       "<table border=\"1\" class=\"dataframe\">\n",
       "  <thead>\n",
       "    <tr style=\"text-align: right;\">\n",
       "      <th></th>\n",
       "      <th>Диллер</th>\n",
       "      <th>Коробка передач</th>\n",
       "      <th>Цена продажи</th>\n",
       "      <th>count</th>\n",
       "    </tr>\n",
       "  </thead>\n",
       "  <tbody>\n",
       "    <tr>\n",
       "      <th>1</th>\n",
       "      <td>Диллер 1</td>\n",
       "      <td>Механика</td>\n",
       "      <td>9148</td>\n",
       "      <td>9148</td>\n",
       "    </tr>\n",
       "    <tr>\n",
       "      <th>4</th>\n",
       "      <td>Диллер 2</td>\n",
       "      <td>Механика</td>\n",
       "      <td>9316</td>\n",
       "      <td>9316</td>\n",
       "    </tr>\n",
       "    <tr>\n",
       "      <th>7</th>\n",
       "      <td>Диллер 3</td>\n",
       "      <td>Механика</td>\n",
       "      <td>9344</td>\n",
       "      <td>9344</td>\n",
       "    </tr>\n",
       "    <tr>\n",
       "      <th>5</th>\n",
       "      <td>Диллер 2</td>\n",
       "      <td>Робот</td>\n",
       "      <td>18320</td>\n",
       "      <td>18320</td>\n",
       "    </tr>\n",
       "    <tr>\n",
       "      <th>8</th>\n",
       "      <td>Диллер 3</td>\n",
       "      <td>Робот</td>\n",
       "      <td>18349</td>\n",
       "      <td>18349</td>\n",
       "    </tr>\n",
       "    <tr>\n",
       "      <th>2</th>\n",
       "      <td>Диллер 1</td>\n",
       "      <td>Робот</td>\n",
       "      <td>18417</td>\n",
       "      <td>18417</td>\n",
       "    </tr>\n",
       "    <tr>\n",
       "      <th>6</th>\n",
       "      <td>Диллер 3</td>\n",
       "      <td>Гидротрансформатор</td>\n",
       "      <td>18471</td>\n",
       "      <td>18471</td>\n",
       "    </tr>\n",
       "    <tr>\n",
       "      <th>3</th>\n",
       "      <td>Диллер 2</td>\n",
       "      <td>Гидротрансформатор</td>\n",
       "      <td>18554</td>\n",
       "      <td>18554</td>\n",
       "    </tr>\n",
       "    <tr>\n",
       "      <th>0</th>\n",
       "      <td>Диллер 1</td>\n",
       "      <td>Гидротрансформатор</td>\n",
       "      <td>18606</td>\n",
       "      <td>18606</td>\n",
       "    </tr>\n",
       "  </tbody>\n",
       "</table>\n",
       "</div>"
      ],
      "text/plain": [
       "     Диллер     Коробка передач  Цена продажи  count\n",
       "1  Диллер 1            Механика          9148   9148\n",
       "4  Диллер 2            Механика          9316   9316\n",
       "7  Диллер 3            Механика          9344   9344\n",
       "5  Диллер 2               Робот         18320  18320\n",
       "8  Диллер 3               Робот         18349  18349\n",
       "2  Диллер 1               Робот         18417  18417\n",
       "6  Диллер 3  Гидротрансформатор         18471  18471\n",
       "3  Диллер 2  Гидротрансформатор         18554  18554\n",
       "0  Диллер 1  Гидротрансформатор         18606  18606"
      ]
     },
     "execution_count": 115,
     "metadata": {},
     "output_type": "execute_result"
    }
   ],
   "source": [
    "gear_by_dealer = task_5.groupby(by=['Диллер', 'Коробка передач']\n",
    "                                ).count().reset_index().rename({'Специальный пакет': 'count'}, axis = 1).sort_values(by='count')\n",
    "gear_by_dealer"
   ]
  },
  {
   "cell_type": "code",
   "execution_count": 116,
   "metadata": {},
   "outputs": [
    {
     "data": {
      "text/plain": [
       "<AxesSubplot: xlabel='Диллер', ylabel='count'>"
      ]
     },
     "execution_count": 116,
     "metadata": {},
     "output_type": "execute_result"
    },
    {
     "data": {
      "image/png": "[encoded data removed]",
      "text/plain": [
       "<Figure size 640x480 with 1 Axes>"
      ]
     },
     "metadata": {},
     "output_type": "display_data"
    }
   ],
   "source": [
    "sns.barplot(data = gear_by_dealer, y = 'count', x = 'Диллер', hue = 'Коробка передач') "
   ]
  },
  {
   "cell_type": "code",
   "execution_count": 122,
   "metadata": {},
   "outputs": [
    {
     "data": {
      "text/html": [
       "<div>\n",
       "<style scoped>\n",
       "    .dataframe tbody tr th:only-of-type {\n",
       "        vertical-align: middle;\n",
       "    }\n",
       "\n",
       "    .dataframe tbody tr th {\n",
       "        vertical-align: top;\n",
       "    }\n",
       "\n",
       "    .dataframe thead th {\n",
       "        text-align: right;\n",
       "    }\n",
       "</style>\n",
       "<table border=\"1\" class=\"dataframe\">\n",
       "  <thead>\n",
       "    <tr style=\"text-align: right;\">\n",
       "      <th></th>\n",
       "      <th>Диллер</th>\n",
       "      <th>Специальный пакет</th>\n",
       "      <th>Цена продажи</th>\n",
       "      <th>count</th>\n",
       "    </tr>\n",
       "  </thead>\n",
       "  <tbody>\n",
       "    <tr>\n",
       "      <th>1</th>\n",
       "      <td>Диллер 1</td>\n",
       "      <td>Для плохих дорог</td>\n",
       "      <td>4676</td>\n",
       "      <td>4676</td>\n",
       "    </tr>\n",
       "    <tr>\n",
       "      <th>0</th>\n",
       "      <td>Диллер 1</td>\n",
       "      <td>Безопасность</td>\n",
       "      <td>13922</td>\n",
       "      <td>13922</td>\n",
       "    </tr>\n",
       "    <tr>\n",
       "      <th>2</th>\n",
       "      <td>Диллер 1</td>\n",
       "      <td>Зимний</td>\n",
       "      <td>27573</td>\n",
       "      <td>27573</td>\n",
       "    </tr>\n",
       "    <tr>\n",
       "      <th>4</th>\n",
       "      <td>Диллер 2</td>\n",
       "      <td>Для плохих дорог</td>\n",
       "      <td>4697</td>\n",
       "      <td>4697</td>\n",
       "    </tr>\n",
       "    <tr>\n",
       "      <th>3</th>\n",
       "      <td>Диллер 2</td>\n",
       "      <td>Безопасность</td>\n",
       "      <td>13914</td>\n",
       "      <td>13914</td>\n",
       "    </tr>\n",
       "    <tr>\n",
       "      <th>5</th>\n",
       "      <td>Диллер 2</td>\n",
       "      <td>Зимний</td>\n",
       "      <td>27579</td>\n",
       "      <td>27579</td>\n",
       "    </tr>\n",
       "    <tr>\n",
       "      <th>7</th>\n",
       "      <td>Диллер 3</td>\n",
       "      <td>Для плохих дорог</td>\n",
       "      <td>4430</td>\n",
       "      <td>4430</td>\n",
       "    </tr>\n",
       "    <tr>\n",
       "      <th>6</th>\n",
       "      <td>Диллер 3</td>\n",
       "      <td>Безопасность</td>\n",
       "      <td>13943</td>\n",
       "      <td>13943</td>\n",
       "    </tr>\n",
       "    <tr>\n",
       "      <th>8</th>\n",
       "      <td>Диллер 3</td>\n",
       "      <td>Зимний</td>\n",
       "      <td>27791</td>\n",
       "      <td>27791</td>\n",
       "    </tr>\n",
       "  </tbody>\n",
       "</table>\n",
       "</div>"
      ],
      "text/plain": [
       "     Диллер Специальный пакет  Цена продажи  count\n",
       "1  Диллер 1  Для плохих дорог          4676   4676\n",
       "0  Диллер 1      Безопасность         13922  13922\n",
       "2  Диллер 1            Зимний         27573  27573\n",
       "4  Диллер 2  Для плохих дорог          4697   4697\n",
       "3  Диллер 2      Безопасность         13914  13914\n",
       "5  Диллер 2            Зимний         27579  27579\n",
       "7  Диллер 3  Для плохих дорог          4430   4430\n",
       "6  Диллер 3      Безопасность         13943  13943\n",
       "8  Диллер 3            Зимний         27791  27791"
      ]
     },
     "execution_count": 122,
     "metadata": {},
     "output_type": "execute_result"
    }
   ],
   "source": [
    "specpac_by_dealer = task_5.groupby(by=['Диллер', 'Специальный пакет']\n",
    "                                ).count().reset_index().rename({'Коробка передач': 'count'}, axis = 1).sort_values(by=['Диллер', 'count'])\n",
    "specpac_by_dealer"
   ]
  },
  {
   "cell_type": "code",
   "execution_count": 123,
   "metadata": {},
   "outputs": [
    {
     "data": {
      "text/plain": [
       "<AxesSubplot: xlabel='Диллер', ylabel='count'>"
      ]
     },
     "execution_count": 123,
     "metadata": {},
     "output_type": "execute_result"
    },
    {
     "data": {
      "image/png": "[encoded data removed]",
      "text/plain": [
       "<Figure size 640x480 with 1 Axes>"
      ]
     },
     "metadata": {},
     "output_type": "display_data"
    }
   ],
   "source": [
    "sns.barplot(data = specpac_by_dealer, y = 'count', x = 'Диллер', hue = 'Специальный пакет') "
   ]
  },
  {
   "cell_type": "markdown",
   "metadata": {},
   "source": [
    "Задача 5"
   ]
  },
  {
   "cell_type": "code",
   "execution_count": null,
   "metadata": {},
   "outputs": [],
   "source": []
  }
 ],
 "metadata": {
  "kernelspec": {
   "display_name": "Python 3.9.10 64-bit",
   "language": "python",
   "name": "python3"
  },
  "language_info": {
   "codemirror_mode": {
    "name": "ipython",
    "version": 3
   },
   "file_extension": ".py",
   "mimetype": "text/x-python",
   "name": "python",
   "nbconvert_exporter": "python",
   "pygments_lexer": "ipython3",
   "version": "3.9.10"
  },
  "orig_nbformat": 4,
  "vscode": {
   "interpreter": {
    "hash": "8be91b611dbf82fc7c2195f7ad87c066fa09caee77a40ad7d16104ae6fa91d17"
   }
  }
 },
 "nbformat": 4,
 "nbformat_minor": 2
}
