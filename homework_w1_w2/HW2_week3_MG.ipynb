{
  "cells": [
    {
      "cell_type": "markdown",
      "metadata": {
        "id": "2GJcyIoN4arc"
      },
      "source": [
        "#Reversed integer"
      ]
    },
    {
      "cell_type": "markdown",
      "metadata": {
        "id": "nDpM0sXf4dv5"
      },
      "source": [
        "Вам дано число целого типа ``a``. Вам необходимо написать функцию, которая принимает это число на вход, а на выход выдает целое число, цифры в котором записаны в обратном порядке.\n",
        "\n",
        "\n",
        "**Sample Input 1:**\n",
        "\n",
        "``\n",
        "a = 123\n",
        "``\n",
        "\n",
        "**Sample Output 1:**\n",
        "\n",
        "``321``\n",
        "\n",
        "**Sample Input 2:**\n",
        "\n",
        "``\n",
        "a = 120\n",
        "``\n",
        "\n",
        "**Sample Output 2:**\n",
        "\n",
        "``21``\n",
        "\n",
        "**Sample Input 3:**\n",
        "\n",
        "``\n",
        "-123\n",
        "``\n",
        "\n",
        "**Sample Output 3:**\n",
        "\n",
        "``321``"
      ]
    },
    {
      "cell_type": "code",
      "execution_count": null,
      "metadata": {
        "id": "zy1TNSPU6ARi"
      },
      "outputs": [],
      "source": [
        "def reverse_number(number):\n",
        "    number = abs(number)\n",
        "    number = str(number)\n",
        "    reverse_number = number[::-1]\n",
        "    reverse_number = int(reverse_number)\n",
        "    return reverse_number\n",
        "\n",
        "reverse_number(-123)"
      ]
    },
    {
      "cell_type": "markdown",
      "metadata": {
        "id": "XCyOXwf7qjtY"
      },
      "source": []
    },
    {
      "cell_type": "markdown",
      "metadata": {
        "id": "GT_lUMYz5YfQ"
      },
      "source": [
        "#Выколотый квадрат\n"
      ]
    },
    {
      "cell_type": "markdown",
      "metadata": {
        "id": "fHOx6Dnu5cEQ"
      },
      "source": [
        "Напишите функцию, которая принимает единственное число ``n: int``. Это число определяет длину стороны квадрата. Функция должна нарисовать квадрат из звездочек, при этом звездочки должны быть только на ребрах квадрата, центр должен быть выколот.\n",
        "\n",
        "**Sample Input 1:**\n",
        "\n",
        "``\n",
        "n = 5\n",
        "``\n",
        "\n",
        "**Sample Output 1:**\n",
        "```\n",
        "* * * * *\n",
        "*       *\n",
        "*       *\n",
        "*       *\n",
        "* * * * *\n",
        "\n",
        "```"
      ]
    },
    {
      "cell_type": "code",
      "execution_count": null,
      "metadata": {
        "id": "JUMn7OVK5_r0"
      },
      "outputs": [],
      "source": [
        "def make_square(n: int) -> str:\n",
        "    figure_1 = '*' * n + '\\n'\n",
        "    figure_2 = '*' + ' '* (n-2) + '*' + '\\n'\n",
        "    figure_3 = figure_2 * (n-2)\n",
        "    final_figure = figure_1 + figure_3 + figure_1 \n",
        "    return final_figure\n",
        "\n",
        "print(make_square(5))   "
      ]
    },
    {
      "cell_type": "markdown",
      "metadata": {
        "id": "8oZaq3fE6f79"
      },
      "source": [
        "#Пермутации"
      ]
    },
    {
      "cell_type": "markdown",
      "metadata": {
        "id": "ylJnUpIk6jrX"
      },
      "source": [
        "Вам дан массив с целыми числами ``nums``. Напишите функцию, которая принимает на вход данный массив и возвращает все возможные пермутации с данными числами. Возвращать массивы можно в любом порядке.\n",
        "\n",
        "**Sample Input 1:**\n",
        "\n",
        "``\n",
        "nums = [1,2,3]\n",
        "``\n",
        "\n",
        "**Sample Output 1:**\n",
        "\n",
        "``[[1,2,3],[1,3,2],[2,1,3],[2,3,1],[3,1,2],[3,2,1]]``\n",
        "\n",
        "**Sample Input 2:**\n",
        "\n",
        "``\n",
        "nums = [0,1]\n",
        "``\n",
        "\n",
        "**Sample Output 2:**\n",
        "\n",
        "``[[0,1],[1,0]]``\n",
        "\n",
        "**Sample Input 3:**\n",
        "\n",
        "``\n",
        "nums = [1]\n",
        "``\n",
        "\n",
        "**Sample Output 3:**\n",
        "\n",
        "``[[1]]``"
      ]
    },
    {
      "cell_type": "code",
      "execution_count": null,
      "metadata": {
        "id": "AzhJABzn7GYR"
      },
      "outputs": [],
      "source": [
        "import itertools\n",
        "def permutations(nums):\n",
        "    l1 = itertools.permutations(nums)\n",
        "    l1 = [list(elem) for elem in l1] # list generator \n",
        "    return l1\n",
        "\n",
        "nums =[1,2,3]\n",
        "permutations(nums)"
      ]
    },
    {
      "cell_type": "markdown",
      "metadata": {
        "id": "MDEu6tZQYATy"
      },
      "source": [
        "### Почти двойной факториал\n",
        "Дано натуральное $N \\leqslant 100$.  Выведите произведение всех чётных натуральных чисел, не превосходящих $N$."
      ]
    },
    {
      "cell_type": "code",
      "execution_count": 1,
      "metadata": {
        "id": "fjCKZc4Q6aId"
      },
      "outputs": [],
      "source": [
        "def almost_double_factorial(N):\n",
        "    mul = 1\n",
        "    for item in range(2, N, 2):\n",
        "      mul *= item \n",
        "    return mul"
      ]
    },
    {
      "cell_type": "code",
      "execution_count": 5,
      "metadata": {
        "id": "5GgcNVy1YAT0"
      },
      "outputs": [
        {
          "name": "stdout",
          "output_type": "stream",
          "text": [
            "342432247025119762482464328952081859751186750537191988279156544634880000000000\n"
          ]
        },
        {
          "ename": "AssertionError",
          "evalue": "Something is wrong! Please try again",
          "output_type": "error",
          "traceback": [
            "\u001b[1;31m---------------------------------------------------------------------------\u001b[0m",
            "\u001b[1;31mAssertionError\u001b[0m                            Traceback (most recent call last)",
            "Cell \u001b[1;32mIn [5], line 16\u001b[0m\n\u001b[0;32m     14\u001b[0m N_double_fact \u001b[38;5;241m=\u001b[39m almost_double_factorial(N)\n\u001b[0;32m     15\u001b[0m \u001b[38;5;28mprint\u001b[39m(N_double_fact)\n\u001b[1;32m---> 16\u001b[0m \u001b[38;5;28;01massert\u001b[39;00m N_double_fact \u001b[38;5;241m==\u001b[39m \u001b[38;5;241m34243224702511976248246432895208185975118675053719198827915654463488000000000000\u001b[39m, \u001b[38;5;124m\"\u001b[39m\u001b[38;5;124mSomething is wrong! Please try again\u001b[39m\u001b[38;5;124m\"\u001b[39m\n",
            "\u001b[1;31mAssertionError\u001b[0m: Something is wrong! Please try again"
          ]
        }
      ],
      "source": [
        "N = 25\n",
        "#YOUR CODE\n",
        "N_double_fact = almost_double_factorial(N)\n",
        "\n",
        "assert N_double_fact == 1961990553600, \"Something is wrong! Please try again\"\n",
        "\n",
        "N = 100\n",
        "N_double_fact = almost_double_factorial(N)\n",
        "print(N_double_fact)\n",
        "assert N_double_fact == 34243224702511976248246432895208185975118675053719198827915654463488000000000000, \"Something is wrong! Please try again\""
      ]
    },
    {
      "cell_type": "markdown",
      "metadata": {
        "id": "A57_204nYAT3"
      },
      "source": [
        "### Хитрая сортировка\n",
        "\n",
        "Пусть у нас есть следующий список, в котором элементы -- tuple из строк:\n",
        "\n",
        "``items = [('one', 'two'), ('three', 'four'), ('five', 'six'), ('string', 'a')]``\n",
        "\n",
        "Мы хотим отсортировать этот список по последней букве второго элемента каждого ``tuple``, т.е. получить такой список:\n",
        "\n",
        "``sorted_items = [('string', 'a'), ('one', 'two'), ('three', 'four'), ('five', 'six')]``.\n",
        "Что нужно вставить вместо \"###\" в следующем выражении, чтобы получить сортировку?\n",
        "\n",
        "``sorted_items = sorted(items, key=lambda x: ###)``"
      ]
    },
    {
      "cell_type": "code",
      "execution_count": null,
      "metadata": {
        "id": "SnIk7m_8YAT4"
      },
      "outputs": [],
      "source": [
        "items = [('one', 'two'), ('three', 'four'), ('five', 'six'), ('string', 'a')]\n",
        "\n",
        "sorted_items = #YOUR CODE\n",
        "                      \n",
        "assert sorted_items == [('string', 'a'), ('one', 'two'), ('three', 'four'), ('five', 'six')], \\\n",
        "\"Something is wrong! Please try again\""
      ]
    },
    {
      "cell_type": "markdown",
      "metadata": {
        "id": "f_ggknIxYAT7"
      },
      "source": [
        "### Еще строки\n",
        "\n",
        "Вашей программе на вход подаются три строки ``s, a, b``, состоящие из строчных латинских букв.\n",
        "За одну операцию вы можете заменить все вхождения строки ``a`` в строку ``s`` на строку ``b``.\n",
        "\n",
        "Например, ``s = \"abab\", a = \"ab\", b = \"ba\"``, тогда после выполнения одной операции строка ``s`` перейдет в строку ``\"baba\"``, после выполнения двух и операций – в строку ``\"bbaa\"``, и дальнейшие операции не будут изменять строку ``s``.\n",
        "\n",
        "Необходимо узнать, после какого минимального количества операций в строке ``s`` не останется вхождений строки ``a``. Если операций потребуется более 1000, выведите ``Impossible``.\n",
        "\n",
        "Выведите одно число – минимальное число операций, после применения которых в строке ``s`` не останется вхождений строки ``a``, или ``Impossible``, если операций потребуется более 1000.\n",
        "\n",
        "**Sample Input 1:**\n",
        "\n",
        "``\n",
        "ababa\n",
        "a\n",
        "b\n",
        "``\n",
        "\n",
        "**Sample Output 1:**\n",
        "\n",
        "``1``\n",
        "\n",
        "**Sample Input 2:**\n",
        "\n",
        "``ababa\n",
        "b\n",
        "a``\n",
        "\n",
        "**Sample Output 2:**\n",
        "\n",
        "``1``\n",
        "\n",
        "**Sample Input 3:**\n",
        "\n",
        "``ababa\n",
        "c\n",
        "c``\n",
        "\n",
        "**Sample Output 3:**\n",
        "\n",
        "``0``\n",
        "\n",
        "**Sample Input 4:**\n",
        "\n",
        "``ababac\n",
        "c\n",
        "c``\n",
        "\n",
        "**Sample Output 4:**\n",
        "\n",
        "``Impossible``\n"
      ]
    },
    {
      "cell_type": "code",
      "execution_count": null,
      "metadata": {
        "id": "JcLMmkF6YAT8"
      },
      "outputs": [],
      "source": [
        "def my_func(s,a,b):\n",
        "    #YOUR CODE\n",
        "    return None\n",
        "my_func(s, a, b)"
      ]
    },
    {
      "cell_type": "markdown",
      "metadata": {
        "id": "3QOrzr1_YAT_"
      },
      "source": [
        "### Создание массивов\n",
        "Дан массив $A[0,\\ldots,N-1]$. Напишите функцию, принимающую один обязательный аргумент A и один опциональный аргумент ``erase``, по умолчанию равный 1. Возвратите массив $B[0,\\ldots, N-1]$, где $B_i = A_0 + \\ldots + A_{i}$ --- массив частичных сумм массива $A$, предварительно удалив из массива $B$ все элементы, равные erase. Постарайтесь сделать это за линейное время без использования Numpy."
      ]
    },
    {
      "cell_type": "code",
      "execution_count": null,
      "metadata": {
        "id": "GSeVXF-xYAUA"
      },
      "outputs": [],
      "source": [
        "def cumsum_and_erase(<YOUR CODE>):\n",
        "    #YOUR CODE\n",
        "    \n",
        "    B = #YOUR CODE\n",
        "    return B\n",
        "\n",
        "A = [5, 1, 4, 5, 14]\n",
        "B = cumsum_and_erase(A, erase=10)\n",
        "\n",
        "assert B == [5, 6, 15, 29], \"Something is wrong! Please try again\""
      ]
    },
    {
      "cell_type": "markdown",
      "metadata": {
        "id": "xvOBFjavYAUD"
      },
      "source": [
        "### Обработка текста\n",
        "Дан список текстов, слова в которых разделены пробелами (можно считать, что знаков препинания нет). Часть слов является \"мусорными\": в них присутствуют цифры и спецсимволы. Отфильтруйте такие слова из каждого текста. Используйте функции ``str.split``, ``str.isalpha``, ``str.join``, а также [генератор filter](http://pythonicway.com/python-functinal-programming)."
      ]
    },
    {
      "cell_type": "code",
      "execution_count": null,
      "metadata": {
        "id": "GBzS-UHZYAUE"
      },
      "outputs": [],
      "source": [
        "sentences = ['1 thousand devils', 'My name is 9Pasha', 'Room #125 costs $100']\n",
        "\n",
        "def process(sentences):\n",
        "    #YOUR CODE\n",
        "    \n",
        "    result = #YOUR CODE\n",
        "    return result\n",
        "\n",
        "assert process(sentences) == ['thousand devils', 'My name is', 'Room costs'], \\\n",
        "\"Something is wrong! Please try again\""
      ]
    },
    {
      "cell_type": "markdown",
      "metadata": {
        "id": "lNCcTYSRow1j"
      },
      "source": [
        "#Расстояние Хэмминга"
      ]
    },
    {
      "cell_type": "markdown",
      "metadata": {
        "id": "8jfcOp6ckl30"
      },
      "source": [
        "Вам даны две строки, ``a`` и ``b`` одинаковой длины. Необходимо посчитать расстояние Хэмминга между ними, которое определяется как количество символов, которые не совпадают между двумя строками в одинаковой позиции.\n",
        "\n",
        "**Sample Input 1:**\n",
        "\n",
        "```\n",
        "a = 'AGCT'\n",
        "b = 'ACGT'\n",
        "hamming(a, b)\n",
        "```\n",
        "\n",
        "**Sample Output 1:**\n",
        "\n",
        "``2``"
      ]
    },
    {
      "cell_type": "code",
      "execution_count": null,
      "metadata": {
        "id": "d_IYhoPcg3Ru"
      },
      "outputs": [],
      "source": [
        "def hamming(#YOUR CODE):\n",
        "    #YOUR CODE\n",
        "    return\n",
        "\n",
        "assert hamming(\"AGCT\", \"ACGT\") == 2"
      ]
    },
    {
      "cell_type": "markdown",
      "metadata": {
        "id": "iA7EQgga9OB-"
      },
      "source": [
        "### Numpy"
      ]
    },
    {
      "cell_type": "code",
      "execution_count": null,
      "metadata": {
        "id": "HEFAaMjP9CRh"
      },
      "outputs": [],
      "source": [
        "import numpy as np\n",
        "import random\n",
        "import scipy.stats as sps"
      ]
    },
    {
      "cell_type": "markdown",
      "metadata": {
        "id": "6Bul4Uue9Ww9"
      },
      "source": [
        "### Задание 1\n",
        "В первой задаче вам предлагается перемножить две квадратные матрицы двумя способами -- без использования пакета ***numpy*** и с ним."
      ]
    },
    {
      "cell_type": "code",
      "execution_count": null,
      "metadata": {
        "id": "ClrydYj59XPc"
      },
      "outputs": [],
      "source": [
        "# Для генерации матриц используем фукнцию random -- она используется для генерации случайных объектов \n",
        "# функция sample создает случайную выборку. В качестве аргумента ей передается кортеж (i,j),  \n",
        "# здесь i -- число строк, j -- число столбцов.\n",
        "a = np.random.sample((100, 100))\n",
        "b = np.random.sample((100, 100))\n",
        "\n",
        "# Выведите размерность (ранг) каждой матрицы с помощью функции ndim.\n",
        "# Используйте функцию shape, что она вывела?\n",
        "\n",
        "# ========\n",
        "# Ваш код здесь\n",
        "# ========\n",
        "print(a)\n",
        "print(b)"
      ]
    },
    {
      "cell_type": "code",
      "execution_count": null,
      "metadata": {
        "id": "yeejqk_z9aXD"
      },
      "outputs": [],
      "source": [
        "def mult(a, b):\n",
        "    \"\"\"  \n",
        "    a: list of \"size\" lists, each contains \"size\" floats --- первая матрица-аргумент\n",
        "    b: list of \"size\" lists, each contains \"size\" floats --- вторая матрица-аргумент\n",
        "    return c: list of \"size\" lists, each contains \"size\" floats --- матрица, являющаяся результатом умножения матриц a и b\n",
        "    \n",
        "    Функция принимает на вход две матрицы: a и b размерностью size x size\n",
        "    Возвращает матрицу их произведения a * b = c \n",
        "\n",
        "    Реализуйте умножение матриц без использования функций из пакета numpy (может помочь функция zip)\n",
        "    \"\"\"\n",
        "    pass"
      ]
    },
    {
      "cell_type": "code",
      "execution_count": null,
      "metadata": {
        "id": "ul0QaXni9cAq"
      },
      "outputs": [],
      "source": [
        "def np_mult(a, b):\n",
        "    \"\"\"  \n",
        "    a: np.array[size, size]             --- первая матрица-аргумент\n",
        "    b: np.array[size, size] --- вторая матрица-аргумент\n",
        "    return c: np.array[size, size]       --- матрица, являющаяся результатом умножения матриц a и b\n",
        "    \n",
        "    Функция принимает на вход две матрицы: a и b размерностью size x size\n",
        "    Возвращает матрицу их произведения a * b = c \n",
        "\n",
        "    Реализуйте умножение матриц, используя функции из пакета numpy\n",
        "    \"\"\"\n",
        "    pass"
      ]
    },
    {
      "cell_type": "code",
      "execution_count": null,
      "metadata": {
        "id": "gFdt-Kbe9gWi"
      },
      "outputs": [],
      "source": [
        "%%time\n",
        "# засечем время работы функции без NumPy\n",
        "M1 = mult(a, b)"
      ]
    },
    {
      "cell_type": "code",
      "execution_count": null,
      "metadata": {
        "id": "F5QOtMj19h4n"
      },
      "outputs": [],
      "source": [
        "%%time\n",
        "# засечем время работы функции с NumPy\n",
        "M2 = np_mult(a, b)"
      ]
    },
    {
      "cell_type": "code",
      "execution_count": null,
      "metadata": {
        "id": "BTDTjNjk9i3s"
      },
      "outputs": [],
      "source": [
        "# проверим корректность\n",
        "assert np.allclose(np.array(M1), M2)"
      ]
    },
    {
      "cell_type": "code",
      "execution_count": null,
      "metadata": {
        "id": "bLQ-E_mC9j6D"
      },
      "outputs": [],
      "source": []
    }
  ],
  "metadata": {
    "colab": {
      "collapsed_sections": [],
      "provenance": []
    },
    "kernelspec": {
      "display_name": "Python 3.9.10 64-bit (system)",
      "language": "python",
      "name": "python3"
    },
    "language_info": {
      "codemirror_mode": {
        "name": "ipython",
        "version": 3
      },
      "file_extension": ".py",
      "mimetype": "text/x-python",
      "name": "python",
      "nbconvert_exporter": "python",
      "pygments_lexer": "ipython3",
      "version": "3.9.10"
    },
    "vscode": {
      "interpreter": {
        "hash": "8be91b611dbf82fc7c2195f7ad87c066fa09caee77a40ad7d16104ae6fa91d17"
      }
    }
  },
  "nbformat": 4,
  "nbformat_minor": 0
}
